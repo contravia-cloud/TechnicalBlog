{
 "cells": [
  {
   "cell_type": "markdown",
   "metadata": {
    "colab_type": "text",
    "id": "5n2sFaE5T3H-"
   },
   "source": [
    "# I. Missing Value(결측치)"
   ]
  },
  {
   "cell_type": "markdown",
   "metadata": {
    "colab_type": "text",
    "id": "znQmUbeMgbGN"
   },
   "source": [
    "NA : not abailable\n",
    "\n",
    "NAN : not a number\n",
    "1. 결측치 확인\n",
    "2. 뺄건지 넣을 건지\n",
    "\n",
    "데이터 정제, domain knowledge 가 있어야 뺄건지 넣을 건지 알 수 있다.\n"
   ]
  },
  {
   "cell_type": "markdown",
   "metadata": {
    "colab_type": "text",
    "id": "PtqX780iOh8l"
   },
   "source": [
    "> ## 1) 실습용 'titanic' 데이터셋\n",
    "\n",
    "* 'age' 및 'deck' 열(Column)에서 결측치(NaN) 확인"
   ]
  },
  {
   "cell_type": "code",
   "execution_count": 1,
   "metadata": {
    "colab": {
     "base_uri": "https://localhost:8080/",
     "height": 379
    },
    "colab_type": "code",
    "executionInfo": {
     "elapsed": 1003,
     "status": "ok",
     "timestamp": 1596190561042,
     "user": {
      "displayName": "contravia@naver.com",
      "photoUrl": "",
      "userId": "04072428075549197225"
     },
     "user_tz": -540
    },
    "id": "w7QZkkK8TwHf",
    "outputId": "ef8fbb64-8c54-416b-ead3-52a3a7dd127a"
   },
   "outputs": [
    {
     "data": {
      "text/html": [
       "<div>\n",
       "<style scoped>\n",
       "    .dataframe tbody tr th:only-of-type {\n",
       "        vertical-align: middle;\n",
       "    }\n",
       "\n",
       "    .dataframe tbody tr th {\n",
       "        vertical-align: top;\n",
       "    }\n",
       "\n",
       "    .dataframe thead th {\n",
       "        text-align: right;\n",
       "    }\n",
       "</style>\n",
       "<table border=\"1\" class=\"dataframe\">\n",
       "  <thead>\n",
       "    <tr style=\"text-align: right;\">\n",
       "      <th></th>\n",
       "      <th>survived</th>\n",
       "      <th>pclass</th>\n",
       "      <th>sex</th>\n",
       "      <th>age</th>\n",
       "      <th>sibsp</th>\n",
       "      <th>parch</th>\n",
       "      <th>fare</th>\n",
       "      <th>embarked</th>\n",
       "      <th>class</th>\n",
       "      <th>who</th>\n",
       "      <th>adult_male</th>\n",
       "      <th>deck</th>\n",
       "      <th>embark_town</th>\n",
       "      <th>alive</th>\n",
       "      <th>alone</th>\n",
       "    </tr>\n",
       "  </thead>\n",
       "  <tbody>\n",
       "    <tr>\n",
       "      <th>0</th>\n",
       "      <td>0</td>\n",
       "      <td>3</td>\n",
       "      <td>male</td>\n",
       "      <td>22.0</td>\n",
       "      <td>1</td>\n",
       "      <td>0</td>\n",
       "      <td>7.2500</td>\n",
       "      <td>S</td>\n",
       "      <td>Third</td>\n",
       "      <td>man</td>\n",
       "      <td>True</td>\n",
       "      <td>NaN</td>\n",
       "      <td>Southampton</td>\n",
       "      <td>no</td>\n",
       "      <td>False</td>\n",
       "    </tr>\n",
       "    <tr>\n",
       "      <th>1</th>\n",
       "      <td>1</td>\n",
       "      <td>1</td>\n",
       "      <td>female</td>\n",
       "      <td>38.0</td>\n",
       "      <td>1</td>\n",
       "      <td>0</td>\n",
       "      <td>71.2833</td>\n",
       "      <td>C</td>\n",
       "      <td>First</td>\n",
       "      <td>woman</td>\n",
       "      <td>False</td>\n",
       "      <td>C</td>\n",
       "      <td>Cherbourg</td>\n",
       "      <td>yes</td>\n",
       "      <td>False</td>\n",
       "    </tr>\n",
       "    <tr>\n",
       "      <th>2</th>\n",
       "      <td>1</td>\n",
       "      <td>3</td>\n",
       "      <td>female</td>\n",
       "      <td>26.0</td>\n",
       "      <td>0</td>\n",
       "      <td>0</td>\n",
       "      <td>7.9250</td>\n",
       "      <td>S</td>\n",
       "      <td>Third</td>\n",
       "      <td>woman</td>\n",
       "      <td>False</td>\n",
       "      <td>NaN</td>\n",
       "      <td>Southampton</td>\n",
       "      <td>yes</td>\n",
       "      <td>True</td>\n",
       "    </tr>\n",
       "    <tr>\n",
       "      <th>3</th>\n",
       "      <td>1</td>\n",
       "      <td>1</td>\n",
       "      <td>female</td>\n",
       "      <td>35.0</td>\n",
       "      <td>1</td>\n",
       "      <td>0</td>\n",
       "      <td>53.1000</td>\n",
       "      <td>S</td>\n",
       "      <td>First</td>\n",
       "      <td>woman</td>\n",
       "      <td>False</td>\n",
       "      <td>C</td>\n",
       "      <td>Southampton</td>\n",
       "      <td>yes</td>\n",
       "      <td>False</td>\n",
       "    </tr>\n",
       "    <tr>\n",
       "      <th>4</th>\n",
       "      <td>0</td>\n",
       "      <td>3</td>\n",
       "      <td>male</td>\n",
       "      <td>35.0</td>\n",
       "      <td>0</td>\n",
       "      <td>0</td>\n",
       "      <td>8.0500</td>\n",
       "      <td>S</td>\n",
       "      <td>Third</td>\n",
       "      <td>man</td>\n",
       "      <td>True</td>\n",
       "      <td>NaN</td>\n",
       "      <td>Southampton</td>\n",
       "      <td>no</td>\n",
       "      <td>True</td>\n",
       "    </tr>\n",
       "    <tr>\n",
       "      <th>5</th>\n",
       "      <td>0</td>\n",
       "      <td>3</td>\n",
       "      <td>male</td>\n",
       "      <td>NaN</td>\n",
       "      <td>0</td>\n",
       "      <td>0</td>\n",
       "      <td>8.4583</td>\n",
       "      <td>Q</td>\n",
       "      <td>Third</td>\n",
       "      <td>man</td>\n",
       "      <td>True</td>\n",
       "      <td>NaN</td>\n",
       "      <td>Queenstown</td>\n",
       "      <td>no</td>\n",
       "      <td>True</td>\n",
       "    </tr>\n",
       "    <tr>\n",
       "      <th>6</th>\n",
       "      <td>0</td>\n",
       "      <td>1</td>\n",
       "      <td>male</td>\n",
       "      <td>54.0</td>\n",
       "      <td>0</td>\n",
       "      <td>0</td>\n",
       "      <td>51.8625</td>\n",
       "      <td>S</td>\n",
       "      <td>First</td>\n",
       "      <td>man</td>\n",
       "      <td>True</td>\n",
       "      <td>E</td>\n",
       "      <td>Southampton</td>\n",
       "      <td>no</td>\n",
       "      <td>True</td>\n",
       "    </tr>\n",
       "    <tr>\n",
       "      <th>7</th>\n",
       "      <td>0</td>\n",
       "      <td>3</td>\n",
       "      <td>male</td>\n",
       "      <td>2.0</td>\n",
       "      <td>3</td>\n",
       "      <td>1</td>\n",
       "      <td>21.0750</td>\n",
       "      <td>S</td>\n",
       "      <td>Third</td>\n",
       "      <td>child</td>\n",
       "      <td>False</td>\n",
       "      <td>NaN</td>\n",
       "      <td>Southampton</td>\n",
       "      <td>no</td>\n",
       "      <td>False</td>\n",
       "    </tr>\n",
       "    <tr>\n",
       "      <th>8</th>\n",
       "      <td>1</td>\n",
       "      <td>3</td>\n",
       "      <td>female</td>\n",
       "      <td>27.0</td>\n",
       "      <td>0</td>\n",
       "      <td>2</td>\n",
       "      <td>11.1333</td>\n",
       "      <td>S</td>\n",
       "      <td>Third</td>\n",
       "      <td>woman</td>\n",
       "      <td>False</td>\n",
       "      <td>NaN</td>\n",
       "      <td>Southampton</td>\n",
       "      <td>yes</td>\n",
       "      <td>False</td>\n",
       "    </tr>\n",
       "    <tr>\n",
       "      <th>9</th>\n",
       "      <td>1</td>\n",
       "      <td>2</td>\n",
       "      <td>female</td>\n",
       "      <td>14.0</td>\n",
       "      <td>1</td>\n",
       "      <td>0</td>\n",
       "      <td>30.0708</td>\n",
       "      <td>C</td>\n",
       "      <td>Second</td>\n",
       "      <td>child</td>\n",
       "      <td>False</td>\n",
       "      <td>NaN</td>\n",
       "      <td>Cherbourg</td>\n",
       "      <td>yes</td>\n",
       "      <td>False</td>\n",
       "    </tr>\n",
       "  </tbody>\n",
       "</table>\n",
       "</div>"
      ],
      "text/plain": [
       "   survived  pclass     sex   age  sibsp  parch     fare embarked   class  \\\n",
       "0         0       3    male  22.0      1      0   7.2500        S   Third   \n",
       "1         1       1  female  38.0      1      0  71.2833        C   First   \n",
       "2         1       3  female  26.0      0      0   7.9250        S   Third   \n",
       "3         1       1  female  35.0      1      0  53.1000        S   First   \n",
       "4         0       3    male  35.0      0      0   8.0500        S   Third   \n",
       "5         0       3    male   NaN      0      0   8.4583        Q   Third   \n",
       "6         0       1    male  54.0      0      0  51.8625        S   First   \n",
       "7         0       3    male   2.0      3      1  21.0750        S   Third   \n",
       "8         1       3  female  27.0      0      2  11.1333        S   Third   \n",
       "9         1       2  female  14.0      1      0  30.0708        C  Second   \n",
       "\n",
       "     who  adult_male deck  embark_town alive  alone  \n",
       "0    man        True  NaN  Southampton    no  False  \n",
       "1  woman       False    C    Cherbourg   yes  False  \n",
       "2  woman       False  NaN  Southampton   yes   True  \n",
       "3  woman       False    C  Southampton   yes  False  \n",
       "4    man        True  NaN  Southampton    no   True  \n",
       "5    man        True  NaN   Queenstown    no   True  \n",
       "6    man        True    E  Southampton    no   True  \n",
       "7  child       False  NaN  Southampton    no  False  \n",
       "8  woman       False  NaN  Southampton   yes  False  \n",
       "9  child       False  NaN    Cherbourg   yes  False  "
      ]
     },
     "execution_count": 1,
     "metadata": {},
     "output_type": "execute_result"
    }
   ],
   "source": [
    "import seaborn as sns\n",
    "DF = sns.load_dataset('titanic')\n",
    "\n",
    "DF.head(10)"
   ]
  },
  {
   "cell_type": "markdown",
   "metadata": {
    "colab_type": "text",
    "id": "H7Q6IV3uOnk1"
   },
   "source": [
    "* 'titanic' Dataset Information"
   ]
  },
  {
   "cell_type": "code",
   "execution_count": 2,
   "metadata": {
    "colab": {
     "base_uri": "https://localhost:8080/",
     "height": 35
    },
    "colab_type": "code",
    "executionInfo": {
     "elapsed": 1012,
     "status": "ok",
     "timestamp": 1596190567547,
     "user": {
      "displayName": "contravia@naver.com",
      "photoUrl": "",
      "userId": "04072428075549197225"
     },
     "user_tz": -540
    },
    "id": "-sfFo8OA3yyh",
    "outputId": "e183204c-de26-4e63-c446-b504af0c43c3"
   },
   "outputs": [
    {
     "data": {
      "text/plain": [
       "(891, 15)"
      ]
     },
     "execution_count": 2,
     "metadata": {},
     "output_type": "execute_result"
    }
   ],
   "source": [
    "DF.shape"
   ]
  },
  {
   "cell_type": "code",
   "execution_count": 3,
   "metadata": {
    "colab": {
     "base_uri": "https://localhost:8080/",
     "height": 413
    },
    "colab_type": "code",
    "executionInfo": {
     "elapsed": 947,
     "status": "ok",
     "timestamp": 1596190572033,
     "user": {
      "displayName": "contravia@naver.com",
      "photoUrl": "",
      "userId": "04072428075549197225"
     },
     "user_tz": -540
    },
    "id": "RF6NRN1dUbd9",
    "outputId": "8d0260d5-0410-462c-a817-ed4a5a512801"
   },
   "outputs": [
    {
     "name": "stdout",
     "output_type": "stream",
     "text": [
      "<class 'pandas.core.frame.DataFrame'>\n",
      "RangeIndex: 891 entries, 0 to 890\n",
      "Data columns (total 15 columns):\n",
      " #   Column       Non-Null Count  Dtype   \n",
      "---  ------       --------------  -----   \n",
      " 0   survived     891 non-null    int64   \n",
      " 1   pclass       891 non-null    int64   \n",
      " 2   sex          891 non-null    object  \n",
      " 3   age          714 non-null    float64 \n",
      " 4   sibsp        891 non-null    int64   \n",
      " 5   parch        891 non-null    int64   \n",
      " 6   fare         891 non-null    float64 \n",
      " 7   embarked     889 non-null    object  \n",
      " 8   class        891 non-null    category\n",
      " 9   who          891 non-null    object  \n",
      " 10  adult_male   891 non-null    bool    \n",
      " 11  deck         203 non-null    category\n",
      " 12  embark_town  889 non-null    object  \n",
      " 13  alive        891 non-null    object  \n",
      " 14  alone        891 non-null    bool    \n",
      "dtypes: bool(2), category(2), float64(2), int64(4), object(5)\n",
      "memory usage: 80.6+ KB\n"
     ]
    }
   ],
   "source": [
    "DF.info()"
   ]
  },
  {
   "cell_type": "markdown",
   "metadata": {
    "colab_type": "text",
    "id": "kRZpT1nKVI4W"
   },
   "source": [
    "> ## 2) 결측치 확인\n",
    "\n",
    "* .value_counts(dropna = False)\n",
    " - 결측치(NaN)를 포함하여 결과 출력"
   ]
  },
  {
   "cell_type": "code",
   "execution_count": 4,
   "metadata": {
    "colab": {
     "base_uri": "https://localhost:8080/",
     "height": 179
    },
    "colab_type": "code",
    "executionInfo": {
     "elapsed": 619,
     "status": "ok",
     "timestamp": 1596025839755,
     "user": {
      "displayName": "contravia@naver.com",
      "photoUrl": "",
      "userId": "04072428075549197225"
     },
     "user_tz": -540
    },
    "id": "CV1cAqcTVOxO",
    "outputId": "7a52e2f1-fca2-4eef-d834-5d85c4710be3"
   },
   "outputs": [
    {
     "data": {
      "text/plain": [
       "NaN    688\n",
       "C       59\n",
       "B       47\n",
       "D       33\n",
       "E       32\n",
       "A       15\n",
       "F       13\n",
       "G        4\n",
       "Name: deck, dtype: int64"
      ]
     },
     "execution_count": 4,
     "metadata": {},
     "output_type": "execute_result"
    }
   ],
   "source": [
    "DF['deck'].value_counts(dropna = False)"
   ]
  },
  {
   "cell_type": "markdown",
   "metadata": {
    "colab_type": "text",
    "id": "zfa-OwnvPUmu"
   },
   "source": [
    "* .isnull( )\n",
    " - 결측치(NaN)를 'True'로 출력"
   ]
  },
  {
   "cell_type": "code",
   "execution_count": 5,
   "metadata": {
    "colab": {
     "base_uri": "https://localhost:8080/",
     "height": 359
    },
    "colab_type": "code",
    "executionInfo": {
     "elapsed": 639,
     "status": "ok",
     "timestamp": 1596025850334,
     "user": {
      "displayName": "contravia@naver.com",
      "photoUrl": "",
      "userId": "04072428075549197225"
     },
     "user_tz": -540
    },
    "id": "wkzhq-DaV3eb",
    "outputId": "48ec29f1-4f5d-478d-d1a2-16ad68772715"
   },
   "outputs": [
    {
     "data": {
      "text/html": [
       "<div>\n",
       "<style scoped>\n",
       "    .dataframe tbody tr th:only-of-type {\n",
       "        vertical-align: middle;\n",
       "    }\n",
       "\n",
       "    .dataframe tbody tr th {\n",
       "        vertical-align: top;\n",
       "    }\n",
       "\n",
       "    .dataframe thead th {\n",
       "        text-align: right;\n",
       "    }\n",
       "</style>\n",
       "<table border=\"1\" class=\"dataframe\">\n",
       "  <thead>\n",
       "    <tr style=\"text-align: right;\">\n",
       "      <th></th>\n",
       "      <th>survived</th>\n",
       "      <th>pclass</th>\n",
       "      <th>sex</th>\n",
       "      <th>age</th>\n",
       "      <th>sibsp</th>\n",
       "      <th>parch</th>\n",
       "      <th>fare</th>\n",
       "      <th>embarked</th>\n",
       "      <th>class</th>\n",
       "      <th>who</th>\n",
       "      <th>adult_male</th>\n",
       "      <th>deck</th>\n",
       "      <th>embark_town</th>\n",
       "      <th>alive</th>\n",
       "      <th>alone</th>\n",
       "    </tr>\n",
       "  </thead>\n",
       "  <tbody>\n",
       "    <tr>\n",
       "      <th>0</th>\n",
       "      <td>False</td>\n",
       "      <td>False</td>\n",
       "      <td>False</td>\n",
       "      <td>False</td>\n",
       "      <td>False</td>\n",
       "      <td>False</td>\n",
       "      <td>False</td>\n",
       "      <td>False</td>\n",
       "      <td>False</td>\n",
       "      <td>False</td>\n",
       "      <td>False</td>\n",
       "      <td>True</td>\n",
       "      <td>False</td>\n",
       "      <td>False</td>\n",
       "      <td>False</td>\n",
       "    </tr>\n",
       "    <tr>\n",
       "      <th>1</th>\n",
       "      <td>False</td>\n",
       "      <td>False</td>\n",
       "      <td>False</td>\n",
       "      <td>False</td>\n",
       "      <td>False</td>\n",
       "      <td>False</td>\n",
       "      <td>False</td>\n",
       "      <td>False</td>\n",
       "      <td>False</td>\n",
       "      <td>False</td>\n",
       "      <td>False</td>\n",
       "      <td>False</td>\n",
       "      <td>False</td>\n",
       "      <td>False</td>\n",
       "      <td>False</td>\n",
       "    </tr>\n",
       "    <tr>\n",
       "      <th>2</th>\n",
       "      <td>False</td>\n",
       "      <td>False</td>\n",
       "      <td>False</td>\n",
       "      <td>False</td>\n",
       "      <td>False</td>\n",
       "      <td>False</td>\n",
       "      <td>False</td>\n",
       "      <td>False</td>\n",
       "      <td>False</td>\n",
       "      <td>False</td>\n",
       "      <td>False</td>\n",
       "      <td>True</td>\n",
       "      <td>False</td>\n",
       "      <td>False</td>\n",
       "      <td>False</td>\n",
       "    </tr>\n",
       "    <tr>\n",
       "      <th>3</th>\n",
       "      <td>False</td>\n",
       "      <td>False</td>\n",
       "      <td>False</td>\n",
       "      <td>False</td>\n",
       "      <td>False</td>\n",
       "      <td>False</td>\n",
       "      <td>False</td>\n",
       "      <td>False</td>\n",
       "      <td>False</td>\n",
       "      <td>False</td>\n",
       "      <td>False</td>\n",
       "      <td>False</td>\n",
       "      <td>False</td>\n",
       "      <td>False</td>\n",
       "      <td>False</td>\n",
       "    </tr>\n",
       "    <tr>\n",
       "      <th>4</th>\n",
       "      <td>False</td>\n",
       "      <td>False</td>\n",
       "      <td>False</td>\n",
       "      <td>False</td>\n",
       "      <td>False</td>\n",
       "      <td>False</td>\n",
       "      <td>False</td>\n",
       "      <td>False</td>\n",
       "      <td>False</td>\n",
       "      <td>False</td>\n",
       "      <td>False</td>\n",
       "      <td>True</td>\n",
       "      <td>False</td>\n",
       "      <td>False</td>\n",
       "      <td>False</td>\n",
       "    </tr>\n",
       "    <tr>\n",
       "      <th>5</th>\n",
       "      <td>False</td>\n",
       "      <td>False</td>\n",
       "      <td>False</td>\n",
       "      <td>True</td>\n",
       "      <td>False</td>\n",
       "      <td>False</td>\n",
       "      <td>False</td>\n",
       "      <td>False</td>\n",
       "      <td>False</td>\n",
       "      <td>False</td>\n",
       "      <td>False</td>\n",
       "      <td>True</td>\n",
       "      <td>False</td>\n",
       "      <td>False</td>\n",
       "      <td>False</td>\n",
       "    </tr>\n",
       "    <tr>\n",
       "      <th>6</th>\n",
       "      <td>False</td>\n",
       "      <td>False</td>\n",
       "      <td>False</td>\n",
       "      <td>False</td>\n",
       "      <td>False</td>\n",
       "      <td>False</td>\n",
       "      <td>False</td>\n",
       "      <td>False</td>\n",
       "      <td>False</td>\n",
       "      <td>False</td>\n",
       "      <td>False</td>\n",
       "      <td>False</td>\n",
       "      <td>False</td>\n",
       "      <td>False</td>\n",
       "      <td>False</td>\n",
       "    </tr>\n",
       "    <tr>\n",
       "      <th>7</th>\n",
       "      <td>False</td>\n",
       "      <td>False</td>\n",
       "      <td>False</td>\n",
       "      <td>False</td>\n",
       "      <td>False</td>\n",
       "      <td>False</td>\n",
       "      <td>False</td>\n",
       "      <td>False</td>\n",
       "      <td>False</td>\n",
       "      <td>False</td>\n",
       "      <td>False</td>\n",
       "      <td>True</td>\n",
       "      <td>False</td>\n",
       "      <td>False</td>\n",
       "      <td>False</td>\n",
       "    </tr>\n",
       "    <tr>\n",
       "      <th>8</th>\n",
       "      <td>False</td>\n",
       "      <td>False</td>\n",
       "      <td>False</td>\n",
       "      <td>False</td>\n",
       "      <td>False</td>\n",
       "      <td>False</td>\n",
       "      <td>False</td>\n",
       "      <td>False</td>\n",
       "      <td>False</td>\n",
       "      <td>False</td>\n",
       "      <td>False</td>\n",
       "      <td>True</td>\n",
       "      <td>False</td>\n",
       "      <td>False</td>\n",
       "      <td>False</td>\n",
       "    </tr>\n",
       "    <tr>\n",
       "      <th>9</th>\n",
       "      <td>False</td>\n",
       "      <td>False</td>\n",
       "      <td>False</td>\n",
       "      <td>False</td>\n",
       "      <td>False</td>\n",
       "      <td>False</td>\n",
       "      <td>False</td>\n",
       "      <td>False</td>\n",
       "      <td>False</td>\n",
       "      <td>False</td>\n",
       "      <td>False</td>\n",
       "      <td>True</td>\n",
       "      <td>False</td>\n",
       "      <td>False</td>\n",
       "      <td>False</td>\n",
       "    </tr>\n",
       "  </tbody>\n",
       "</table>\n",
       "</div>"
      ],
      "text/plain": [
       "   survived  pclass    sex    age  sibsp  parch   fare  embarked  class  \\\n",
       "0     False   False  False  False  False  False  False     False  False   \n",
       "1     False   False  False  False  False  False  False     False  False   \n",
       "2     False   False  False  False  False  False  False     False  False   \n",
       "3     False   False  False  False  False  False  False     False  False   \n",
       "4     False   False  False  False  False  False  False     False  False   \n",
       "5     False   False  False   True  False  False  False     False  False   \n",
       "6     False   False  False  False  False  False  False     False  False   \n",
       "7     False   False  False  False  False  False  False     False  False   \n",
       "8     False   False  False  False  False  False  False     False  False   \n",
       "9     False   False  False  False  False  False  False     False  False   \n",
       "\n",
       "     who  adult_male   deck  embark_town  alive  alone  \n",
       "0  False       False   True        False  False  False  \n",
       "1  False       False  False        False  False  False  \n",
       "2  False       False   True        False  False  False  \n",
       "3  False       False  False        False  False  False  \n",
       "4  False       False   True        False  False  False  \n",
       "5  False       False   True        False  False  False  \n",
       "6  False       False  False        False  False  False  \n",
       "7  False       False   True        False  False  False  \n",
       "8  False       False   True        False  False  False  \n",
       "9  False       False   True        False  False  False  "
      ]
     },
     "execution_count": 5,
     "metadata": {},
     "output_type": "execute_result"
    }
   ],
   "source": [
    "DF.head(10).isnull()"
   ]
  },
  {
   "cell_type": "markdown",
   "metadata": {
    "colab_type": "text",
    "id": "2B7o22aePcBL"
   },
   "source": [
    "* 각 열(Column)별로 결측치 개수 확인\n",
    "* .isnull( ).sum(axis = 0)\n",
    " - axis = 0 : 행(Row)\n",
    " - axis = 1 : 열(Column)"
   ]
  },
  {
   "cell_type": "code",
   "execution_count": 6,
   "metadata": {
    "colab": {
     "base_uri": "https://localhost:8080/",
     "height": 305
    },
    "colab_type": "code",
    "executionInfo": {
     "elapsed": 668,
     "status": "ok",
     "timestamp": 1596025959673,
     "user": {
      "displayName": "contravia@naver.com",
      "photoUrl": "",
      "userId": "04072428075549197225"
     },
     "user_tz": -540
    },
    "id": "_dyd7z8IW4s7",
    "outputId": "cc81799c-1bc6-43f4-8a5f-288bf703afc0"
   },
   "outputs": [
    {
     "data": {
      "text/plain": [
       "survived         0\n",
       "pclass           0\n",
       "sex              0\n",
       "age            177\n",
       "sibsp            0\n",
       "parch            0\n",
       "fare             0\n",
       "embarked         2\n",
       "class            0\n",
       "who              0\n",
       "adult_male       0\n",
       "deck           688\n",
       "embark_town      2\n",
       "alive            0\n",
       "alone            0\n",
       "dtype: int64"
      ]
     },
     "execution_count": 6,
     "metadata": {},
     "output_type": "execute_result"
    }
   ],
   "source": [
    "DF.isnull().sum(axis = 0)"
   ]
  },
  {
   "cell_type": "markdown",
   "metadata": {
    "colab_type": "text",
    "id": "s7RBXShuPwEi"
   },
   "source": [
    "* .notnull( )\n",
    " - 결측치(NaN)를 'False'로 출력"
   ]
  },
  {
   "cell_type": "code",
   "execution_count": 7,
   "metadata": {
    "colab": {
     "base_uri": "https://localhost:8080/",
     "height": 359
    },
    "colab_type": "code",
    "executionInfo": {
     "elapsed": 769,
     "status": "ok",
     "timestamp": 1596026031831,
     "user": {
      "displayName": "contravia@naver.com",
      "photoUrl": "",
      "userId": "04072428075549197225"
     },
     "user_tz": -540
    },
    "id": "C9eGkfX1WMue",
    "outputId": "5b0ddbf4-77c2-4ac2-ba3d-4ed739b42a93"
   },
   "outputs": [
    {
     "data": {
      "text/html": [
       "<div>\n",
       "<style scoped>\n",
       "    .dataframe tbody tr th:only-of-type {\n",
       "        vertical-align: middle;\n",
       "    }\n",
       "\n",
       "    .dataframe tbody tr th {\n",
       "        vertical-align: top;\n",
       "    }\n",
       "\n",
       "    .dataframe thead th {\n",
       "        text-align: right;\n",
       "    }\n",
       "</style>\n",
       "<table border=\"1\" class=\"dataframe\">\n",
       "  <thead>\n",
       "    <tr style=\"text-align: right;\">\n",
       "      <th></th>\n",
       "      <th>survived</th>\n",
       "      <th>pclass</th>\n",
       "      <th>sex</th>\n",
       "      <th>age</th>\n",
       "      <th>sibsp</th>\n",
       "      <th>parch</th>\n",
       "      <th>fare</th>\n",
       "      <th>embarked</th>\n",
       "      <th>class</th>\n",
       "      <th>who</th>\n",
       "      <th>adult_male</th>\n",
       "      <th>deck</th>\n",
       "      <th>embark_town</th>\n",
       "      <th>alive</th>\n",
       "      <th>alone</th>\n",
       "    </tr>\n",
       "  </thead>\n",
       "  <tbody>\n",
       "    <tr>\n",
       "      <th>0</th>\n",
       "      <td>True</td>\n",
       "      <td>True</td>\n",
       "      <td>True</td>\n",
       "      <td>True</td>\n",
       "      <td>True</td>\n",
       "      <td>True</td>\n",
       "      <td>True</td>\n",
       "      <td>True</td>\n",
       "      <td>True</td>\n",
       "      <td>True</td>\n",
       "      <td>True</td>\n",
       "      <td>False</td>\n",
       "      <td>True</td>\n",
       "      <td>True</td>\n",
       "      <td>True</td>\n",
       "    </tr>\n",
       "    <tr>\n",
       "      <th>1</th>\n",
       "      <td>True</td>\n",
       "      <td>True</td>\n",
       "      <td>True</td>\n",
       "      <td>True</td>\n",
       "      <td>True</td>\n",
       "      <td>True</td>\n",
       "      <td>True</td>\n",
       "      <td>True</td>\n",
       "      <td>True</td>\n",
       "      <td>True</td>\n",
       "      <td>True</td>\n",
       "      <td>True</td>\n",
       "      <td>True</td>\n",
       "      <td>True</td>\n",
       "      <td>True</td>\n",
       "    </tr>\n",
       "    <tr>\n",
       "      <th>2</th>\n",
       "      <td>True</td>\n",
       "      <td>True</td>\n",
       "      <td>True</td>\n",
       "      <td>True</td>\n",
       "      <td>True</td>\n",
       "      <td>True</td>\n",
       "      <td>True</td>\n",
       "      <td>True</td>\n",
       "      <td>True</td>\n",
       "      <td>True</td>\n",
       "      <td>True</td>\n",
       "      <td>False</td>\n",
       "      <td>True</td>\n",
       "      <td>True</td>\n",
       "      <td>True</td>\n",
       "    </tr>\n",
       "    <tr>\n",
       "      <th>3</th>\n",
       "      <td>True</td>\n",
       "      <td>True</td>\n",
       "      <td>True</td>\n",
       "      <td>True</td>\n",
       "      <td>True</td>\n",
       "      <td>True</td>\n",
       "      <td>True</td>\n",
       "      <td>True</td>\n",
       "      <td>True</td>\n",
       "      <td>True</td>\n",
       "      <td>True</td>\n",
       "      <td>True</td>\n",
       "      <td>True</td>\n",
       "      <td>True</td>\n",
       "      <td>True</td>\n",
       "    </tr>\n",
       "    <tr>\n",
       "      <th>4</th>\n",
       "      <td>True</td>\n",
       "      <td>True</td>\n",
       "      <td>True</td>\n",
       "      <td>True</td>\n",
       "      <td>True</td>\n",
       "      <td>True</td>\n",
       "      <td>True</td>\n",
       "      <td>True</td>\n",
       "      <td>True</td>\n",
       "      <td>True</td>\n",
       "      <td>True</td>\n",
       "      <td>False</td>\n",
       "      <td>True</td>\n",
       "      <td>True</td>\n",
       "      <td>True</td>\n",
       "    </tr>\n",
       "    <tr>\n",
       "      <th>5</th>\n",
       "      <td>True</td>\n",
       "      <td>True</td>\n",
       "      <td>True</td>\n",
       "      <td>False</td>\n",
       "      <td>True</td>\n",
       "      <td>True</td>\n",
       "      <td>True</td>\n",
       "      <td>True</td>\n",
       "      <td>True</td>\n",
       "      <td>True</td>\n",
       "      <td>True</td>\n",
       "      <td>False</td>\n",
       "      <td>True</td>\n",
       "      <td>True</td>\n",
       "      <td>True</td>\n",
       "    </tr>\n",
       "    <tr>\n",
       "      <th>6</th>\n",
       "      <td>True</td>\n",
       "      <td>True</td>\n",
       "      <td>True</td>\n",
       "      <td>True</td>\n",
       "      <td>True</td>\n",
       "      <td>True</td>\n",
       "      <td>True</td>\n",
       "      <td>True</td>\n",
       "      <td>True</td>\n",
       "      <td>True</td>\n",
       "      <td>True</td>\n",
       "      <td>True</td>\n",
       "      <td>True</td>\n",
       "      <td>True</td>\n",
       "      <td>True</td>\n",
       "    </tr>\n",
       "    <tr>\n",
       "      <th>7</th>\n",
       "      <td>True</td>\n",
       "      <td>True</td>\n",
       "      <td>True</td>\n",
       "      <td>True</td>\n",
       "      <td>True</td>\n",
       "      <td>True</td>\n",
       "      <td>True</td>\n",
       "      <td>True</td>\n",
       "      <td>True</td>\n",
       "      <td>True</td>\n",
       "      <td>True</td>\n",
       "      <td>False</td>\n",
       "      <td>True</td>\n",
       "      <td>True</td>\n",
       "      <td>True</td>\n",
       "    </tr>\n",
       "    <tr>\n",
       "      <th>8</th>\n",
       "      <td>True</td>\n",
       "      <td>True</td>\n",
       "      <td>True</td>\n",
       "      <td>True</td>\n",
       "      <td>True</td>\n",
       "      <td>True</td>\n",
       "      <td>True</td>\n",
       "      <td>True</td>\n",
       "      <td>True</td>\n",
       "      <td>True</td>\n",
       "      <td>True</td>\n",
       "      <td>False</td>\n",
       "      <td>True</td>\n",
       "      <td>True</td>\n",
       "      <td>True</td>\n",
       "    </tr>\n",
       "    <tr>\n",
       "      <th>9</th>\n",
       "      <td>True</td>\n",
       "      <td>True</td>\n",
       "      <td>True</td>\n",
       "      <td>True</td>\n",
       "      <td>True</td>\n",
       "      <td>True</td>\n",
       "      <td>True</td>\n",
       "      <td>True</td>\n",
       "      <td>True</td>\n",
       "      <td>True</td>\n",
       "      <td>True</td>\n",
       "      <td>False</td>\n",
       "      <td>True</td>\n",
       "      <td>True</td>\n",
       "      <td>True</td>\n",
       "    </tr>\n",
       "  </tbody>\n",
       "</table>\n",
       "</div>"
      ],
      "text/plain": [
       "   survived  pclass   sex    age  sibsp  parch  fare  embarked  class   who  \\\n",
       "0      True    True  True   True   True   True  True      True   True  True   \n",
       "1      True    True  True   True   True   True  True      True   True  True   \n",
       "2      True    True  True   True   True   True  True      True   True  True   \n",
       "3      True    True  True   True   True   True  True      True   True  True   \n",
       "4      True    True  True   True   True   True  True      True   True  True   \n",
       "5      True    True  True  False   True   True  True      True   True  True   \n",
       "6      True    True  True   True   True   True  True      True   True  True   \n",
       "7      True    True  True   True   True   True  True      True   True  True   \n",
       "8      True    True  True   True   True   True  True      True   True  True   \n",
       "9      True    True  True   True   True   True  True      True   True  True   \n",
       "\n",
       "   adult_male   deck  embark_town  alive  alone  \n",
       "0        True  False         True   True   True  \n",
       "1        True   True         True   True   True  \n",
       "2        True  False         True   True   True  \n",
       "3        True   True         True   True   True  \n",
       "4        True  False         True   True   True  \n",
       "5        True  False         True   True   True  \n",
       "6        True   True         True   True   True  \n",
       "7        True  False         True   True   True  \n",
       "8        True  False         True   True   True  \n",
       "9        True  False         True   True   True  "
      ]
     },
     "execution_count": 7,
     "metadata": {},
     "output_type": "execute_result"
    }
   ],
   "source": [
    "DF.head(10).notnull()"
   ]
  },
  {
   "cell_type": "markdown",
   "metadata": {
    "colab_type": "text",
    "id": "JL8RmYMxYZSO"
   },
   "source": [
    "> ## 3) 결측치 삭제\n",
    "\n",
    "* 각 열(Column)별로 결측치 개수 확인"
   ]
  },
  {
   "cell_type": "code",
   "execution_count": 8,
   "metadata": {
    "colab": {
     "base_uri": "https://localhost:8080/",
     "height": 305
    },
    "colab_type": "code",
    "executionInfo": {
     "elapsed": 645,
     "status": "ok",
     "timestamp": 1596026097947,
     "user": {
      "displayName": "contravia@naver.com",
      "photoUrl": "",
      "userId": "04072428075549197225"
     },
     "user_tz": -540
    },
    "id": "09GDKq7bYqPT",
    "outputId": "7e263a3d-0c01-43e1-b848-e9d81a670dd7"
   },
   "outputs": [
    {
     "data": {
      "text/plain": [
       "survived         0\n",
       "pclass           0\n",
       "sex              0\n",
       "age            177\n",
       "sibsp            0\n",
       "parch            0\n",
       "fare             0\n",
       "embarked         2\n",
       "class            0\n",
       "who              0\n",
       "adult_male       0\n",
       "deck           688\n",
       "embark_town      2\n",
       "alive            0\n",
       "alone            0\n",
       "dtype: int64"
      ]
     },
     "execution_count": 8,
     "metadata": {},
     "output_type": "execute_result"
    }
   ],
   "source": [
    "DF.isnull().sum(axis = 0)"
   ]
  },
  {
   "cell_type": "markdown",
   "metadata": {
    "colab_type": "text",
    "id": "Wvs9wmMoQBHh"
   },
   "source": [
    "* 결측치가 300개 이상인 열(Column) 삭제\n",
    " - .dropna(thresh = 300, axis = 1)\n",
    " - 'deck' 열 삭제"
   ]
  },
  {
   "cell_type": "code",
   "execution_count": 9,
   "metadata": {
    "colab": {
     "base_uri": "https://localhost:8080/",
     "height": 35
    },
    "colab_type": "code",
    "executionInfo": {
     "elapsed": 626,
     "status": "ok",
     "timestamp": 1596026176756,
     "user": {
      "displayName": "contravia@naver.com",
      "photoUrl": "",
      "userId": "04072428075549197225"
     },
     "user_tz": -540
    },
    "id": "V8aaoAhUaEYF",
    "outputId": "635197e2-dafc-4392-9878-1081d922145c"
   },
   "outputs": [
    {
     "data": {
      "text/plain": [
       "(891, 14)"
      ]
     },
     "execution_count": 9,
     "metadata": {},
     "output_type": "execute_result"
    }
   ],
   "source": [
    "DF.dropna(thresh = 300, axis = 1).shape "
   ]
  },
  {
   "cell_type": "markdown",
   "metadata": {
    "colab_type": "text",
    "id": "rK0RyeeTghWS"
   },
   "source": [
    "* 결측치가 한 개라도 있는 행(Row) 삭제\n",
    " - .dropna(subset = ['age'], how = 'any', axis = 0)"
   ]
  },
  {
   "cell_type": "code",
   "execution_count": 10,
   "metadata": {
    "colab": {
     "base_uri": "https://localhost:8080/",
     "height": 35
    },
    "colab_type": "code",
    "executionInfo": {
     "elapsed": 663,
     "status": "ok",
     "timestamp": 1596026190512,
     "user": {
      "displayName": "contravia@naver.com",
      "photoUrl": "",
      "userId": "04072428075549197225"
     },
     "user_tz": -540
    },
    "id": "JLoRrjxhcPfM",
    "outputId": "e66e511b-40b8-4523-f582-5a5ed2df0da1"
   },
   "outputs": [
    {
     "data": {
      "text/plain": [
       "(891, 15)"
      ]
     },
     "execution_count": 10,
     "metadata": {},
     "output_type": "execute_result"
    }
   ],
   "source": [
    "DF.shape"
   ]
  },
  {
   "cell_type": "code",
   "execution_count": 11,
   "metadata": {
    "colab": {
     "base_uri": "https://localhost:8080/",
     "height": 35
    },
    "colab_type": "code",
    "executionInfo": {
     "elapsed": 613,
     "status": "ok",
     "timestamp": 1596026275975,
     "user": {
      "displayName": "contravia@naver.com",
      "photoUrl": "",
      "userId": "04072428075549197225"
     },
     "user_tz": -540
    },
    "id": "VXlzupfSbAn2",
    "outputId": "566550d0-c767-4dbf-b4a1-96dacd9de110"
   },
   "outputs": [
    {
     "data": {
      "text/plain": [
       "(714, 15)"
      ]
     },
     "execution_count": 11,
     "metadata": {},
     "output_type": "execute_result"
    }
   ],
   "source": [
    "DF.dropna(subset = ['age'], how = 'any', axis = 0).shape # any : 결측치가 한개라도 있는 경우"
   ]
  },
  {
   "cell_type": "markdown",
   "metadata": {
    "colab_type": "text",
    "id": "rRuczSwJbfWW"
   },
   "source": [
    "> ## 4) 격측치 치환\n",
    "\n",
    "* 연속형 데이터 치환\n",
    " - 'age'의 결측치를 평균값으로 치환\n",
    " - .fillna(int(DF['age'].mean(axis = 0)), inplace = True)"
   ]
  },
  {
   "cell_type": "code",
   "execution_count": 12,
   "metadata": {
    "colab": {
     "base_uri": "https://localhost:8080/",
     "height": 215
    },
    "colab_type": "code",
    "executionInfo": {
     "elapsed": 725,
     "status": "ok",
     "timestamp": 1596026279146,
     "user": {
      "displayName": "contravia@naver.com",
      "photoUrl": "",
      "userId": "04072428075549197225"
     },
     "user_tz": -540
    },
    "id": "yIq67BuMbj8n",
    "outputId": "883f0bc3-9578-4b80-9f8b-03d71255c22e"
   },
   "outputs": [
    {
     "data": {
      "text/plain": [
       "0    22.0\n",
       "1    38.0\n",
       "2    26.0\n",
       "3    35.0\n",
       "4    35.0\n",
       "5     NaN\n",
       "6    54.0\n",
       "7     2.0\n",
       "8    27.0\n",
       "9    14.0\n",
       "Name: age, dtype: float64"
      ]
     },
     "execution_count": 12,
     "metadata": {},
     "output_type": "execute_result"
    }
   ],
   "source": [
    "DF['age'].head(10)"
   ]
  },
  {
   "cell_type": "code",
   "execution_count": 13,
   "metadata": {
    "colab": {},
    "colab_type": "code",
    "id": "wBQjenDzcBLf"
   },
   "outputs": [],
   "source": [
    "DF['age'].fillna(int(DF['age'].mean(axis = 0)), inplace = True)"
   ]
  },
  {
   "cell_type": "code",
   "execution_count": 14,
   "metadata": {
    "colab": {
     "base_uri": "https://localhost:8080/",
     "height": 215
    },
    "colab_type": "code",
    "executionInfo": {
     "elapsed": 640,
     "status": "ok",
     "timestamp": 1596026539953,
     "user": {
      "displayName": "contravia@naver.com",
      "photoUrl": "",
      "userId": "04072428075549197225"
     },
     "user_tz": -540
    },
    "id": "cTA8SqznhXTZ",
    "outputId": "f56210d6-8e76-497b-d9ac-3d7f941c1324"
   },
   "outputs": [
    {
     "data": {
      "text/plain": [
       "0    22.0\n",
       "1    38.0\n",
       "2    26.0\n",
       "3    35.0\n",
       "4    35.0\n",
       "5    29.0\n",
       "6    54.0\n",
       "7     2.0\n",
       "8    27.0\n",
       "9    14.0\n",
       "Name: age, dtype: float64"
      ]
     },
     "execution_count": 14,
     "metadata": {},
     "output_type": "execute_result"
    }
   ],
   "source": [
    "DF['age'].head(10)"
   ]
  },
  {
   "cell_type": "markdown",
   "metadata": {
    "colab_type": "text",
    "id": "wXcF_OHz9Cnx"
   },
   "source": [
    "* 명목형 데이터 치환\n",
    " - 'embark_town'의 결측치를 최빈값으로 치환\n",
    " - .fillna(most_freq, inplace = True)"
   ]
  },
  {
   "cell_type": "code",
   "execution_count": 15,
   "metadata": {
    "colab": {
     "base_uri": "https://localhost:8080/",
     "height": 125
    },
    "colab_type": "code",
    "executionInfo": {
     "elapsed": 616,
     "status": "ok",
     "timestamp": 1596026553146,
     "user": {
      "displayName": "contravia@naver.com",
      "photoUrl": "",
      "userId": "04072428075549197225"
     },
     "user_tz": -540
    },
    "id": "e6Kr29CL9Nef",
    "outputId": "8e1e25bf-0298-454a-82c7-2aa0dbea3b82"
   },
   "outputs": [
    {
     "data": {
      "text/plain": [
       "825     Queenstown\n",
       "826    Southampton\n",
       "827      Cherbourg\n",
       "828     Queenstown\n",
       "829            NaN\n",
       "Name: embark_town, dtype: object"
      ]
     },
     "execution_count": 15,
     "metadata": {},
     "output_type": "execute_result"
    }
   ],
   "source": [
    "DF['embark_town'][825:830]"
   ]
  },
  {
   "cell_type": "code",
   "execution_count": 16,
   "metadata": {
    "colab": {
     "base_uri": "https://localhost:8080/",
     "height": 35
    },
    "colab_type": "code",
    "executionInfo": {
     "elapsed": 631,
     "status": "ok",
     "timestamp": 1596026554574,
     "user": {
      "displayName": "contravia@naver.com",
      "photoUrl": "",
      "userId": "04072428075549197225"
     },
     "user_tz": -540
    },
    "id": "2L7fFqRz9neV",
    "outputId": "59917d35-a44e-45aa-cfa4-86762d51db00"
   },
   "outputs": [
    {
     "data": {
      "text/plain": [
       "'Southampton'"
      ]
     },
     "execution_count": 16,
     "metadata": {},
     "output_type": "execute_result"
    }
   ],
   "source": [
    "most_freq = DF['embark_town'].value_counts(dropna = True).idxmax()\n",
    "\n",
    "most_freq"
   ]
  },
  {
   "cell_type": "code",
   "execution_count": 17,
   "metadata": {
    "colab": {},
    "colab_type": "code",
    "id": "EeEe_iN7-K35"
   },
   "outputs": [],
   "source": [
    "DF['embark_town'].fillna(most_freq, inplace = True)"
   ]
  },
  {
   "cell_type": "code",
   "execution_count": 18,
   "metadata": {
    "colab": {
     "base_uri": "https://localhost:8080/",
     "height": 35
    },
    "colab_type": "code",
    "executionInfo": {
     "elapsed": 663,
     "status": "ok",
     "timestamp": 1596026620770,
     "user": {
      "displayName": "contravia@naver.com",
      "photoUrl": "",
      "userId": "04072428075549197225"
     },
     "user_tz": -540
    },
    "id": "FTRkrEanmXJh",
    "outputId": "e0582046-07a8-44d0-88ef-26c719a6171c"
   },
   "outputs": [
    {
     "data": {
      "text/plain": [
       "(891, 15)"
      ]
     },
     "execution_count": 18,
     "metadata": {},
     "output_type": "execute_result"
    }
   ],
   "source": [
    "DF.shape"
   ]
  },
  {
   "cell_type": "code",
   "execution_count": 19,
   "metadata": {
    "colab": {
     "base_uri": "https://localhost:8080/",
     "height": 125
    },
    "colab_type": "code",
    "executionInfo": {
     "elapsed": 1129,
     "status": "ok",
     "timestamp": 1596026647870,
     "user": {
      "displayName": "contravia@naver.com",
      "photoUrl": "",
      "userId": "04072428075549197225"
     },
     "user_tz": -540
    },
    "id": "b8wUK5lhh0Ba",
    "outputId": "d94e350e-6b3e-455a-cb50-0adfea1ce210"
   },
   "outputs": [
    {
     "data": {
      "text/plain": [
       "825     Queenstown\n",
       "826    Southampton\n",
       "827      Cherbourg\n",
       "828     Queenstown\n",
       "829    Southampton\n",
       "Name: embark_town, dtype: object"
      ]
     },
     "execution_count": 19,
     "metadata": {},
     "output_type": "execute_result"
    }
   ],
   "source": [
    "DF['embark_town'][825:830]"
   ]
  },
  {
   "cell_type": "markdown",
   "metadata": {
    "colab_type": "text",
    "id": "MPU0SInR-808"
   },
   "source": [
    "* 결측치 치환 with 'ffill'\n",
    " - 이전 데이터포인트로 치환\n",
    " - .fillna(method = 'ffill', inplace = True)"
   ]
  },
  {
   "cell_type": "code",
   "execution_count": 20,
   "metadata": {
    "colab": {
     "base_uri": "https://localhost:8080/",
     "height": 89
    },
    "colab_type": "code",
    "executionInfo": {
     "elapsed": 642,
     "status": "ok",
     "timestamp": 1596026755217,
     "user": {
      "displayName": "contravia@naver.com",
      "photoUrl": "",
      "userId": "04072428075549197225"
     },
     "user_tz": -540
    },
    "id": "bz3r3jFU_Dic",
    "outputId": "aa005d89-bbf1-48f2-a5cb-1bc12effe293"
   },
   "outputs": [
    {
     "data": {
      "text/plain": [
       "828    Queenstown\n",
       "829           NaN\n",
       "830     Cherbourg\n",
       "Name: embark_town, dtype: object"
      ]
     },
     "execution_count": 20,
     "metadata": {},
     "output_type": "execute_result"
    }
   ],
   "source": [
    "DF = sns.load_dataset('titanic')\n",
    "\n",
    "DF['embark_town'][828:831]"
   ]
  },
  {
   "cell_type": "code",
   "execution_count": 21,
   "metadata": {
    "colab": {
     "base_uri": "https://localhost:8080/",
     "height": 89
    },
    "colab_type": "code",
    "executionInfo": {
     "elapsed": 758,
     "status": "ok",
     "timestamp": 1596026759547,
     "user": {
      "displayName": "contravia@naver.com",
      "photoUrl": "",
      "userId": "04072428075549197225"
     },
     "user_tz": -540
    },
    "id": "XBDU1k-F_TP3",
    "outputId": "d4b87559-9ec1-42db-cd42-966a7e8dbcfe"
   },
   "outputs": [
    {
     "data": {
      "text/plain": [
       "828    Queenstown\n",
       "829    Queenstown\n",
       "830     Cherbourg\n",
       "Name: embark_town, dtype: object"
      ]
     },
     "execution_count": 21,
     "metadata": {},
     "output_type": "execute_result"
    }
   ],
   "source": [
    "DF['embark_town'].fillna(method = 'ffill', inplace = True)\n",
    "\n",
    "DF['embark_town'][828:831]"
   ]
  },
  {
   "cell_type": "markdown",
   "metadata": {
    "colab_type": "text",
    "id": "BsZdhwF2_krJ"
   },
   "source": [
    "* 결측치 치환 with 'bfill'\n",
    " - 다음 데이터포인트로 치환\n",
    " - .fillna(method = 'bfill', inplace = True)"
   ]
  },
  {
   "cell_type": "code",
   "execution_count": 22,
   "metadata": {
    "colab": {},
    "colab_type": "code",
    "id": "ecWoh66g_mS-"
   },
   "outputs": [
    {
     "data": {
      "text/plain": [
       "828    Queenstown\n",
       "829           NaN\n",
       "830     Cherbourg\n",
       "Name: embark_town, dtype: object"
      ]
     },
     "execution_count": 22,
     "metadata": {},
     "output_type": "execute_result"
    }
   ],
   "source": [
    "DF = sns.load_dataset('titanic')\n",
    "\n",
    "DF['embark_town'][828:831]"
   ]
  },
  {
   "cell_type": "code",
   "execution_count": 23,
   "metadata": {
    "colab": {},
    "colab_type": "code",
    "id": "hoB4MI8X_rWx"
   },
   "outputs": [
    {
     "data": {
      "text/plain": [
       "828    Queenstown\n",
       "829     Cherbourg\n",
       "830     Cherbourg\n",
       "Name: embark_town, dtype: object"
      ]
     },
     "execution_count": 23,
     "metadata": {},
     "output_type": "execute_result"
    }
   ],
   "source": [
    "DF['embark_town'].fillna(method = 'bfill', inplace = True)\n",
    "\n",
    "DF['embark_town'][828:831]"
   ]
  },
  {
   "cell_type": "markdown",
   "metadata": {
    "colab_type": "text",
    "id": "ai5CfqJTVmZ-"
   },
   "source": [
    "# II. apply( )\n",
    "\n",
    "* 시리즈(Series)나 데이터프레임(DataFrame) 구조에 함수를 매핑\n",
    "  - 시리즈=컬럼=열"
   ]
  },
  {
   "cell_type": "markdown",
   "metadata": {
    "colab_type": "text",
    "id": "EMEG4kmmkGJw"
   },
   "source": [
    "> ## 1) 실습용 'titanic' 데이터셋"
   ]
  },
  {
   "cell_type": "code",
   "execution_count": 24,
   "metadata": {
    "colab": {
     "base_uri": "https://localhost:8080/",
     "height": 301
    },
    "colab_type": "code",
    "executionInfo": {
     "elapsed": 816,
     "status": "ok",
     "timestamp": 1596106844568,
     "user": {
      "displayName": "contravia@naver.com",
      "photoUrl": "",
      "userId": "04072428075549197225"
     },
     "user_tz": -540
    },
    "id": "2Guhf0ChX2rW",
    "outputId": "a81c5e2a-4b50-46ef-d2e1-514c23d99a5e"
   },
   "outputs": [
    {
     "name": "stdout",
     "output_type": "stream",
     "text": [
      "survived               1\n",
      "pclass                 1\n",
      "sex               female\n",
      "age                   38\n",
      "sibsp                  1\n",
      "parch                  0\n",
      "fare             71.2833\n",
      "embarked               C\n",
      "class              First\n",
      "who                woman\n",
      "adult_male         False\n",
      "deck                   C\n",
      "embark_town    Cherbourg\n",
      "alive                yes\n",
      "alone              False\n",
      "Name: 1, dtype: object\n"
     ]
    }
   ],
   "source": [
    "titanic = sns.load_dataset('titanic')\n",
    "titanic.head()\n",
    "print(titanic.loc[1])"
   ]
  },
  {
   "cell_type": "code",
   "execution_count": 25,
   "metadata": {
    "colab": {
     "base_uri": "https://localhost:8080/",
     "height": 197
    },
    "colab_type": "code",
    "executionInfo": {
     "elapsed": 998,
     "status": "ok",
     "timestamp": 1596105598895,
     "user": {
      "displayName": "contravia@naver.com",
      "photoUrl": "",
      "userId": "04072428075549197225"
     },
     "user_tz": -540
    },
    "id": "X9Zg8bMSVXwC",
    "outputId": "9f7415ca-f097-4480-c35b-12957c88f113"
   },
   "outputs": [
    {
     "data": {
      "text/html": [
       "<div>\n",
       "<style scoped>\n",
       "    .dataframe tbody tr th:only-of-type {\n",
       "        vertical-align: middle;\n",
       "    }\n",
       "\n",
       "    .dataframe tbody tr th {\n",
       "        vertical-align: top;\n",
       "    }\n",
       "\n",
       "    .dataframe thead th {\n",
       "        text-align: right;\n",
       "    }\n",
       "</style>\n",
       "<table border=\"1\" class=\"dataframe\">\n",
       "  <thead>\n",
       "    <tr style=\"text-align: right;\">\n",
       "      <th></th>\n",
       "      <th>age</th>\n",
       "      <th>fare</th>\n",
       "    </tr>\n",
       "  </thead>\n",
       "  <tbody>\n",
       "    <tr>\n",
       "      <th>0</th>\n",
       "      <td>22.0</td>\n",
       "      <td>7.2500</td>\n",
       "    </tr>\n",
       "    <tr>\n",
       "      <th>1</th>\n",
       "      <td>38.0</td>\n",
       "      <td>71.2833</td>\n",
       "    </tr>\n",
       "    <tr>\n",
       "      <th>2</th>\n",
       "      <td>26.0</td>\n",
       "      <td>7.9250</td>\n",
       "    </tr>\n",
       "    <tr>\n",
       "      <th>3</th>\n",
       "      <td>35.0</td>\n",
       "      <td>53.1000</td>\n",
       "    </tr>\n",
       "    <tr>\n",
       "      <th>4</th>\n",
       "      <td>35.0</td>\n",
       "      <td>8.0500</td>\n",
       "    </tr>\n",
       "  </tbody>\n",
       "</table>\n",
       "</div>"
      ],
      "text/plain": [
       "    age     fare\n",
       "0  22.0   7.2500\n",
       "1  38.0  71.2833\n",
       "2  26.0   7.9250\n",
       "3  35.0  53.1000\n",
       "4  35.0   8.0500"
      ]
     },
     "execution_count": 25,
     "metadata": {},
     "output_type": "execute_result"
    }
   ],
   "source": [
    "import seaborn as sns\n",
    "titanic = sns.load_dataset('titanic')\n",
    "\n",
    "DF = titanic.loc[:, ['age','fare']].head(5)\n",
    "DF"
   ]
  },
  {
   "cell_type": "markdown",
   "metadata": {
    "colab_type": "text",
    "id": "rFyleiXwiR24"
   },
   "source": [
    "> ## 2) apply(axis = 0)\n",
    "\n",
    "* sum( ) 함수를 행(Row)으로 매핑"
   ]
  },
  {
   "cell_type": "code",
   "execution_count": 26,
   "metadata": {
    "colab": {
     "base_uri": "https://localhost:8080/",
     "height": 70
    },
    "colab_type": "code",
    "executionInfo": {
     "elapsed": 850,
     "status": "ok",
     "timestamp": 1596105611537,
     "user": {
      "displayName": "contravia@naver.com",
      "photoUrl": "",
      "userId": "04072428075549197225"
     },
     "user_tz": -540
    },
    "id": "N1RkpapTHJYj",
    "outputId": "1030c5a8-5ceb-4b7f-958a-289bbe0327ad"
   },
   "outputs": [
    {
     "data": {
      "text/plain": [
       "age     156.0000\n",
       "fare    147.6083\n",
       "dtype: float64"
      ]
     },
     "execution_count": 26,
     "metadata": {},
     "output_type": "execute_result"
    }
   ],
   "source": [
    "DF.apply(sum, axis = 0)"
   ]
  },
  {
   "cell_type": "markdown",
   "metadata": {
    "colab_type": "text",
    "id": "G0Htq_ajiPgf"
   },
   "source": [
    "> ## 3) apply(axis = 1)\n",
    "\n",
    "* sum( ) 함수를 열(Column)로 매핑"
   ]
  },
  {
   "cell_type": "code",
   "execution_count": 27,
   "metadata": {
    "colab": {
     "base_uri": "https://localhost:8080/",
     "height": 123
    },
    "colab_type": "code",
    "executionInfo": {
     "elapsed": 777,
     "status": "ok",
     "timestamp": 1596105618024,
     "user": {
      "displayName": "contravia@naver.com",
      "photoUrl": "",
      "userId": "04072428075549197225"
     },
     "user_tz": -540
    },
    "id": "gj70acQbIRYQ",
    "outputId": "8883eca3-21e8-482e-d49c-5157af0f904e"
   },
   "outputs": [
    {
     "data": {
      "text/plain": [
       "0     29.2500\n",
       "1    109.2833\n",
       "2     33.9250\n",
       "3     88.1000\n",
       "4     43.0500\n",
       "dtype: float64"
      ]
     },
     "execution_count": 27,
     "metadata": {},
     "output_type": "execute_result"
    }
   ],
   "source": [
    "DF.apply(sum, axis = 1)"
   ]
  },
  {
   "cell_type": "code",
   "execution_count": 28,
   "metadata": {
    "colab": {
     "base_uri": "https://localhost:8080/",
     "height": 70
    },
    "colab_type": "code",
    "executionInfo": {
     "elapsed": 1037,
     "status": "ok",
     "timestamp": 1596105461006,
     "user": {
      "displayName": "contravia@naver.com",
      "photoUrl": "",
      "userId": "04072428075549197225"
     },
     "user_tz": -540
    },
    "id": "qatLTmWiTGRB",
    "outputId": "15792696-786f-43df-d387-d1b4632bb793"
   },
   "outputs": [
    {
     "data": {
      "text/plain": [
       "age     156.0000\n",
       "fare    147.6083\n",
       "dtype: float64"
      ]
     },
     "execution_count": 28,
     "metadata": {},
     "output_type": "execute_result"
    }
   ],
   "source": [
    "DF.apply(sum)"
   ]
  },
  {
   "cell_type": "markdown",
   "metadata": {
    "colab_type": "text",
    "id": "UXbq3HTrZZeE"
   },
   "source": [
    "> ## 4) etc\n",
    "\n",
    "* map( ) & apply( )\n",
    " - map( ) 함수는 시리즈(Series)에만 적용 가능\n",
    " - apply( ) 는 dataframe에 적용"
   ]
  },
  {
   "cell_type": "code",
   "execution_count": 29,
   "metadata": {
    "colab": {
     "base_uri": "https://localhost:8080/",
     "height": 123
    },
    "colab_type": "code",
    "executionInfo": {
     "elapsed": 806,
     "status": "ok",
     "timestamp": 1596106145502,
     "user": {
      "displayName": "contravia@naver.com",
      "photoUrl": "",
      "userId": "04072428075549197225"
     },
     "user_tz": -540
    },
    "id": "IkYg9MTuU5WG",
    "outputId": "9c2635a7-bd83-4d52-a865-5119008aa073"
   },
   "outputs": [
    {
     "data": {
      "text/plain": [
       "0    122.0\n",
       "1    138.0\n",
       "2    126.0\n",
       "3    135.0\n",
       "4    135.0\n",
       "Name: age, dtype: float64"
      ]
     },
     "execution_count": 29,
     "metadata": {},
     "output_type": "execute_result"
    }
   ],
   "source": [
    "DF['age'].map(lambda x: x + 100)"
   ]
  },
  {
   "cell_type": "code",
   "execution_count": 30,
   "metadata": {
    "colab": {
     "base_uri": "https://localhost:8080/",
     "height": 123
    },
    "colab_type": "code",
    "executionInfo": {
     "elapsed": 801,
     "status": "ok",
     "timestamp": 1596106211811,
     "user": {
      "displayName": "contravia@naver.com",
      "photoUrl": "",
      "userId": "04072428075549197225"
     },
     "user_tz": -540
    },
    "id": "UeDa29YQZBLX",
    "outputId": "94b9f400-ab6e-459e-b0ca-bc2d35df27f7"
   },
   "outputs": [
    {
     "data": {
      "text/plain": [
       "0    122.0\n",
       "1    138.0\n",
       "2    126.0\n",
       "3    135.0\n",
       "4    135.0\n",
       "Name: age, dtype: float64"
      ]
     },
     "execution_count": 30,
     "metadata": {},
     "output_type": "execute_result"
    }
   ],
   "source": [
    "DF['age'].apply(lambda x: x + 100)"
   ]
  },
  {
   "cell_type": "markdown",
   "metadata": {
    "colab_type": "text",
    "id": "Q25gyhWcfcIC"
   },
   "source": [
    "* applymap( )\n",
    "  - applymap( ) 함수는 데이터프레임에만 적용 가능\n",
    "  "
   ]
  },
  {
   "cell_type": "code",
   "execution_count": 31,
   "metadata": {
    "colab": {
     "base_uri": "https://localhost:8080/",
     "height": 197
    },
    "colab_type": "code",
    "executionInfo": {
     "elapsed": 752,
     "status": "ok",
     "timestamp": 1596106213312,
     "user": {
      "displayName": "contravia@naver.com",
      "photoUrl": "",
      "userId": "04072428075549197225"
     },
     "user_tz": -540
    },
    "id": "UE0_RttvZCIf",
    "outputId": "8a7cbddc-f737-49ab-ed99-a7543736fe3a"
   },
   "outputs": [
    {
     "data": {
      "text/html": [
       "<div>\n",
       "<style scoped>\n",
       "    .dataframe tbody tr th:only-of-type {\n",
       "        vertical-align: middle;\n",
       "    }\n",
       "\n",
       "    .dataframe tbody tr th {\n",
       "        vertical-align: top;\n",
       "    }\n",
       "\n",
       "    .dataframe thead th {\n",
       "        text-align: right;\n",
       "    }\n",
       "</style>\n",
       "<table border=\"1\" class=\"dataframe\">\n",
       "  <thead>\n",
       "    <tr style=\"text-align: right;\">\n",
       "      <th></th>\n",
       "      <th>age</th>\n",
       "      <th>fare</th>\n",
       "    </tr>\n",
       "  </thead>\n",
       "  <tbody>\n",
       "    <tr>\n",
       "      <th>0</th>\n",
       "      <td>122.0</td>\n",
       "      <td>107.2500</td>\n",
       "    </tr>\n",
       "    <tr>\n",
       "      <th>1</th>\n",
       "      <td>138.0</td>\n",
       "      <td>171.2833</td>\n",
       "    </tr>\n",
       "    <tr>\n",
       "      <th>2</th>\n",
       "      <td>126.0</td>\n",
       "      <td>107.9250</td>\n",
       "    </tr>\n",
       "    <tr>\n",
       "      <th>3</th>\n",
       "      <td>135.0</td>\n",
       "      <td>153.1000</td>\n",
       "    </tr>\n",
       "    <tr>\n",
       "      <th>4</th>\n",
       "      <td>135.0</td>\n",
       "      <td>108.0500</td>\n",
       "    </tr>\n",
       "  </tbody>\n",
       "</table>\n",
       "</div>"
      ],
      "text/plain": [
       "     age      fare\n",
       "0  122.0  107.2500\n",
       "1  138.0  171.2833\n",
       "2  126.0  107.9250\n",
       "3  135.0  153.1000\n",
       "4  135.0  108.0500"
      ]
     },
     "execution_count": 31,
     "metadata": {},
     "output_type": "execute_result"
    }
   ],
   "source": [
    "DF.applymap(lambda x: x + 100)"
   ]
  },
  {
   "cell_type": "code",
   "execution_count": 32,
   "metadata": {
    "colab": {
     "base_uri": "https://localhost:8080/",
     "height": 197
    },
    "colab_type": "code",
    "executionInfo": {
     "elapsed": 1646,
     "status": "ok",
     "timestamp": 1596106327091,
     "user": {
      "displayName": "contravia@naver.com",
      "photoUrl": "",
      "userId": "04072428075549197225"
     },
     "user_tz": -540
    },
    "id": "hqeHkLB56Rbp",
    "outputId": "cb714c41-65ad-42d5-9762-90ddd5059409"
   },
   "outputs": [
    {
     "data": {
      "text/html": [
       "<div>\n",
       "<style scoped>\n",
       "    .dataframe tbody tr th:only-of-type {\n",
       "        vertical-align: middle;\n",
       "    }\n",
       "\n",
       "    .dataframe tbody tr th {\n",
       "        vertical-align: top;\n",
       "    }\n",
       "\n",
       "    .dataframe thead th {\n",
       "        text-align: right;\n",
       "    }\n",
       "</style>\n",
       "<table border=\"1\" class=\"dataframe\">\n",
       "  <thead>\n",
       "    <tr style=\"text-align: right;\">\n",
       "      <th></th>\n",
       "      <th>age</th>\n",
       "      <th>fare</th>\n",
       "    </tr>\n",
       "  </thead>\n",
       "  <tbody>\n",
       "    <tr>\n",
       "      <th>0</th>\n",
       "      <td>122.0</td>\n",
       "      <td>107.2500</td>\n",
       "    </tr>\n",
       "    <tr>\n",
       "      <th>1</th>\n",
       "      <td>138.0</td>\n",
       "      <td>171.2833</td>\n",
       "    </tr>\n",
       "    <tr>\n",
       "      <th>2</th>\n",
       "      <td>126.0</td>\n",
       "      <td>107.9250</td>\n",
       "    </tr>\n",
       "    <tr>\n",
       "      <th>3</th>\n",
       "      <td>135.0</td>\n",
       "      <td>153.1000</td>\n",
       "    </tr>\n",
       "    <tr>\n",
       "      <th>4</th>\n",
       "      <td>135.0</td>\n",
       "      <td>108.0500</td>\n",
       "    </tr>\n",
       "  </tbody>\n",
       "</table>\n",
       "</div>"
      ],
      "text/plain": [
       "     age      fare\n",
       "0  122.0  107.2500\n",
       "1  138.0  171.2833\n",
       "2  126.0  107.9250\n",
       "3  135.0  153.1000\n",
       "4  135.0  108.0500"
      ]
     },
     "execution_count": 32,
     "metadata": {},
     "output_type": "execute_result"
    }
   ],
   "source": [
    "DF.apply(lambda x: x + 100)"
   ]
  },
  {
   "cell_type": "markdown",
   "metadata": {
    "colab_type": "text",
    "id": "XQh_tVUWj0Vg"
   },
   "source": [
    "* pipe( ) apply랑 동일하게 적용"
   ]
  },
  {
   "cell_type": "code",
   "execution_count": 33,
   "metadata": {
    "colab": {
     "base_uri": "https://localhost:8080/",
     "height": 123
    },
    "colab_type": "code",
    "executionInfo": {
     "elapsed": 1705,
     "status": "ok",
     "timestamp": 1596106379147,
     "user": {
      "displayName": "contravia@naver.com",
      "photoUrl": "",
      "userId": "04072428075549197225"
     },
     "user_tz": -540
    },
    "id": "NLo4NXR4coVN",
    "outputId": "652c1226-5112-4ac8-a4cb-298e019bf3d0"
   },
   "outputs": [
    {
     "data": {
      "text/plain": [
       "0    122.0\n",
       "1    138.0\n",
       "2    126.0\n",
       "3    135.0\n",
       "4    135.0\n",
       "Name: age, dtype: float64"
      ]
     },
     "execution_count": 33,
     "metadata": {},
     "output_type": "execute_result"
    }
   ],
   "source": [
    "DF['age'].pipe(lambda x: x + 100)"
   ]
  },
  {
   "cell_type": "code",
   "execution_count": 34,
   "metadata": {
    "colab": {
     "base_uri": "https://localhost:8080/",
     "height": 197
    },
    "colab_type": "code",
    "executionInfo": {
     "elapsed": 1008,
     "status": "ok",
     "timestamp": 1596106380932,
     "user": {
      "displayName": "contravia@naver.com",
      "photoUrl": "",
      "userId": "04072428075549197225"
     },
     "user_tz": -540
    },
    "id": "eqXRKuhc6fBD",
    "outputId": "483f75a9-cf19-4bc9-90b0-8e7458d8834d"
   },
   "outputs": [
    {
     "data": {
      "text/html": [
       "<div>\n",
       "<style scoped>\n",
       "    .dataframe tbody tr th:only-of-type {\n",
       "        vertical-align: middle;\n",
       "    }\n",
       "\n",
       "    .dataframe tbody tr th {\n",
       "        vertical-align: top;\n",
       "    }\n",
       "\n",
       "    .dataframe thead th {\n",
       "        text-align: right;\n",
       "    }\n",
       "</style>\n",
       "<table border=\"1\" class=\"dataframe\">\n",
       "  <thead>\n",
       "    <tr style=\"text-align: right;\">\n",
       "      <th></th>\n",
       "      <th>age</th>\n",
       "      <th>fare</th>\n",
       "    </tr>\n",
       "  </thead>\n",
       "  <tbody>\n",
       "    <tr>\n",
       "      <th>0</th>\n",
       "      <td>122.0</td>\n",
       "      <td>107.2500</td>\n",
       "    </tr>\n",
       "    <tr>\n",
       "      <th>1</th>\n",
       "      <td>138.0</td>\n",
       "      <td>171.2833</td>\n",
       "    </tr>\n",
       "    <tr>\n",
       "      <th>2</th>\n",
       "      <td>126.0</td>\n",
       "      <td>107.9250</td>\n",
       "    </tr>\n",
       "    <tr>\n",
       "      <th>3</th>\n",
       "      <td>135.0</td>\n",
       "      <td>153.1000</td>\n",
       "    </tr>\n",
       "    <tr>\n",
       "      <th>4</th>\n",
       "      <td>135.0</td>\n",
       "      <td>108.0500</td>\n",
       "    </tr>\n",
       "  </tbody>\n",
       "</table>\n",
       "</div>"
      ],
      "text/plain": [
       "     age      fare\n",
       "0  122.0  107.2500\n",
       "1  138.0  171.2833\n",
       "2  126.0  107.9250\n",
       "3  135.0  153.1000\n",
       "4  135.0  108.0500"
      ]
     },
     "execution_count": 34,
     "metadata": {},
     "output_type": "execute_result"
    }
   ],
   "source": [
    "DF.pipe(lambda x: x + 100)"
   ]
  },
  {
   "cell_type": "markdown",
   "metadata": {
    "colab_type": "text",
    "id": "-YObc1nUfLDn"
   },
   "source": [
    "# III. Filtering(필터링)"
   ]
  },
  {
   "cell_type": "markdown",
   "metadata": {
    "colab_type": "text",
    "id": "SMN6vr9AnGtK"
   },
   "source": [
    "> ## 1) 실습용 'titanic' 데이터셋"
   ]
  },
  {
   "cell_type": "code",
   "execution_count": 35,
   "metadata": {
    "colab": {
     "base_uri": "https://localhost:8080/",
     "height": 406
    },
    "colab_type": "code",
    "executionInfo": {
     "elapsed": 810,
     "status": "ok",
     "timestamp": 1596108805805,
     "user": {
      "displayName": "contravia@naver.com",
      "photoUrl": "",
      "userId": "04072428075549197225"
     },
     "user_tz": -540
    },
    "id": "rUdb6CmPfQWf",
    "outputId": "9cc73f49-6057-4849-be01-d81c31e8908b"
   },
   "outputs": [
    {
     "data": {
      "text/html": [
       "<div>\n",
       "<style scoped>\n",
       "    .dataframe tbody tr th:only-of-type {\n",
       "        vertical-align: middle;\n",
       "    }\n",
       "\n",
       "    .dataframe tbody tr th {\n",
       "        vertical-align: top;\n",
       "    }\n",
       "\n",
       "    .dataframe thead th {\n",
       "        text-align: right;\n",
       "    }\n",
       "</style>\n",
       "<table border=\"1\" class=\"dataframe\">\n",
       "  <thead>\n",
       "    <tr style=\"text-align: right;\">\n",
       "      <th></th>\n",
       "      <th>survived</th>\n",
       "      <th>pclass</th>\n",
       "      <th>sex</th>\n",
       "      <th>age</th>\n",
       "      <th>sibsp</th>\n",
       "      <th>parch</th>\n",
       "      <th>fare</th>\n",
       "      <th>embarked</th>\n",
       "      <th>class</th>\n",
       "      <th>who</th>\n",
       "      <th>adult_male</th>\n",
       "      <th>deck</th>\n",
       "      <th>embark_town</th>\n",
       "      <th>alive</th>\n",
       "      <th>alone</th>\n",
       "    </tr>\n",
       "  </thead>\n",
       "  <tbody>\n",
       "    <tr>\n",
       "      <th>0</th>\n",
       "      <td>0</td>\n",
       "      <td>3</td>\n",
       "      <td>male</td>\n",
       "      <td>22.0</td>\n",
       "      <td>1</td>\n",
       "      <td>0</td>\n",
       "      <td>7.2500</td>\n",
       "      <td>S</td>\n",
       "      <td>Third</td>\n",
       "      <td>man</td>\n",
       "      <td>True</td>\n",
       "      <td>NaN</td>\n",
       "      <td>Southampton</td>\n",
       "      <td>no</td>\n",
       "      <td>False</td>\n",
       "    </tr>\n",
       "    <tr>\n",
       "      <th>1</th>\n",
       "      <td>1</td>\n",
       "      <td>1</td>\n",
       "      <td>female</td>\n",
       "      <td>38.0</td>\n",
       "      <td>1</td>\n",
       "      <td>0</td>\n",
       "      <td>71.2833</td>\n",
       "      <td>C</td>\n",
       "      <td>First</td>\n",
       "      <td>woman</td>\n",
       "      <td>False</td>\n",
       "      <td>C</td>\n",
       "      <td>Cherbourg</td>\n",
       "      <td>yes</td>\n",
       "      <td>False</td>\n",
       "    </tr>\n",
       "    <tr>\n",
       "      <th>2</th>\n",
       "      <td>1</td>\n",
       "      <td>3</td>\n",
       "      <td>female</td>\n",
       "      <td>26.0</td>\n",
       "      <td>0</td>\n",
       "      <td>0</td>\n",
       "      <td>7.9250</td>\n",
       "      <td>S</td>\n",
       "      <td>Third</td>\n",
       "      <td>woman</td>\n",
       "      <td>False</td>\n",
       "      <td>NaN</td>\n",
       "      <td>Southampton</td>\n",
       "      <td>yes</td>\n",
       "      <td>True</td>\n",
       "    </tr>\n",
       "    <tr>\n",
       "      <th>3</th>\n",
       "      <td>1</td>\n",
       "      <td>1</td>\n",
       "      <td>female</td>\n",
       "      <td>35.0</td>\n",
       "      <td>1</td>\n",
       "      <td>0</td>\n",
       "      <td>53.1000</td>\n",
       "      <td>S</td>\n",
       "      <td>First</td>\n",
       "      <td>woman</td>\n",
       "      <td>False</td>\n",
       "      <td>C</td>\n",
       "      <td>Southampton</td>\n",
       "      <td>yes</td>\n",
       "      <td>False</td>\n",
       "    </tr>\n",
       "    <tr>\n",
       "      <th>4</th>\n",
       "      <td>0</td>\n",
       "      <td>3</td>\n",
       "      <td>male</td>\n",
       "      <td>35.0</td>\n",
       "      <td>0</td>\n",
       "      <td>0</td>\n",
       "      <td>8.0500</td>\n",
       "      <td>S</td>\n",
       "      <td>Third</td>\n",
       "      <td>man</td>\n",
       "      <td>True</td>\n",
       "      <td>NaN</td>\n",
       "      <td>Southampton</td>\n",
       "      <td>no</td>\n",
       "      <td>True</td>\n",
       "    </tr>\n",
       "    <tr>\n",
       "      <th>...</th>\n",
       "      <td>...</td>\n",
       "      <td>...</td>\n",
       "      <td>...</td>\n",
       "      <td>...</td>\n",
       "      <td>...</td>\n",
       "      <td>...</td>\n",
       "      <td>...</td>\n",
       "      <td>...</td>\n",
       "      <td>...</td>\n",
       "      <td>...</td>\n",
       "      <td>...</td>\n",
       "      <td>...</td>\n",
       "      <td>...</td>\n",
       "      <td>...</td>\n",
       "      <td>...</td>\n",
       "    </tr>\n",
       "    <tr>\n",
       "      <th>886</th>\n",
       "      <td>0</td>\n",
       "      <td>2</td>\n",
       "      <td>male</td>\n",
       "      <td>27.0</td>\n",
       "      <td>0</td>\n",
       "      <td>0</td>\n",
       "      <td>13.0000</td>\n",
       "      <td>S</td>\n",
       "      <td>Second</td>\n",
       "      <td>man</td>\n",
       "      <td>True</td>\n",
       "      <td>NaN</td>\n",
       "      <td>Southampton</td>\n",
       "      <td>no</td>\n",
       "      <td>True</td>\n",
       "    </tr>\n",
       "    <tr>\n",
       "      <th>887</th>\n",
       "      <td>1</td>\n",
       "      <td>1</td>\n",
       "      <td>female</td>\n",
       "      <td>19.0</td>\n",
       "      <td>0</td>\n",
       "      <td>0</td>\n",
       "      <td>30.0000</td>\n",
       "      <td>S</td>\n",
       "      <td>First</td>\n",
       "      <td>woman</td>\n",
       "      <td>False</td>\n",
       "      <td>B</td>\n",
       "      <td>Southampton</td>\n",
       "      <td>yes</td>\n",
       "      <td>True</td>\n",
       "    </tr>\n",
       "    <tr>\n",
       "      <th>888</th>\n",
       "      <td>0</td>\n",
       "      <td>3</td>\n",
       "      <td>female</td>\n",
       "      <td>NaN</td>\n",
       "      <td>1</td>\n",
       "      <td>2</td>\n",
       "      <td>23.4500</td>\n",
       "      <td>S</td>\n",
       "      <td>Third</td>\n",
       "      <td>woman</td>\n",
       "      <td>False</td>\n",
       "      <td>NaN</td>\n",
       "      <td>Southampton</td>\n",
       "      <td>no</td>\n",
       "      <td>False</td>\n",
       "    </tr>\n",
       "    <tr>\n",
       "      <th>889</th>\n",
       "      <td>1</td>\n",
       "      <td>1</td>\n",
       "      <td>male</td>\n",
       "      <td>26.0</td>\n",
       "      <td>0</td>\n",
       "      <td>0</td>\n",
       "      <td>30.0000</td>\n",
       "      <td>C</td>\n",
       "      <td>First</td>\n",
       "      <td>man</td>\n",
       "      <td>True</td>\n",
       "      <td>C</td>\n",
       "      <td>Cherbourg</td>\n",
       "      <td>yes</td>\n",
       "      <td>True</td>\n",
       "    </tr>\n",
       "    <tr>\n",
       "      <th>890</th>\n",
       "      <td>0</td>\n",
       "      <td>3</td>\n",
       "      <td>male</td>\n",
       "      <td>32.0</td>\n",
       "      <td>0</td>\n",
       "      <td>0</td>\n",
       "      <td>7.7500</td>\n",
       "      <td>Q</td>\n",
       "      <td>Third</td>\n",
       "      <td>man</td>\n",
       "      <td>True</td>\n",
       "      <td>NaN</td>\n",
       "      <td>Queenstown</td>\n",
       "      <td>no</td>\n",
       "      <td>True</td>\n",
       "    </tr>\n",
       "  </tbody>\n",
       "</table>\n",
       "<p>891 rows × 15 columns</p>\n",
       "</div>"
      ],
      "text/plain": [
       "     survived  pclass     sex   age  sibsp  parch     fare embarked   class  \\\n",
       "0           0       3    male  22.0      1      0   7.2500        S   Third   \n",
       "1           1       1  female  38.0      1      0  71.2833        C   First   \n",
       "2           1       3  female  26.0      0      0   7.9250        S   Third   \n",
       "3           1       1  female  35.0      1      0  53.1000        S   First   \n",
       "4           0       3    male  35.0      0      0   8.0500        S   Third   \n",
       "..        ...     ...     ...   ...    ...    ...      ...      ...     ...   \n",
       "886         0       2    male  27.0      0      0  13.0000        S  Second   \n",
       "887         1       1  female  19.0      0      0  30.0000        S   First   \n",
       "888         0       3  female   NaN      1      2  23.4500        S   Third   \n",
       "889         1       1    male  26.0      0      0  30.0000        C   First   \n",
       "890         0       3    male  32.0      0      0   7.7500        Q   Third   \n",
       "\n",
       "       who  adult_male deck  embark_town alive  alone  \n",
       "0      man        True  NaN  Southampton    no  False  \n",
       "1    woman       False    C    Cherbourg   yes  False  \n",
       "2    woman       False  NaN  Southampton   yes   True  \n",
       "3    woman       False    C  Southampton   yes  False  \n",
       "4      man        True  NaN  Southampton    no   True  \n",
       "..     ...         ...  ...          ...   ...    ...  \n",
       "886    man        True  NaN  Southampton    no   True  \n",
       "887  woman       False    B  Southampton   yes   True  \n",
       "888  woman       False  NaN  Southampton    no  False  \n",
       "889    man        True    C    Cherbourg   yes   True  \n",
       "890    man        True  NaN   Queenstown    no   True  \n",
       "\n",
       "[891 rows x 15 columns]"
      ]
     },
     "execution_count": 35,
     "metadata": {},
     "output_type": "execute_result"
    }
   ],
   "source": [
    "import seaborn as sns\n",
    "titanic = sns.load_dataset('titanic')\n",
    "titanic\n",
    "# titanic.head(3)"
   ]
  },
  {
   "cell_type": "markdown",
   "metadata": {
    "colab_type": "text",
    "id": "vR6JFUwvn6QB"
   },
   "source": [
    "> ## 2) 'age'가 10살 이상이면서 20살 미만"
   ]
  },
  {
   "cell_type": "code",
   "execution_count": 36,
   "metadata": {
    "colab": {
     "base_uri": "https://localhost:8080/",
     "height": 197
    },
    "colab_type": "code",
    "executionInfo": {
     "elapsed": 984,
     "status": "ok",
     "timestamp": 1596106473531,
     "user": {
      "displayName": "contravia@naver.com",
      "photoUrl": "",
      "userId": "04072428075549197225"
     },
     "user_tz": -540
    },
    "id": "3tgWD6pXm8dy",
    "outputId": "7e9837eb-8af0-4295-de9d-79916ab8260b"
   },
   "outputs": [
    {
     "data": {
      "text/html": [
       "<div>\n",
       "<style scoped>\n",
       "    .dataframe tbody tr th:only-of-type {\n",
       "        vertical-align: middle;\n",
       "    }\n",
       "\n",
       "    .dataframe tbody tr th {\n",
       "        vertical-align: top;\n",
       "    }\n",
       "\n",
       "    .dataframe thead th {\n",
       "        text-align: right;\n",
       "    }\n",
       "</style>\n",
       "<table border=\"1\" class=\"dataframe\">\n",
       "  <thead>\n",
       "    <tr style=\"text-align: right;\">\n",
       "      <th></th>\n",
       "      <th>survived</th>\n",
       "      <th>pclass</th>\n",
       "      <th>sex</th>\n",
       "      <th>age</th>\n",
       "      <th>sibsp</th>\n",
       "      <th>parch</th>\n",
       "      <th>fare</th>\n",
       "      <th>embarked</th>\n",
       "      <th>class</th>\n",
       "      <th>who</th>\n",
       "      <th>adult_male</th>\n",
       "      <th>deck</th>\n",
       "      <th>embark_town</th>\n",
       "      <th>alive</th>\n",
       "      <th>alone</th>\n",
       "    </tr>\n",
       "  </thead>\n",
       "  <tbody>\n",
       "    <tr>\n",
       "      <th>9</th>\n",
       "      <td>1</td>\n",
       "      <td>2</td>\n",
       "      <td>female</td>\n",
       "      <td>14.0</td>\n",
       "      <td>1</td>\n",
       "      <td>0</td>\n",
       "      <td>30.0708</td>\n",
       "      <td>C</td>\n",
       "      <td>Second</td>\n",
       "      <td>child</td>\n",
       "      <td>False</td>\n",
       "      <td>NaN</td>\n",
       "      <td>Cherbourg</td>\n",
       "      <td>yes</td>\n",
       "      <td>False</td>\n",
       "    </tr>\n",
       "    <tr>\n",
       "      <th>14</th>\n",
       "      <td>0</td>\n",
       "      <td>3</td>\n",
       "      <td>female</td>\n",
       "      <td>14.0</td>\n",
       "      <td>0</td>\n",
       "      <td>0</td>\n",
       "      <td>7.8542</td>\n",
       "      <td>S</td>\n",
       "      <td>Third</td>\n",
       "      <td>child</td>\n",
       "      <td>False</td>\n",
       "      <td>NaN</td>\n",
       "      <td>Southampton</td>\n",
       "      <td>no</td>\n",
       "      <td>True</td>\n",
       "    </tr>\n",
       "    <tr>\n",
       "      <th>22</th>\n",
       "      <td>1</td>\n",
       "      <td>3</td>\n",
       "      <td>female</td>\n",
       "      <td>15.0</td>\n",
       "      <td>0</td>\n",
       "      <td>0</td>\n",
       "      <td>8.0292</td>\n",
       "      <td>Q</td>\n",
       "      <td>Third</td>\n",
       "      <td>child</td>\n",
       "      <td>False</td>\n",
       "      <td>NaN</td>\n",
       "      <td>Queenstown</td>\n",
       "      <td>yes</td>\n",
       "      <td>True</td>\n",
       "    </tr>\n",
       "    <tr>\n",
       "      <th>27</th>\n",
       "      <td>0</td>\n",
       "      <td>1</td>\n",
       "      <td>male</td>\n",
       "      <td>19.0</td>\n",
       "      <td>3</td>\n",
       "      <td>2</td>\n",
       "      <td>263.0000</td>\n",
       "      <td>S</td>\n",
       "      <td>First</td>\n",
       "      <td>man</td>\n",
       "      <td>True</td>\n",
       "      <td>C</td>\n",
       "      <td>Southampton</td>\n",
       "      <td>no</td>\n",
       "      <td>False</td>\n",
       "    </tr>\n",
       "    <tr>\n",
       "      <th>38</th>\n",
       "      <td>0</td>\n",
       "      <td>3</td>\n",
       "      <td>female</td>\n",
       "      <td>18.0</td>\n",
       "      <td>2</td>\n",
       "      <td>0</td>\n",
       "      <td>18.0000</td>\n",
       "      <td>S</td>\n",
       "      <td>Third</td>\n",
       "      <td>woman</td>\n",
       "      <td>False</td>\n",
       "      <td>NaN</td>\n",
       "      <td>Southampton</td>\n",
       "      <td>no</td>\n",
       "      <td>False</td>\n",
       "    </tr>\n",
       "  </tbody>\n",
       "</table>\n",
       "</div>"
      ],
      "text/plain": [
       "    survived  pclass     sex   age  sibsp  parch      fare embarked   class  \\\n",
       "9          1       2  female  14.0      1      0   30.0708        C  Second   \n",
       "14         0       3  female  14.0      0      0    7.8542        S   Third   \n",
       "22         1       3  female  15.0      0      0    8.0292        Q   Third   \n",
       "27         0       1    male  19.0      3      2  263.0000        S   First   \n",
       "38         0       3  female  18.0      2      0   18.0000        S   Third   \n",
       "\n",
       "      who  adult_male deck  embark_town alive  alone  \n",
       "9   child       False  NaN    Cherbourg   yes  False  \n",
       "14  child       False  NaN  Southampton    no   True  \n",
       "22  child       False  NaN   Queenstown   yes   True  \n",
       "27    man        True    C  Southampton    no  False  \n",
       "38  woman       False  NaN  Southampton    no  False  "
      ]
     },
     "execution_count": 36,
     "metadata": {},
     "output_type": "execute_result"
    }
   ],
   "source": [
    "Filter_1 = (titanic.age >= 10) & (titanic.age < 20)\n",
    "\n",
    "titanic.loc[Filter_1, :].head()"
   ]
  },
  {
   "cell_type": "code",
   "execution_count": 37,
   "metadata": {
    "colab": {
     "base_uri": "https://localhost:8080/",
     "height": 197
    },
    "colab_type": "code",
    "executionInfo": {
     "elapsed": 1352,
     "status": "ok",
     "timestamp": 1596106605803,
     "user": {
      "displayName": "contravia@naver.com",
      "photoUrl": "",
      "userId": "04072428075549197225"
     },
     "user_tz": -540
    },
    "id": "2fKnRYLkXWcM",
    "outputId": "f22070e4-dd23-449b-d110-de0feee1591c"
   },
   "outputs": [
    {
     "data": {
      "text/html": [
       "<div>\n",
       "<style scoped>\n",
       "    .dataframe tbody tr th:only-of-type {\n",
       "        vertical-align: middle;\n",
       "    }\n",
       "\n",
       "    .dataframe tbody tr th {\n",
       "        vertical-align: top;\n",
       "    }\n",
       "\n",
       "    .dataframe thead th {\n",
       "        text-align: right;\n",
       "    }\n",
       "</style>\n",
       "<table border=\"1\" class=\"dataframe\">\n",
       "  <thead>\n",
       "    <tr style=\"text-align: right;\">\n",
       "      <th></th>\n",
       "      <th>survived</th>\n",
       "      <th>pclass</th>\n",
       "      <th>sex</th>\n",
       "      <th>age</th>\n",
       "      <th>sibsp</th>\n",
       "      <th>parch</th>\n",
       "      <th>fare</th>\n",
       "      <th>embarked</th>\n",
       "      <th>class</th>\n",
       "      <th>who</th>\n",
       "      <th>adult_male</th>\n",
       "      <th>deck</th>\n",
       "      <th>embark_town</th>\n",
       "      <th>alive</th>\n",
       "      <th>alone</th>\n",
       "    </tr>\n",
       "  </thead>\n",
       "  <tbody>\n",
       "    <tr>\n",
       "      <th>9</th>\n",
       "      <td>1</td>\n",
       "      <td>2</td>\n",
       "      <td>female</td>\n",
       "      <td>14.0</td>\n",
       "      <td>1</td>\n",
       "      <td>0</td>\n",
       "      <td>30.0708</td>\n",
       "      <td>C</td>\n",
       "      <td>Second</td>\n",
       "      <td>child</td>\n",
       "      <td>False</td>\n",
       "      <td>NaN</td>\n",
       "      <td>Cherbourg</td>\n",
       "      <td>yes</td>\n",
       "      <td>False</td>\n",
       "    </tr>\n",
       "    <tr>\n",
       "      <th>14</th>\n",
       "      <td>0</td>\n",
       "      <td>3</td>\n",
       "      <td>female</td>\n",
       "      <td>14.0</td>\n",
       "      <td>0</td>\n",
       "      <td>0</td>\n",
       "      <td>7.8542</td>\n",
       "      <td>S</td>\n",
       "      <td>Third</td>\n",
       "      <td>child</td>\n",
       "      <td>False</td>\n",
       "      <td>NaN</td>\n",
       "      <td>Southampton</td>\n",
       "      <td>no</td>\n",
       "      <td>True</td>\n",
       "    </tr>\n",
       "    <tr>\n",
       "      <th>22</th>\n",
       "      <td>1</td>\n",
       "      <td>3</td>\n",
       "      <td>female</td>\n",
       "      <td>15.0</td>\n",
       "      <td>0</td>\n",
       "      <td>0</td>\n",
       "      <td>8.0292</td>\n",
       "      <td>Q</td>\n",
       "      <td>Third</td>\n",
       "      <td>child</td>\n",
       "      <td>False</td>\n",
       "      <td>NaN</td>\n",
       "      <td>Queenstown</td>\n",
       "      <td>yes</td>\n",
       "      <td>True</td>\n",
       "    </tr>\n",
       "    <tr>\n",
       "      <th>27</th>\n",
       "      <td>0</td>\n",
       "      <td>1</td>\n",
       "      <td>male</td>\n",
       "      <td>19.0</td>\n",
       "      <td>3</td>\n",
       "      <td>2</td>\n",
       "      <td>263.0000</td>\n",
       "      <td>S</td>\n",
       "      <td>First</td>\n",
       "      <td>man</td>\n",
       "      <td>True</td>\n",
       "      <td>C</td>\n",
       "      <td>Southampton</td>\n",
       "      <td>no</td>\n",
       "      <td>False</td>\n",
       "    </tr>\n",
       "    <tr>\n",
       "      <th>38</th>\n",
       "      <td>0</td>\n",
       "      <td>3</td>\n",
       "      <td>female</td>\n",
       "      <td>18.0</td>\n",
       "      <td>2</td>\n",
       "      <td>0</td>\n",
       "      <td>18.0000</td>\n",
       "      <td>S</td>\n",
       "      <td>Third</td>\n",
       "      <td>woman</td>\n",
       "      <td>False</td>\n",
       "      <td>NaN</td>\n",
       "      <td>Southampton</td>\n",
       "      <td>no</td>\n",
       "      <td>False</td>\n",
       "    </tr>\n",
       "  </tbody>\n",
       "</table>\n",
       "</div>"
      ],
      "text/plain": [
       "    survived  pclass     sex   age  sibsp  parch      fare embarked   class  \\\n",
       "9          1       2  female  14.0      1      0   30.0708        C  Second   \n",
       "14         0       3  female  14.0      0      0    7.8542        S   Third   \n",
       "22         1       3  female  15.0      0      0    8.0292        Q   Third   \n",
       "27         0       1    male  19.0      3      2  263.0000        S   First   \n",
       "38         0       3  female  18.0      2      0   18.0000        S   Third   \n",
       "\n",
       "      who  adult_male deck  embark_town alive  alone  \n",
       "9   child       False  NaN    Cherbourg   yes  False  \n",
       "14  child       False  NaN  Southampton    no   True  \n",
       "22  child       False  NaN   Queenstown   yes   True  \n",
       "27    man        True    C  Southampton    no  False  \n",
       "38  woman       False  NaN  Southampton    no  False  "
      ]
     },
     "execution_count": 37,
     "metadata": {},
     "output_type": "execute_result"
    }
   ],
   "source": [
    "titanic.loc[(titanic.age >= 10) & (titanic.age < 20), :].head()"
   ]
  },
  {
   "cell_type": "markdown",
   "metadata": {
    "colab_type": "text",
    "id": "fd0Tgz7PoG2n"
   },
   "source": [
    "> ## 3) 'age'가 10살 미만이면서 'sex'이 여자"
   ]
  },
  {
   "cell_type": "code",
   "execution_count": 38,
   "metadata": {
    "colab": {},
    "colab_type": "code",
    "id": "YfnpE94Ig5xX"
   },
   "outputs": [
    {
     "data": {
      "text/html": [
       "<div>\n",
       "<style scoped>\n",
       "    .dataframe tbody tr th:only-of-type {\n",
       "        vertical-align: middle;\n",
       "    }\n",
       "\n",
       "    .dataframe tbody tr th {\n",
       "        vertical-align: top;\n",
       "    }\n",
       "\n",
       "    .dataframe thead th {\n",
       "        text-align: right;\n",
       "    }\n",
       "</style>\n",
       "<table border=\"1\" class=\"dataframe\">\n",
       "  <thead>\n",
       "    <tr style=\"text-align: right;\">\n",
       "      <th></th>\n",
       "      <th>survived</th>\n",
       "      <th>pclass</th>\n",
       "      <th>sex</th>\n",
       "      <th>age</th>\n",
       "      <th>sibsp</th>\n",
       "      <th>parch</th>\n",
       "      <th>fare</th>\n",
       "      <th>embarked</th>\n",
       "      <th>class</th>\n",
       "      <th>who</th>\n",
       "      <th>adult_male</th>\n",
       "      <th>deck</th>\n",
       "      <th>embark_town</th>\n",
       "      <th>alive</th>\n",
       "      <th>alone</th>\n",
       "    </tr>\n",
       "  </thead>\n",
       "  <tbody>\n",
       "    <tr>\n",
       "      <th>10</th>\n",
       "      <td>1</td>\n",
       "      <td>3</td>\n",
       "      <td>female</td>\n",
       "      <td>4.0</td>\n",
       "      <td>1</td>\n",
       "      <td>1</td>\n",
       "      <td>16.7000</td>\n",
       "      <td>S</td>\n",
       "      <td>Third</td>\n",
       "      <td>child</td>\n",
       "      <td>False</td>\n",
       "      <td>G</td>\n",
       "      <td>Southampton</td>\n",
       "      <td>yes</td>\n",
       "      <td>False</td>\n",
       "    </tr>\n",
       "    <tr>\n",
       "      <th>24</th>\n",
       "      <td>0</td>\n",
       "      <td>3</td>\n",
       "      <td>female</td>\n",
       "      <td>8.0</td>\n",
       "      <td>3</td>\n",
       "      <td>1</td>\n",
       "      <td>21.0750</td>\n",
       "      <td>S</td>\n",
       "      <td>Third</td>\n",
       "      <td>child</td>\n",
       "      <td>False</td>\n",
       "      <td>NaN</td>\n",
       "      <td>Southampton</td>\n",
       "      <td>no</td>\n",
       "      <td>False</td>\n",
       "    </tr>\n",
       "    <tr>\n",
       "      <th>43</th>\n",
       "      <td>1</td>\n",
       "      <td>2</td>\n",
       "      <td>female</td>\n",
       "      <td>3.0</td>\n",
       "      <td>1</td>\n",
       "      <td>2</td>\n",
       "      <td>41.5792</td>\n",
       "      <td>C</td>\n",
       "      <td>Second</td>\n",
       "      <td>child</td>\n",
       "      <td>False</td>\n",
       "      <td>NaN</td>\n",
       "      <td>Cherbourg</td>\n",
       "      <td>yes</td>\n",
       "      <td>False</td>\n",
       "    </tr>\n",
       "    <tr>\n",
       "      <th>58</th>\n",
       "      <td>1</td>\n",
       "      <td>2</td>\n",
       "      <td>female</td>\n",
       "      <td>5.0</td>\n",
       "      <td>1</td>\n",
       "      <td>2</td>\n",
       "      <td>27.7500</td>\n",
       "      <td>S</td>\n",
       "      <td>Second</td>\n",
       "      <td>child</td>\n",
       "      <td>False</td>\n",
       "      <td>NaN</td>\n",
       "      <td>Southampton</td>\n",
       "      <td>yes</td>\n",
       "      <td>False</td>\n",
       "    </tr>\n",
       "    <tr>\n",
       "      <th>119</th>\n",
       "      <td>0</td>\n",
       "      <td>3</td>\n",
       "      <td>female</td>\n",
       "      <td>2.0</td>\n",
       "      <td>4</td>\n",
       "      <td>2</td>\n",
       "      <td>31.2750</td>\n",
       "      <td>S</td>\n",
       "      <td>Third</td>\n",
       "      <td>child</td>\n",
       "      <td>False</td>\n",
       "      <td>NaN</td>\n",
       "      <td>Southampton</td>\n",
       "      <td>no</td>\n",
       "      <td>False</td>\n",
       "    </tr>\n",
       "  </tbody>\n",
       "</table>\n",
       "</div>"
      ],
      "text/plain": [
       "     survived  pclass     sex  age  sibsp  parch     fare embarked   class  \\\n",
       "10          1       3  female  4.0      1      1  16.7000        S   Third   \n",
       "24          0       3  female  8.0      3      1  21.0750        S   Third   \n",
       "43          1       2  female  3.0      1      2  41.5792        C  Second   \n",
       "58          1       2  female  5.0      1      2  27.7500        S  Second   \n",
       "119         0       3  female  2.0      4      2  31.2750        S   Third   \n",
       "\n",
       "       who  adult_male deck  embark_town alive  alone  \n",
       "10   child       False    G  Southampton   yes  False  \n",
       "24   child       False  NaN  Southampton    no  False  \n",
       "43   child       False  NaN    Cherbourg   yes  False  \n",
       "58   child       False  NaN  Southampton   yes  False  \n",
       "119  child       False  NaN  Southampton    no  False  "
      ]
     },
     "execution_count": 38,
     "metadata": {},
     "output_type": "execute_result"
    }
   ],
   "source": [
    "Filter_2 = (titanic.age < 10) & (titanic.sex == 'female')\n",
    "\n",
    "titanic.loc[Filter_2, :].head()"
   ]
  },
  {
   "cell_type": "markdown",
   "metadata": {
    "colab_type": "text",
    "id": "hy42yyeJoUNE"
   },
   "source": [
    "> ## 4) 'age'가 10살 미만 또는 60살 이상\n",
    "\n",
    "* 'age', 'sex', 'alone' 열만 출력"
   ]
  },
  {
   "cell_type": "code",
   "execution_count": 39,
   "metadata": {
    "colab": {
     "base_uri": "https://localhost:8080/",
     "height": 197
    },
    "colab_type": "code",
    "executionInfo": {
     "elapsed": 837,
     "status": "ok",
     "timestamp": 1596106880497,
     "user": {
      "displayName": "contravia@naver.com",
      "photoUrl": "",
      "userId": "04072428075549197225"
     },
     "user_tz": -540
    },
    "id": "iO7WzUSEhomv",
    "outputId": "32f99043-c450-49a1-b312-b08a181cef62"
   },
   "outputs": [
    {
     "data": {
      "text/html": [
       "<div>\n",
       "<style scoped>\n",
       "    .dataframe tbody tr th:only-of-type {\n",
       "        vertical-align: middle;\n",
       "    }\n",
       "\n",
       "    .dataframe tbody tr th {\n",
       "        vertical-align: top;\n",
       "    }\n",
       "\n",
       "    .dataframe thead th {\n",
       "        text-align: right;\n",
       "    }\n",
       "</style>\n",
       "<table border=\"1\" class=\"dataframe\">\n",
       "  <thead>\n",
       "    <tr style=\"text-align: right;\">\n",
       "      <th></th>\n",
       "      <th>age</th>\n",
       "      <th>sex</th>\n",
       "      <th>alone</th>\n",
       "    </tr>\n",
       "  </thead>\n",
       "  <tbody>\n",
       "    <tr>\n",
       "      <th>7</th>\n",
       "      <td>2.0</td>\n",
       "      <td>male</td>\n",
       "      <td>False</td>\n",
       "    </tr>\n",
       "    <tr>\n",
       "      <th>10</th>\n",
       "      <td>4.0</td>\n",
       "      <td>female</td>\n",
       "      <td>False</td>\n",
       "    </tr>\n",
       "    <tr>\n",
       "      <th>16</th>\n",
       "      <td>2.0</td>\n",
       "      <td>male</td>\n",
       "      <td>False</td>\n",
       "    </tr>\n",
       "    <tr>\n",
       "      <th>24</th>\n",
       "      <td>8.0</td>\n",
       "      <td>female</td>\n",
       "      <td>False</td>\n",
       "    </tr>\n",
       "    <tr>\n",
       "      <th>33</th>\n",
       "      <td>66.0</td>\n",
       "      <td>male</td>\n",
       "      <td>True</td>\n",
       "    </tr>\n",
       "  </tbody>\n",
       "</table>\n",
       "</div>"
      ],
      "text/plain": [
       "     age     sex  alone\n",
       "7    2.0    male  False\n",
       "10   4.0  female  False\n",
       "16   2.0    male  False\n",
       "24   8.0  female  False\n",
       "33  66.0    male   True"
      ]
     },
     "execution_count": 39,
     "metadata": {},
     "output_type": "execute_result"
    }
   ],
   "source": [
    "Filter_3 = (titanic.age < 10) | (titanic.age >= 60)\n",
    "\n",
    "titanic.loc[Filter_3, ['age','sex','alone']].head()"
   ]
  },
  {
   "cell_type": "markdown",
   "metadata": {
    "colab_type": "text",
    "id": "9sPwcuOHigPX"
   },
   "source": [
    "> ## 5) isin( )\n",
    "\n",
    "* 'sibsp'에 3 또는 4 또는 5를 포함\n",
    " - 'sibsp == 3 | sibsp == 4 | sibsp == 5'"
   ]
  },
  {
   "cell_type": "code",
   "execution_count": 40,
   "metadata": {
    "colab": {
     "base_uri": "https://localhost:8080/",
     "height": 227
    },
    "colab_type": "code",
    "executionInfo": {
     "elapsed": 707,
     "status": "ok",
     "timestamp": 1596106883897,
     "user": {
      "displayName": "contravia@naver.com",
      "photoUrl": "",
      "userId": "04072428075549197225"
     },
     "user_tz": -540
    },
    "id": "KmgZ93cOkvlo",
    "outputId": "5f026a48-edff-4f23-c69e-b4ca2831c5b6"
   },
   "outputs": [
    {
     "data": {
      "text/html": [
       "<div>\n",
       "<style scoped>\n",
       "    .dataframe tbody tr th:only-of-type {\n",
       "        vertical-align: middle;\n",
       "    }\n",
       "\n",
       "    .dataframe tbody tr th {\n",
       "        vertical-align: top;\n",
       "    }\n",
       "\n",
       "    .dataframe thead th {\n",
       "        text-align: right;\n",
       "    }\n",
       "</style>\n",
       "<table border=\"1\" class=\"dataframe\">\n",
       "  <thead>\n",
       "    <tr style=\"text-align: right;\">\n",
       "      <th></th>\n",
       "      <th>survived</th>\n",
       "      <th>pclass</th>\n",
       "      <th>sex</th>\n",
       "      <th>age</th>\n",
       "      <th>sibsp</th>\n",
       "      <th>parch</th>\n",
       "      <th>fare</th>\n",
       "      <th>embarked</th>\n",
       "      <th>class</th>\n",
       "      <th>who</th>\n",
       "      <th>adult_male</th>\n",
       "      <th>deck</th>\n",
       "      <th>embark_town</th>\n",
       "      <th>alive</th>\n",
       "      <th>alone</th>\n",
       "    </tr>\n",
       "  </thead>\n",
       "  <tbody>\n",
       "    <tr>\n",
       "      <th>7</th>\n",
       "      <td>0</td>\n",
       "      <td>3</td>\n",
       "      <td>male</td>\n",
       "      <td>2.0</td>\n",
       "      <td>3</td>\n",
       "      <td>1</td>\n",
       "      <td>21.0750</td>\n",
       "      <td>S</td>\n",
       "      <td>Third</td>\n",
       "      <td>child</td>\n",
       "      <td>False</td>\n",
       "      <td>NaN</td>\n",
       "      <td>Southampton</td>\n",
       "      <td>no</td>\n",
       "      <td>False</td>\n",
       "    </tr>\n",
       "    <tr>\n",
       "      <th>16</th>\n",
       "      <td>0</td>\n",
       "      <td>3</td>\n",
       "      <td>male</td>\n",
       "      <td>2.0</td>\n",
       "      <td>4</td>\n",
       "      <td>1</td>\n",
       "      <td>29.1250</td>\n",
       "      <td>Q</td>\n",
       "      <td>Third</td>\n",
       "      <td>child</td>\n",
       "      <td>False</td>\n",
       "      <td>NaN</td>\n",
       "      <td>Queenstown</td>\n",
       "      <td>no</td>\n",
       "      <td>False</td>\n",
       "    </tr>\n",
       "    <tr>\n",
       "      <th>24</th>\n",
       "      <td>0</td>\n",
       "      <td>3</td>\n",
       "      <td>female</td>\n",
       "      <td>8.0</td>\n",
       "      <td>3</td>\n",
       "      <td>1</td>\n",
       "      <td>21.0750</td>\n",
       "      <td>S</td>\n",
       "      <td>Third</td>\n",
       "      <td>child</td>\n",
       "      <td>False</td>\n",
       "      <td>NaN</td>\n",
       "      <td>Southampton</td>\n",
       "      <td>no</td>\n",
       "      <td>False</td>\n",
       "    </tr>\n",
       "    <tr>\n",
       "      <th>27</th>\n",
       "      <td>0</td>\n",
       "      <td>1</td>\n",
       "      <td>male</td>\n",
       "      <td>19.0</td>\n",
       "      <td>3</td>\n",
       "      <td>2</td>\n",
       "      <td>263.0000</td>\n",
       "      <td>S</td>\n",
       "      <td>First</td>\n",
       "      <td>man</td>\n",
       "      <td>True</td>\n",
       "      <td>C</td>\n",
       "      <td>Southampton</td>\n",
       "      <td>no</td>\n",
       "      <td>False</td>\n",
       "    </tr>\n",
       "    <tr>\n",
       "      <th>50</th>\n",
       "      <td>0</td>\n",
       "      <td>3</td>\n",
       "      <td>male</td>\n",
       "      <td>7.0</td>\n",
       "      <td>4</td>\n",
       "      <td>1</td>\n",
       "      <td>39.6875</td>\n",
       "      <td>S</td>\n",
       "      <td>Third</td>\n",
       "      <td>child</td>\n",
       "      <td>False</td>\n",
       "      <td>NaN</td>\n",
       "      <td>Southampton</td>\n",
       "      <td>no</td>\n",
       "      <td>False</td>\n",
       "    </tr>\n",
       "    <tr>\n",
       "      <th>59</th>\n",
       "      <td>0</td>\n",
       "      <td>3</td>\n",
       "      <td>male</td>\n",
       "      <td>11.0</td>\n",
       "      <td>5</td>\n",
       "      <td>2</td>\n",
       "      <td>46.9000</td>\n",
       "      <td>S</td>\n",
       "      <td>Third</td>\n",
       "      <td>child</td>\n",
       "      <td>False</td>\n",
       "      <td>NaN</td>\n",
       "      <td>Southampton</td>\n",
       "      <td>no</td>\n",
       "      <td>False</td>\n",
       "    </tr>\n",
       "  </tbody>\n",
       "</table>\n",
       "</div>"
      ],
      "text/plain": [
       "    survived  pclass     sex   age  sibsp  parch      fare embarked  class  \\\n",
       "7          0       3    male   2.0      3      1   21.0750        S  Third   \n",
       "16         0       3    male   2.0      4      1   29.1250        Q  Third   \n",
       "24         0       3  female   8.0      3      1   21.0750        S  Third   \n",
       "27         0       1    male  19.0      3      2  263.0000        S  First   \n",
       "50         0       3    male   7.0      4      1   39.6875        S  Third   \n",
       "59         0       3    male  11.0      5      2   46.9000        S  Third   \n",
       "\n",
       "      who  adult_male deck  embark_town alive  alone  \n",
       "7   child       False  NaN  Southampton    no  False  \n",
       "16  child       False  NaN   Queenstown    no  False  \n",
       "24  child       False  NaN  Southampton    no  False  \n",
       "27    man        True    C  Southampton    no  False  \n",
       "50  child       False  NaN  Southampton    no  False  \n",
       "59  child       False  NaN  Southampton    no  False  "
      ]
     },
     "execution_count": 40,
     "metadata": {},
     "output_type": "execute_result"
    }
   ],
   "source": [
    "Filter_isin = titanic['sibsp'].isin([3, 4, 5])\n",
    "\n",
    "titanic[Filter_isin].head(6)"
   ]
  },
  {
   "cell_type": "markdown",
   "metadata": {
    "colab_type": "text",
    "id": "PYrT_Ff_rtF6"
   },
   "source": [
    "# IV. 데이터프레임 합치기\n"
   ]
  },
  {
   "cell_type": "markdown",
   "metadata": {
    "colab_type": "text",
    "id": "Iu7UP8bHyUcN"
   },
   "source": [
    "> ## 1) 데이터프레임 DF1, DF2 생성"
   ]
  },
  {
   "cell_type": "code",
   "execution_count": 41,
   "metadata": {
    "colab": {
     "base_uri": "https://localhost:8080/",
     "height": 167
    },
    "colab_type": "code",
    "executionInfo": {
     "elapsed": 829,
     "status": "ok",
     "timestamp": 1596107672068,
     "user": {
      "displayName": "contravia@naver.com",
      "photoUrl": "",
      "userId": "04072428075549197225"
     },
     "user_tz": -540
    },
    "id": "AqBUznexskGx",
    "outputId": "80ffbc8d-cc9f-4a86-cdad-423e7a7edb04"
   },
   "outputs": [
    {
     "data": {
      "text/html": [
       "<div>\n",
       "<style scoped>\n",
       "    .dataframe tbody tr th:only-of-type {\n",
       "        vertical-align: middle;\n",
       "    }\n",
       "\n",
       "    .dataframe tbody tr th {\n",
       "        vertical-align: top;\n",
       "    }\n",
       "\n",
       "    .dataframe thead th {\n",
       "        text-align: right;\n",
       "    }\n",
       "</style>\n",
       "<table border=\"1\" class=\"dataframe\">\n",
       "  <thead>\n",
       "    <tr style=\"text-align: right;\">\n",
       "      <th></th>\n",
       "      <th>HP</th>\n",
       "      <th>IBM</th>\n",
       "      <th>DELL</th>\n",
       "    </tr>\n",
       "  </thead>\n",
       "  <tbody>\n",
       "    <tr>\n",
       "      <th>0</th>\n",
       "      <td>hp0</td>\n",
       "      <td>ibm0</td>\n",
       "      <td>dell0</td>\n",
       "    </tr>\n",
       "    <tr>\n",
       "      <th>1</th>\n",
       "      <td>hp1</td>\n",
       "      <td>ibm1</td>\n",
       "      <td>dell1</td>\n",
       "    </tr>\n",
       "    <tr>\n",
       "      <th>2</th>\n",
       "      <td>hp2</td>\n",
       "      <td>ibm2</td>\n",
       "      <td>dell2</td>\n",
       "    </tr>\n",
       "    <tr>\n",
       "      <th>3</th>\n",
       "      <td>hp3</td>\n",
       "      <td>ibm3</td>\n",
       "      <td>dell3</td>\n",
       "    </tr>\n",
       "  </tbody>\n",
       "</table>\n",
       "</div>"
      ],
      "text/plain": [
       "    HP   IBM   DELL\n",
       "0  hp0  ibm0  dell0\n",
       "1  hp1  ibm1  dell1\n",
       "2  hp2  ibm2  dell2\n",
       "3  hp3  ibm3  dell3"
      ]
     },
     "execution_count": 41,
     "metadata": {},
     "output_type": "execute_result"
    }
   ],
   "source": [
    "import pandas as pd\n",
    "\n",
    "DF1 = pd.DataFrame({'HP': ['hp0', 'hp1', 'hp2', 'hp3'],\n",
    "                    'IBM': ['ibm0', 'ibm1', 'ibm2', 'ibm3'],\n",
    "                    'DELL': ['dell0', 'dell1', 'dell2', 'dell3']},\n",
    "                    index = [0, 1, 2, 3])\n",
    "\n",
    "\n",
    "DF1"
   ]
  },
  {
   "cell_type": "code",
   "execution_count": 42,
   "metadata": {
    "colab": {
     "base_uri": "https://localhost:8080/",
     "height": 167
    },
    "colab_type": "code",
    "executionInfo": {
     "elapsed": 971,
     "status": "ok",
     "timestamp": 1596107704622,
     "user": {
      "displayName": "contravia@naver.com",
      "photoUrl": "",
      "userId": "04072428075549197225"
     },
     "user_tz": -540
    },
    "id": "ffxlDupKsZHZ",
    "outputId": "e9dd02fb-6249-485f-c511-816f95b699e1"
   },
   "outputs": [
    {
     "data": {
      "text/html": [
       "<div>\n",
       "<style scoped>\n",
       "    .dataframe tbody tr th:only-of-type {\n",
       "        vertical-align: middle;\n",
       "    }\n",
       "\n",
       "    .dataframe tbody tr th {\n",
       "        vertical-align: top;\n",
       "    }\n",
       "\n",
       "    .dataframe thead th {\n",
       "        text-align: right;\n",
       "    }\n",
       "</style>\n",
       "<table border=\"1\" class=\"dataframe\">\n",
       "  <thead>\n",
       "    <tr style=\"text-align: right;\">\n",
       "      <th></th>\n",
       "      <th>HP</th>\n",
       "      <th>IBM</th>\n",
       "      <th>DELL</th>\n",
       "      <th>ASUS</th>\n",
       "    </tr>\n",
       "  </thead>\n",
       "  <tbody>\n",
       "    <tr>\n",
       "      <th>2</th>\n",
       "      <td>hp2</td>\n",
       "      <td>ibm2</td>\n",
       "      <td>dell2</td>\n",
       "      <td>asus2</td>\n",
       "    </tr>\n",
       "    <tr>\n",
       "      <th>3</th>\n",
       "      <td>hp3</td>\n",
       "      <td>ibm3</td>\n",
       "      <td>dell3</td>\n",
       "      <td>asus3</td>\n",
       "    </tr>\n",
       "    <tr>\n",
       "      <th>4</th>\n",
       "      <td>hp4</td>\n",
       "      <td>ibm4</td>\n",
       "      <td>dell4</td>\n",
       "      <td>asus4</td>\n",
       "    </tr>\n",
       "    <tr>\n",
       "      <th>5</th>\n",
       "      <td>hp5</td>\n",
       "      <td>ibm5</td>\n",
       "      <td>dell5</td>\n",
       "      <td>asus5</td>\n",
       "    </tr>\n",
       "  </tbody>\n",
       "</table>\n",
       "</div>"
      ],
      "text/plain": [
       "    HP   IBM   DELL   ASUS\n",
       "2  hp2  ibm2  dell2  asus2\n",
       "3  hp3  ibm3  dell3  asus3\n",
       "4  hp4  ibm4  dell4  asus4\n",
       "5  hp5  ibm5  dell5  asus5"
      ]
     },
     "execution_count": 42,
     "metadata": {},
     "output_type": "execute_result"
    }
   ],
   "source": [
    "DF2 = pd.DataFrame({'HP': ['hp2', 'hp3', 'hp4', 'hp5'],\n",
    "                    'IBM': ['ibm2', 'ibm3', 'ibm4', 'ibm5'],\n",
    "                    'DELL': ['dell2', 'dell3', 'dell4', 'dell5'],\n",
    "                    'ASUS': ['asus2', 'asus3', 'asus4', 'asus5']},\n",
    "                    index = [2, 3, 4, 5])\n",
    "\n",
    "DF2"
   ]
  },
  {
   "cell_type": "markdown",
   "metadata": {
    "colab_type": "text",
    "id": "Lhk6-rqpCmfm"
   },
   "source": [
    "> ## 2) concat( )\n",
    "\n",
    "* 행기준 : axis = 0"
   ]
  },
  {
   "cell_type": "code",
   "execution_count": 43,
   "metadata": {
    "colab": {
     "base_uri": "https://localhost:8080/",
     "height": 287
    },
    "colab_type": "code",
    "executionInfo": {
     "elapsed": 963,
     "status": "ok",
     "timestamp": 1596108845042,
     "user": {
      "displayName": "contravia@naver.com",
      "photoUrl": "",
      "userId": "04072428075549197225"
     },
     "user_tz": -540
    },
    "id": "Ky5FEXjBvfbv",
    "outputId": "3196c4cb-f59b-42a2-e774-906f9ab6bc92"
   },
   "outputs": [
    {
     "data": {
      "text/html": [
       "<div>\n",
       "<style scoped>\n",
       "    .dataframe tbody tr th:only-of-type {\n",
       "        vertical-align: middle;\n",
       "    }\n",
       "\n",
       "    .dataframe tbody tr th {\n",
       "        vertical-align: top;\n",
       "    }\n",
       "\n",
       "    .dataframe thead th {\n",
       "        text-align: right;\n",
       "    }\n",
       "</style>\n",
       "<table border=\"1\" class=\"dataframe\">\n",
       "  <thead>\n",
       "    <tr style=\"text-align: right;\">\n",
       "      <th></th>\n",
       "      <th>HP</th>\n",
       "      <th>IBM</th>\n",
       "      <th>DELL</th>\n",
       "      <th>ASUS</th>\n",
       "    </tr>\n",
       "  </thead>\n",
       "  <tbody>\n",
       "    <tr>\n",
       "      <th>0</th>\n",
       "      <td>hp0</td>\n",
       "      <td>ibm0</td>\n",
       "      <td>dell0</td>\n",
       "      <td>NaN</td>\n",
       "    </tr>\n",
       "    <tr>\n",
       "      <th>1</th>\n",
       "      <td>hp1</td>\n",
       "      <td>ibm1</td>\n",
       "      <td>dell1</td>\n",
       "      <td>NaN</td>\n",
       "    </tr>\n",
       "    <tr>\n",
       "      <th>2</th>\n",
       "      <td>hp2</td>\n",
       "      <td>ibm2</td>\n",
       "      <td>dell2</td>\n",
       "      <td>NaN</td>\n",
       "    </tr>\n",
       "    <tr>\n",
       "      <th>3</th>\n",
       "      <td>hp3</td>\n",
       "      <td>ibm3</td>\n",
       "      <td>dell3</td>\n",
       "      <td>NaN</td>\n",
       "    </tr>\n",
       "    <tr>\n",
       "      <th>2</th>\n",
       "      <td>hp2</td>\n",
       "      <td>ibm2</td>\n",
       "      <td>dell2</td>\n",
       "      <td>asus2</td>\n",
       "    </tr>\n",
       "    <tr>\n",
       "      <th>3</th>\n",
       "      <td>hp3</td>\n",
       "      <td>ibm3</td>\n",
       "      <td>dell3</td>\n",
       "      <td>asus3</td>\n",
       "    </tr>\n",
       "    <tr>\n",
       "      <th>4</th>\n",
       "      <td>hp4</td>\n",
       "      <td>ibm4</td>\n",
       "      <td>dell4</td>\n",
       "      <td>asus4</td>\n",
       "    </tr>\n",
       "    <tr>\n",
       "      <th>5</th>\n",
       "      <td>hp5</td>\n",
       "      <td>ibm5</td>\n",
       "      <td>dell5</td>\n",
       "      <td>asus5</td>\n",
       "    </tr>\n",
       "  </tbody>\n",
       "</table>\n",
       "</div>"
      ],
      "text/plain": [
       "    HP   IBM   DELL   ASUS\n",
       "0  hp0  ibm0  dell0    NaN\n",
       "1  hp1  ibm1  dell1    NaN\n",
       "2  hp2  ibm2  dell2    NaN\n",
       "3  hp3  ibm3  dell3    NaN\n",
       "2  hp2  ibm2  dell2  asus2\n",
       "3  hp3  ibm3  dell3  asus3\n",
       "4  hp4  ibm4  dell4  asus4\n",
       "5  hp5  ibm5  dell5  asus5"
      ]
     },
     "execution_count": 43,
     "metadata": {},
     "output_type": "execute_result"
    }
   ],
   "source": [
    "pd.concat([DF1, DF2], axis = 0)"
   ]
  },
  {
   "cell_type": "markdown",
   "metadata": {
    "colab_type": "text",
    "id": "_PYG_ngySt2e"
   },
   "source": [
    "* ignore_index = True"
   ]
  },
  {
   "cell_type": "code",
   "execution_count": 44,
   "metadata": {
    "colab": {},
    "colab_type": "code",
    "id": "VdVEITJiv9HK"
   },
   "outputs": [
    {
     "data": {
      "text/html": [
       "<div>\n",
       "<style scoped>\n",
       "    .dataframe tbody tr th:only-of-type {\n",
       "        vertical-align: middle;\n",
       "    }\n",
       "\n",
       "    .dataframe tbody tr th {\n",
       "        vertical-align: top;\n",
       "    }\n",
       "\n",
       "    .dataframe thead th {\n",
       "        text-align: right;\n",
       "    }\n",
       "</style>\n",
       "<table border=\"1\" class=\"dataframe\">\n",
       "  <thead>\n",
       "    <tr style=\"text-align: right;\">\n",
       "      <th></th>\n",
       "      <th>HP</th>\n",
       "      <th>IBM</th>\n",
       "      <th>DELL</th>\n",
       "      <th>ASUS</th>\n",
       "    </tr>\n",
       "  </thead>\n",
       "  <tbody>\n",
       "    <tr>\n",
       "      <th>0</th>\n",
       "      <td>hp0</td>\n",
       "      <td>ibm0</td>\n",
       "      <td>dell0</td>\n",
       "      <td>NaN</td>\n",
       "    </tr>\n",
       "    <tr>\n",
       "      <th>1</th>\n",
       "      <td>hp1</td>\n",
       "      <td>ibm1</td>\n",
       "      <td>dell1</td>\n",
       "      <td>NaN</td>\n",
       "    </tr>\n",
       "    <tr>\n",
       "      <th>2</th>\n",
       "      <td>hp2</td>\n",
       "      <td>ibm2</td>\n",
       "      <td>dell2</td>\n",
       "      <td>NaN</td>\n",
       "    </tr>\n",
       "    <tr>\n",
       "      <th>3</th>\n",
       "      <td>hp3</td>\n",
       "      <td>ibm3</td>\n",
       "      <td>dell3</td>\n",
       "      <td>NaN</td>\n",
       "    </tr>\n",
       "    <tr>\n",
       "      <th>4</th>\n",
       "      <td>hp2</td>\n",
       "      <td>ibm2</td>\n",
       "      <td>dell2</td>\n",
       "      <td>asus2</td>\n",
       "    </tr>\n",
       "    <tr>\n",
       "      <th>5</th>\n",
       "      <td>hp3</td>\n",
       "      <td>ibm3</td>\n",
       "      <td>dell3</td>\n",
       "      <td>asus3</td>\n",
       "    </tr>\n",
       "    <tr>\n",
       "      <th>6</th>\n",
       "      <td>hp4</td>\n",
       "      <td>ibm4</td>\n",
       "      <td>dell4</td>\n",
       "      <td>asus4</td>\n",
       "    </tr>\n",
       "    <tr>\n",
       "      <th>7</th>\n",
       "      <td>hp5</td>\n",
       "      <td>ibm5</td>\n",
       "      <td>dell5</td>\n",
       "      <td>asus5</td>\n",
       "    </tr>\n",
       "  </tbody>\n",
       "</table>\n",
       "</div>"
      ],
      "text/plain": [
       "    HP   IBM   DELL   ASUS\n",
       "0  hp0  ibm0  dell0    NaN\n",
       "1  hp1  ibm1  dell1    NaN\n",
       "2  hp2  ibm2  dell2    NaN\n",
       "3  hp3  ibm3  dell3    NaN\n",
       "4  hp2  ibm2  dell2  asus2\n",
       "5  hp3  ibm3  dell3  asus3\n",
       "6  hp4  ibm4  dell4  asus4\n",
       "7  hp5  ibm5  dell5  asus5"
      ]
     },
     "execution_count": 44,
     "metadata": {},
     "output_type": "execute_result"
    }
   ],
   "source": [
    "pd.concat([DF1, DF2], axis = 0, ignore_index = True)"
   ]
  },
  {
   "cell_type": "markdown",
   "metadata": {
    "colab_type": "text",
    "id": "NylAoemfTMA5"
   },
   "source": [
    "* 열기준 : axis = 1, join = 'inner'\n",
    " - 'inner' : Intersection (교집합)\n",
    " "
   ]
  },
  {
   "cell_type": "code",
   "execution_count": 45,
   "metadata": {
    "colab": {
     "base_uri": "https://localhost:8080/",
     "height": 107
    },
    "colab_type": "code",
    "executionInfo": {
     "elapsed": 949,
     "status": "ok",
     "timestamp": 1596107369453,
     "user": {
      "displayName": "contravia@naver.com",
      "photoUrl": "",
      "userId": "04072428075549197225"
     },
     "user_tz": -540
    },
    "id": "gkVvkqKiw-DA",
    "outputId": "2ac878b6-ecc0-41d0-ea86-d4ab14aed9a7"
   },
   "outputs": [
    {
     "data": {
      "text/html": [
       "<div>\n",
       "<style scoped>\n",
       "    .dataframe tbody tr th:only-of-type {\n",
       "        vertical-align: middle;\n",
       "    }\n",
       "\n",
       "    .dataframe tbody tr th {\n",
       "        vertical-align: top;\n",
       "    }\n",
       "\n",
       "    .dataframe thead th {\n",
       "        text-align: right;\n",
       "    }\n",
       "</style>\n",
       "<table border=\"1\" class=\"dataframe\">\n",
       "  <thead>\n",
       "    <tr style=\"text-align: right;\">\n",
       "      <th></th>\n",
       "      <th>HP</th>\n",
       "      <th>IBM</th>\n",
       "      <th>DELL</th>\n",
       "      <th>HP</th>\n",
       "      <th>IBM</th>\n",
       "      <th>DELL</th>\n",
       "      <th>ASUS</th>\n",
       "    </tr>\n",
       "  </thead>\n",
       "  <tbody>\n",
       "    <tr>\n",
       "      <th>2</th>\n",
       "      <td>hp2</td>\n",
       "      <td>ibm2</td>\n",
       "      <td>dell2</td>\n",
       "      <td>hp2</td>\n",
       "      <td>ibm2</td>\n",
       "      <td>dell2</td>\n",
       "      <td>asus2</td>\n",
       "    </tr>\n",
       "    <tr>\n",
       "      <th>3</th>\n",
       "      <td>hp3</td>\n",
       "      <td>ibm3</td>\n",
       "      <td>dell3</td>\n",
       "      <td>hp3</td>\n",
       "      <td>ibm3</td>\n",
       "      <td>dell3</td>\n",
       "      <td>asus3</td>\n",
       "    </tr>\n",
       "  </tbody>\n",
       "</table>\n",
       "</div>"
      ],
      "text/plain": [
       "    HP   IBM   DELL   HP   IBM   DELL   ASUS\n",
       "2  hp2  ibm2  dell2  hp2  ibm2  dell2  asus2\n",
       "3  hp3  ibm3  dell3  hp3  ibm3  dell3  asus3"
      ]
     },
     "execution_count": 45,
     "metadata": {},
     "output_type": "execute_result"
    }
   ],
   "source": [
    "pd.concat([DF1, DF2], axis = 1, join = 'inner')"
   ]
  },
  {
   "cell_type": "markdown",
   "metadata": {
    "colab_type": "text",
    "id": "26hNBBMfEtdz"
   },
   "source": [
    "* 열기준 : axis = 1, join = 'outer'\n",
    " - 'outer' : Union (합집합)"
   ]
  },
  {
   "cell_type": "code",
   "execution_count": 46,
   "metadata": {
    "colab": {
     "base_uri": "https://localhost:8080/",
     "height": 227
    },
    "colab_type": "code",
    "executionInfo": {
     "elapsed": 858,
     "status": "ok",
     "timestamp": 1596108134588,
     "user": {
      "displayName": "contravia@naver.com",
      "photoUrl": "",
      "userId": "04072428075549197225"
     },
     "user_tz": -540
    },
    "id": "R45Nu5s2wXOK",
    "outputId": "02ed909d-1bce-4da2-8a00-7199a656f167"
   },
   "outputs": [
    {
     "data": {
      "text/html": [
       "<div>\n",
       "<style scoped>\n",
       "    .dataframe tbody tr th:only-of-type {\n",
       "        vertical-align: middle;\n",
       "    }\n",
       "\n",
       "    .dataframe tbody tr th {\n",
       "        vertical-align: top;\n",
       "    }\n",
       "\n",
       "    .dataframe thead th {\n",
       "        text-align: right;\n",
       "    }\n",
       "</style>\n",
       "<table border=\"1\" class=\"dataframe\">\n",
       "  <thead>\n",
       "    <tr style=\"text-align: right;\">\n",
       "      <th></th>\n",
       "      <th>HP</th>\n",
       "      <th>IBM</th>\n",
       "      <th>DELL</th>\n",
       "      <th>HP</th>\n",
       "      <th>IBM</th>\n",
       "      <th>DELL</th>\n",
       "      <th>ASUS</th>\n",
       "    </tr>\n",
       "  </thead>\n",
       "  <tbody>\n",
       "    <tr>\n",
       "      <th>0</th>\n",
       "      <td>hp0</td>\n",
       "      <td>ibm0</td>\n",
       "      <td>dell0</td>\n",
       "      <td>NaN</td>\n",
       "      <td>NaN</td>\n",
       "      <td>NaN</td>\n",
       "      <td>NaN</td>\n",
       "    </tr>\n",
       "    <tr>\n",
       "      <th>1</th>\n",
       "      <td>hp1</td>\n",
       "      <td>ibm1</td>\n",
       "      <td>dell1</td>\n",
       "      <td>NaN</td>\n",
       "      <td>NaN</td>\n",
       "      <td>NaN</td>\n",
       "      <td>NaN</td>\n",
       "    </tr>\n",
       "    <tr>\n",
       "      <th>2</th>\n",
       "      <td>hp2</td>\n",
       "      <td>ibm2</td>\n",
       "      <td>dell2</td>\n",
       "      <td>hp2</td>\n",
       "      <td>ibm2</td>\n",
       "      <td>dell2</td>\n",
       "      <td>asus2</td>\n",
       "    </tr>\n",
       "    <tr>\n",
       "      <th>3</th>\n",
       "      <td>hp3</td>\n",
       "      <td>ibm3</td>\n",
       "      <td>dell3</td>\n",
       "      <td>hp3</td>\n",
       "      <td>ibm3</td>\n",
       "      <td>dell3</td>\n",
       "      <td>asus3</td>\n",
       "    </tr>\n",
       "    <tr>\n",
       "      <th>4</th>\n",
       "      <td>NaN</td>\n",
       "      <td>NaN</td>\n",
       "      <td>NaN</td>\n",
       "      <td>hp4</td>\n",
       "      <td>ibm4</td>\n",
       "      <td>dell4</td>\n",
       "      <td>asus4</td>\n",
       "    </tr>\n",
       "    <tr>\n",
       "      <th>5</th>\n",
       "      <td>NaN</td>\n",
       "      <td>NaN</td>\n",
       "      <td>NaN</td>\n",
       "      <td>hp5</td>\n",
       "      <td>ibm5</td>\n",
       "      <td>dell5</td>\n",
       "      <td>asus5</td>\n",
       "    </tr>\n",
       "  </tbody>\n",
       "</table>\n",
       "</div>"
      ],
      "text/plain": [
       "    HP   IBM   DELL   HP   IBM   DELL   ASUS\n",
       "0  hp0  ibm0  dell0  NaN   NaN    NaN    NaN\n",
       "1  hp1  ibm1  dell1  NaN   NaN    NaN    NaN\n",
       "2  hp2  ibm2  dell2  hp2  ibm2  dell2  asus2\n",
       "3  hp3  ibm3  dell3  hp3  ibm3  dell3  asus3\n",
       "4  NaN   NaN    NaN  hp4  ibm4  dell4  asus4\n",
       "5  NaN   NaN    NaN  hp5  ibm5  dell5  asus5"
      ]
     },
     "execution_count": 46,
     "metadata": {},
     "output_type": "execute_result"
    }
   ],
   "source": [
    "pd.concat([DF1, DF2], axis = 1, join = 'outer')"
   ]
  },
  {
   "cell_type": "markdown",
   "metadata": {
    "colab_type": "text",
    "id": "G9RbqUe75wNK"
   },
   "source": [
    "> ## 3) merge( )\n",
    "\n",
    "* how = 'inner'"
   ]
  },
  {
   "cell_type": "code",
   "execution_count": 47,
   "metadata": {
    "cellView": "both",
    "colab": {
     "base_uri": "https://localhost:8080/",
     "height": 107
    },
    "colab_type": "code",
    "executionInfo": {
     "elapsed": 1498,
     "status": "ok",
     "timestamp": 1596108920872,
     "user": {
      "displayName": "contravia@naver.com",
      "photoUrl": "",
      "userId": "04072428075549197225"
     },
     "user_tz": -540
    },
    "id": "7hy3B4wp73cy",
    "outputId": "3debf9aa-d8e2-40fe-aaf8-6c052dd1f8a1"
   },
   "outputs": [
    {
     "data": {
      "text/html": [
       "<div>\n",
       "<style scoped>\n",
       "    .dataframe tbody tr th:only-of-type {\n",
       "        vertical-align: middle;\n",
       "    }\n",
       "\n",
       "    .dataframe tbody tr th {\n",
       "        vertical-align: top;\n",
       "    }\n",
       "\n",
       "    .dataframe thead th {\n",
       "        text-align: right;\n",
       "    }\n",
       "</style>\n",
       "<table border=\"1\" class=\"dataframe\">\n",
       "  <thead>\n",
       "    <tr style=\"text-align: right;\">\n",
       "      <th></th>\n",
       "      <th>HP</th>\n",
       "      <th>IBM</th>\n",
       "      <th>DELL</th>\n",
       "      <th>ASUS</th>\n",
       "    </tr>\n",
       "  </thead>\n",
       "  <tbody>\n",
       "    <tr>\n",
       "      <th>0</th>\n",
       "      <td>hp2</td>\n",
       "      <td>ibm2</td>\n",
       "      <td>dell2</td>\n",
       "      <td>asus2</td>\n",
       "    </tr>\n",
       "    <tr>\n",
       "      <th>1</th>\n",
       "      <td>hp3</td>\n",
       "      <td>ibm3</td>\n",
       "      <td>dell3</td>\n",
       "      <td>asus3</td>\n",
       "    </tr>\n",
       "  </tbody>\n",
       "</table>\n",
       "</div>"
      ],
      "text/plain": [
       "    HP   IBM   DELL   ASUS\n",
       "0  hp2  ibm2  dell2  asus2\n",
       "1  hp3  ibm3  dell3  asus3"
      ]
     },
     "execution_count": 47,
     "metadata": {},
     "output_type": "execute_result"
    }
   ],
   "source": [
    "#@title\n",
    "pd.merge(DF1, DF2)"
   ]
  },
  {
   "cell_type": "markdown",
   "metadata": {
    "colab_type": "text",
    "id": "9nfA5F9wTvXB"
   },
   "source": [
    "* how = 'outer'"
   ]
  },
  {
   "cell_type": "code",
   "execution_count": 48,
   "metadata": {
    "colab": {
     "base_uri": "https://localhost:8080/",
     "height": 227
    },
    "colab_type": "code",
    "executionInfo": {
     "elapsed": 812,
     "status": "ok",
     "timestamp": 1596107719384,
     "user": {
      "displayName": "contravia@naver.com",
      "photoUrl": "",
      "userId": "04072428075549197225"
     },
     "user_tz": -540
    },
    "id": "BdRaUJd98Sa5",
    "outputId": "1ae34be9-6566-49e6-ae15-a42f3ca35cdd"
   },
   "outputs": [
    {
     "data": {
      "text/html": [
       "<div>\n",
       "<style scoped>\n",
       "    .dataframe tbody tr th:only-of-type {\n",
       "        vertical-align: middle;\n",
       "    }\n",
       "\n",
       "    .dataframe tbody tr th {\n",
       "        vertical-align: top;\n",
       "    }\n",
       "\n",
       "    .dataframe thead th {\n",
       "        text-align: right;\n",
       "    }\n",
       "</style>\n",
       "<table border=\"1\" class=\"dataframe\">\n",
       "  <thead>\n",
       "    <tr style=\"text-align: right;\">\n",
       "      <th></th>\n",
       "      <th>HP</th>\n",
       "      <th>IBM</th>\n",
       "      <th>DELL</th>\n",
       "      <th>ASUS</th>\n",
       "    </tr>\n",
       "  </thead>\n",
       "  <tbody>\n",
       "    <tr>\n",
       "      <th>0</th>\n",
       "      <td>hp0</td>\n",
       "      <td>ibm0</td>\n",
       "      <td>dell0</td>\n",
       "      <td>NaN</td>\n",
       "    </tr>\n",
       "    <tr>\n",
       "      <th>1</th>\n",
       "      <td>hp1</td>\n",
       "      <td>ibm1</td>\n",
       "      <td>dell1</td>\n",
       "      <td>NaN</td>\n",
       "    </tr>\n",
       "    <tr>\n",
       "      <th>2</th>\n",
       "      <td>hp2</td>\n",
       "      <td>ibm2</td>\n",
       "      <td>dell2</td>\n",
       "      <td>asus2</td>\n",
       "    </tr>\n",
       "    <tr>\n",
       "      <th>3</th>\n",
       "      <td>hp3</td>\n",
       "      <td>ibm3</td>\n",
       "      <td>dell3</td>\n",
       "      <td>asus3</td>\n",
       "    </tr>\n",
       "    <tr>\n",
       "      <th>4</th>\n",
       "      <td>hp4</td>\n",
       "      <td>ibm4</td>\n",
       "      <td>dell4</td>\n",
       "      <td>asus4</td>\n",
       "    </tr>\n",
       "    <tr>\n",
       "      <th>5</th>\n",
       "      <td>hp5</td>\n",
       "      <td>ibm5</td>\n",
       "      <td>dell5</td>\n",
       "      <td>asus5</td>\n",
       "    </tr>\n",
       "  </tbody>\n",
       "</table>\n",
       "</div>"
      ],
      "text/plain": [
       "    HP   IBM   DELL   ASUS\n",
       "0  hp0  ibm0  dell0    NaN\n",
       "1  hp1  ibm1  dell1    NaN\n",
       "2  hp2  ibm2  dell2  asus2\n",
       "3  hp3  ibm3  dell3  asus3\n",
       "4  hp4  ibm4  dell4  asus4\n",
       "5  hp5  ibm5  dell5  asus5"
      ]
     },
     "execution_count": 48,
     "metadata": {},
     "output_type": "execute_result"
    }
   ],
   "source": [
    "pd.merge(DF1, DF2, how = 'outer')"
   ]
  },
  {
   "cell_type": "markdown",
   "metadata": {
    "colab_type": "text",
    "id": "RFJuTrZmT3fn"
   },
   "source": [
    "* how = 'left'\n",
    " - 왼쪽 데이터프레임의 키(Key)만 사용 'left-outer'"
   ]
  },
  {
   "cell_type": "code",
   "execution_count": 49,
   "metadata": {
    "colab": {
     "base_uri": "https://localhost:8080/",
     "height": 167
    },
    "colab_type": "code",
    "executionInfo": {
     "elapsed": 924,
     "status": "ok",
     "timestamp": 1596107727452,
     "user": {
      "displayName": "contravia@naver.com",
      "photoUrl": "",
      "userId": "04072428075549197225"
     },
     "user_tz": -540
    },
    "id": "PX6gk86M99ml",
    "outputId": "76743e8f-a02e-41de-fc90-8db2f00056cb"
   },
   "outputs": [
    {
     "data": {
      "text/html": [
       "<div>\n",
       "<style scoped>\n",
       "    .dataframe tbody tr th:only-of-type {\n",
       "        vertical-align: middle;\n",
       "    }\n",
       "\n",
       "    .dataframe tbody tr th {\n",
       "        vertical-align: top;\n",
       "    }\n",
       "\n",
       "    .dataframe thead th {\n",
       "        text-align: right;\n",
       "    }\n",
       "</style>\n",
       "<table border=\"1\" class=\"dataframe\">\n",
       "  <thead>\n",
       "    <tr style=\"text-align: right;\">\n",
       "      <th></th>\n",
       "      <th>HP</th>\n",
       "      <th>IBM</th>\n",
       "      <th>DELL</th>\n",
       "      <th>ASUS</th>\n",
       "    </tr>\n",
       "  </thead>\n",
       "  <tbody>\n",
       "    <tr>\n",
       "      <th>0</th>\n",
       "      <td>hp0</td>\n",
       "      <td>ibm0</td>\n",
       "      <td>dell0</td>\n",
       "      <td>NaN</td>\n",
       "    </tr>\n",
       "    <tr>\n",
       "      <th>1</th>\n",
       "      <td>hp1</td>\n",
       "      <td>ibm1</td>\n",
       "      <td>dell1</td>\n",
       "      <td>NaN</td>\n",
       "    </tr>\n",
       "    <tr>\n",
       "      <th>2</th>\n",
       "      <td>hp2</td>\n",
       "      <td>ibm2</td>\n",
       "      <td>dell2</td>\n",
       "      <td>asus2</td>\n",
       "    </tr>\n",
       "    <tr>\n",
       "      <th>3</th>\n",
       "      <td>hp3</td>\n",
       "      <td>ibm3</td>\n",
       "      <td>dell3</td>\n",
       "      <td>asus3</td>\n",
       "    </tr>\n",
       "  </tbody>\n",
       "</table>\n",
       "</div>"
      ],
      "text/plain": [
       "    HP   IBM   DELL   ASUS\n",
       "0  hp0  ibm0  dell0    NaN\n",
       "1  hp1  ibm1  dell1    NaN\n",
       "2  hp2  ibm2  dell2  asus2\n",
       "3  hp3  ibm3  dell3  asus3"
      ]
     },
     "execution_count": 49,
     "metadata": {},
     "output_type": "execute_result"
    }
   ],
   "source": [
    "pd.merge(DF1, DF2, how = 'left')"
   ]
  },
  {
   "cell_type": "markdown",
   "metadata": {
    "colab_type": "text",
    "id": "RQxT8J3mUFM7"
   },
   "source": [
    "* how = 'right'\n",
    " - 오른쪽 데이터프레임의 키(Key)만 사용 'right-outer'"
   ]
  },
  {
   "cell_type": "code",
   "execution_count": 50,
   "metadata": {
    "colab": {
     "base_uri": "https://localhost:8080/",
     "height": 167
    },
    "colab_type": "code",
    "executionInfo": {
     "elapsed": 820,
     "status": "ok",
     "timestamp": 1596107741125,
     "user": {
      "displayName": "contravia@naver.com",
      "photoUrl": "",
      "userId": "04072428075549197225"
     },
     "user_tz": -540
    },
    "id": "TC0xGAGu-5pN",
    "outputId": "88802ed6-b3ae-4080-c3af-aeafa96e62ff"
   },
   "outputs": [
    {
     "data": {
      "text/html": [
       "<div>\n",
       "<style scoped>\n",
       "    .dataframe tbody tr th:only-of-type {\n",
       "        vertical-align: middle;\n",
       "    }\n",
       "\n",
       "    .dataframe tbody tr th {\n",
       "        vertical-align: top;\n",
       "    }\n",
       "\n",
       "    .dataframe thead th {\n",
       "        text-align: right;\n",
       "    }\n",
       "</style>\n",
       "<table border=\"1\" class=\"dataframe\">\n",
       "  <thead>\n",
       "    <tr style=\"text-align: right;\">\n",
       "      <th></th>\n",
       "      <th>HP</th>\n",
       "      <th>IBM</th>\n",
       "      <th>DELL</th>\n",
       "      <th>ASUS</th>\n",
       "    </tr>\n",
       "  </thead>\n",
       "  <tbody>\n",
       "    <tr>\n",
       "      <th>0</th>\n",
       "      <td>hp2</td>\n",
       "      <td>ibm2</td>\n",
       "      <td>dell2</td>\n",
       "      <td>asus2</td>\n",
       "    </tr>\n",
       "    <tr>\n",
       "      <th>1</th>\n",
       "      <td>hp3</td>\n",
       "      <td>ibm3</td>\n",
       "      <td>dell3</td>\n",
       "      <td>asus3</td>\n",
       "    </tr>\n",
       "    <tr>\n",
       "      <th>2</th>\n",
       "      <td>hp4</td>\n",
       "      <td>ibm4</td>\n",
       "      <td>dell4</td>\n",
       "      <td>asus4</td>\n",
       "    </tr>\n",
       "    <tr>\n",
       "      <th>3</th>\n",
       "      <td>hp5</td>\n",
       "      <td>ibm5</td>\n",
       "      <td>dell5</td>\n",
       "      <td>asus5</td>\n",
       "    </tr>\n",
       "  </tbody>\n",
       "</table>\n",
       "</div>"
      ],
      "text/plain": [
       "    HP   IBM   DELL   ASUS\n",
       "0  hp2  ibm2  dell2  asus2\n",
       "1  hp3  ibm3  dell3  asus3\n",
       "2  hp4  ibm4  dell4  asus4\n",
       "3  hp5  ibm5  dell5  asus5"
      ]
     },
     "execution_count": 50,
     "metadata": {},
     "output_type": "execute_result"
    }
   ],
   "source": [
    "pd.merge(DF1, DF2, how = 'right')"
   ]
  },
  {
   "cell_type": "markdown",
   "metadata": {
    "colab_type": "text",
    "id": "zjJQSJkeF2ns"
   },
   "source": [
    "# V. 그룹 연산"
   ]
  },
  {
   "cell_type": "markdown",
   "metadata": {
    "colab_type": "text",
    "id": "P8ezLONEhqlq"
   },
   "source": [
    "![image.png](data:image/png;base64,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)"
   ]
  },
  {
   "cell_type": "markdown",
   "metadata": {
    "colab_type": "text",
    "id": "PdrtMyGfWImN"
   },
   "source": [
    "> ## 1) 실습용 'titanic' 데이터셋"
   ]
  },
  {
   "cell_type": "code",
   "execution_count": 51,
   "metadata": {
    "colab": {
     "base_uri": "https://localhost:8080/",
     "height": 260
    },
    "colab_type": "code",
    "executionInfo": {
     "elapsed": 1165,
     "status": "ok",
     "timestamp": 1596449469620,
     "user": {
      "displayName": "contravia@naver.com",
      "photoUrl": "",
      "userId": "04072428075549197225"
     },
     "user_tz": -540
    },
    "id": "n9n-4VTTGD1X",
    "outputId": "c40727f4-1a6e-4bcb-ad60-8e1d0a646aa5"
   },
   "outputs": [
    {
     "data": {
      "text/html": [
       "<div>\n",
       "<style scoped>\n",
       "    .dataframe tbody tr th:only-of-type {\n",
       "        vertical-align: middle;\n",
       "    }\n",
       "\n",
       "    .dataframe tbody tr th {\n",
       "        vertical-align: top;\n",
       "    }\n",
       "\n",
       "    .dataframe thead th {\n",
       "        text-align: right;\n",
       "    }\n",
       "</style>\n",
       "<table border=\"1\" class=\"dataframe\">\n",
       "  <thead>\n",
       "    <tr style=\"text-align: right;\">\n",
       "      <th></th>\n",
       "      <th>age</th>\n",
       "      <th>sex</th>\n",
       "      <th>class</th>\n",
       "      <th>fare</th>\n",
       "      <th>survived</th>\n",
       "    </tr>\n",
       "  </thead>\n",
       "  <tbody>\n",
       "    <tr>\n",
       "      <th>0</th>\n",
       "      <td>22.0</td>\n",
       "      <td>male</td>\n",
       "      <td>Third</td>\n",
       "      <td>7.2500</td>\n",
       "      <td>0</td>\n",
       "    </tr>\n",
       "    <tr>\n",
       "      <th>1</th>\n",
       "      <td>38.0</td>\n",
       "      <td>female</td>\n",
       "      <td>First</td>\n",
       "      <td>71.2833</td>\n",
       "      <td>1</td>\n",
       "    </tr>\n",
       "    <tr>\n",
       "      <th>2</th>\n",
       "      <td>26.0</td>\n",
       "      <td>female</td>\n",
       "      <td>Third</td>\n",
       "      <td>7.9250</td>\n",
       "      <td>1</td>\n",
       "    </tr>\n",
       "    <tr>\n",
       "      <th>3</th>\n",
       "      <td>35.0</td>\n",
       "      <td>female</td>\n",
       "      <td>First</td>\n",
       "      <td>53.1000</td>\n",
       "      <td>1</td>\n",
       "    </tr>\n",
       "    <tr>\n",
       "      <th>4</th>\n",
       "      <td>35.0</td>\n",
       "      <td>male</td>\n",
       "      <td>Third</td>\n",
       "      <td>8.0500</td>\n",
       "      <td>0</td>\n",
       "    </tr>\n",
       "  </tbody>\n",
       "</table>\n",
       "</div>"
      ],
      "text/plain": [
       "    age     sex  class     fare  survived\n",
       "0  22.0    male  Third   7.2500         0\n",
       "1  38.0  female  First  71.2833         1\n",
       "2  26.0  female  Third   7.9250         1\n",
       "3  35.0  female  First  53.1000         1\n",
       "4  35.0    male  Third   8.0500         0"
      ]
     },
     "execution_count": 51,
     "metadata": {},
     "output_type": "execute_result"
    }
   ],
   "source": [
    "import seaborn as sns\n",
    "titanic = sns.load_dataset('titanic')\n",
    "\n",
    "DF = titanic.loc[:, ['age', 'sex', 'class', 'fare', 'survived']]\n",
    "\n",
    "DF.head()"
   ]
  },
  {
   "cell_type": "markdown",
   "metadata": {
    "colab_type": "text",
    "id": "YTVua0vcKoNE"
   },
   "source": [
    "> ## 2) groupby( )\n",
    "\n",
    "* 'class' 기준의 DataFrameGroupBy 객체 생성"
   ]
  },
  {
   "cell_type": "code",
   "execution_count": 52,
   "metadata": {
    "colab": {
     "base_uri": "https://localhost:8080/",
     "height": 35
    },
    "colab_type": "code",
    "executionInfo": {
     "elapsed": 676,
     "status": "ok",
     "timestamp": 1596449472574,
     "user": {
      "displayName": "contravia@naver.com",
      "photoUrl": "",
      "userId": "04072428075549197225"
     },
     "user_tz": -540
    },
    "id": "edL7X3CMG-Bf",
    "outputId": "bd58d6bf-9d0d-4cd8-98db-baa426cb643f"
   },
   "outputs": [
    {
     "data": {
      "text/plain": [
       "<pandas.core.groupby.generic.DataFrameGroupBy object at 0x7fbc56541b50>"
      ]
     },
     "execution_count": 52,
     "metadata": {},
     "output_type": "execute_result"
    }
   ],
   "source": [
    "grouped = DF.groupby(['class'])\n",
    "\n",
    "grouped"
   ]
  },
  {
   "cell_type": "markdown",
   "metadata": {
    "colab_type": "text",
    "id": "LtypKIxyW0MF"
   },
   "source": [
    "* groupby 결과 확인(3개 그룹)\n",
    " - 'First', 'Second', 'Third' 키별 3줄씩 출력\n",
    " - .get_group('Key_Name')"
   ]
  },
  {
   "cell_type": "code",
   "execution_count": 53,
   "metadata": {
    "colab": {
     "base_uri": "https://localhost:8080/",
     "height": 336
    },
    "colab_type": "code",
    "executionInfo": {
     "elapsed": 865,
     "status": "ok",
     "timestamp": 1596109394031,
     "user": {
      "displayName": "contravia@naver.com",
      "photoUrl": "",
      "userId": "04072428075549197225"
     },
     "user_tz": -540
    },
    "id": "RxdvLP9pYbSo",
    "outputId": "9066d555-fdf5-45b6-9fba-6d90fbd1e33c"
   },
   "outputs": [
    {
     "name": "stdout",
     "output_type": "stream",
     "text": [
      "    age     sex  class     fare  survived\n",
      "1  38.0  female  First  71.2833         1\n",
      "3  35.0  female  First  53.1000         1\n",
      "6  54.0    male  First  51.8625         0\n",
      "\n",
      "\n",
      "     age     sex   class     fare  survived\n",
      "9   14.0  female  Second  30.0708         1\n",
      "15  55.0  female  Second  16.0000         1\n",
      "17   NaN    male  Second  13.0000         1\n",
      "\n",
      "\n",
      "    age     sex  class   fare  survived\n",
      "0  22.0    male  Third  7.250         0\n",
      "2  26.0  female  Third  7.925         1\n",
      "4  35.0    male  Third  8.050         0\n",
      "\n",
      "\n"
     ]
    }
   ],
   "source": [
    "for key in ['First', 'Second', 'Third']:\n",
    "  print(grouped.get_group(key).head(3))\n",
    "  print('\\n')"
   ]
  },
  {
   "cell_type": "markdown",
   "metadata": {
    "colab_type": "text",
    "id": "qVC5-OTmXT-a"
   },
   "source": [
    "* 3개 그룹별 평균('age', 'fare', 'survived')"
   ]
  },
  {
   "cell_type": "code",
   "execution_count": 54,
   "metadata": {
    "colab": {
     "base_uri": "https://localhost:8080/",
     "height": 406
    },
    "colab_type": "code",
    "executionInfo": {
     "elapsed": 1004,
     "status": "ok",
     "timestamp": 1596109533770,
     "user": {
      "displayName": "contravia@naver.com",
      "photoUrl": "",
      "userId": "04072428075549197225"
     },
     "user_tz": -540
    },
    "id": "fbOWiMDciMxM",
    "outputId": "0293a8a7-b277-4f3f-b9a3-08a1fb587854"
   },
   "outputs": [
    {
     "data": {
      "text/html": [
       "<div>\n",
       "<style scoped>\n",
       "    .dataframe tbody tr th:only-of-type {\n",
       "        vertical-align: middle;\n",
       "    }\n",
       "\n",
       "    .dataframe tbody tr th {\n",
       "        vertical-align: top;\n",
       "    }\n",
       "\n",
       "    .dataframe thead th {\n",
       "        text-align: right;\n",
       "    }\n",
       "</style>\n",
       "<table border=\"1\" class=\"dataframe\">\n",
       "  <thead>\n",
       "    <tr style=\"text-align: right;\">\n",
       "      <th></th>\n",
       "      <th>age</th>\n",
       "      <th>sex</th>\n",
       "      <th>class</th>\n",
       "      <th>fare</th>\n",
       "      <th>survived</th>\n",
       "    </tr>\n",
       "  </thead>\n",
       "  <tbody>\n",
       "    <tr>\n",
       "      <th>1</th>\n",
       "      <td>38.0</td>\n",
       "      <td>female</td>\n",
       "      <td>First</td>\n",
       "      <td>71.2833</td>\n",
       "      <td>1</td>\n",
       "    </tr>\n",
       "    <tr>\n",
       "      <th>3</th>\n",
       "      <td>35.0</td>\n",
       "      <td>female</td>\n",
       "      <td>First</td>\n",
       "      <td>53.1000</td>\n",
       "      <td>1</td>\n",
       "    </tr>\n",
       "    <tr>\n",
       "      <th>6</th>\n",
       "      <td>54.0</td>\n",
       "      <td>male</td>\n",
       "      <td>First</td>\n",
       "      <td>51.8625</td>\n",
       "      <td>0</td>\n",
       "    </tr>\n",
       "    <tr>\n",
       "      <th>11</th>\n",
       "      <td>58.0</td>\n",
       "      <td>female</td>\n",
       "      <td>First</td>\n",
       "      <td>26.5500</td>\n",
       "      <td>1</td>\n",
       "    </tr>\n",
       "    <tr>\n",
       "      <th>23</th>\n",
       "      <td>28.0</td>\n",
       "      <td>male</td>\n",
       "      <td>First</td>\n",
       "      <td>35.5000</td>\n",
       "      <td>1</td>\n",
       "    </tr>\n",
       "    <tr>\n",
       "      <th>...</th>\n",
       "      <td>...</td>\n",
       "      <td>...</td>\n",
       "      <td>...</td>\n",
       "      <td>...</td>\n",
       "      <td>...</td>\n",
       "    </tr>\n",
       "    <tr>\n",
       "      <th>871</th>\n",
       "      <td>47.0</td>\n",
       "      <td>female</td>\n",
       "      <td>First</td>\n",
       "      <td>52.5542</td>\n",
       "      <td>1</td>\n",
       "    </tr>\n",
       "    <tr>\n",
       "      <th>872</th>\n",
       "      <td>33.0</td>\n",
       "      <td>male</td>\n",
       "      <td>First</td>\n",
       "      <td>5.0000</td>\n",
       "      <td>0</td>\n",
       "    </tr>\n",
       "    <tr>\n",
       "      <th>879</th>\n",
       "      <td>56.0</td>\n",
       "      <td>female</td>\n",
       "      <td>First</td>\n",
       "      <td>83.1583</td>\n",
       "      <td>1</td>\n",
       "    </tr>\n",
       "    <tr>\n",
       "      <th>887</th>\n",
       "      <td>19.0</td>\n",
       "      <td>female</td>\n",
       "      <td>First</td>\n",
       "      <td>30.0000</td>\n",
       "      <td>1</td>\n",
       "    </tr>\n",
       "    <tr>\n",
       "      <th>889</th>\n",
       "      <td>26.0</td>\n",
       "      <td>male</td>\n",
       "      <td>First</td>\n",
       "      <td>30.0000</td>\n",
       "      <td>1</td>\n",
       "    </tr>\n",
       "  </tbody>\n",
       "</table>\n",
       "<p>216 rows × 5 columns</p>\n",
       "</div>"
      ],
      "text/plain": [
       "      age     sex  class     fare  survived\n",
       "1    38.0  female  First  71.2833         1\n",
       "3    35.0  female  First  53.1000         1\n",
       "6    54.0    male  First  51.8625         0\n",
       "11   58.0  female  First  26.5500         1\n",
       "23   28.0    male  First  35.5000         1\n",
       "..    ...     ...    ...      ...       ...\n",
       "871  47.0  female  First  52.5542         1\n",
       "872  33.0    male  First   5.0000         0\n",
       "879  56.0  female  First  83.1583         1\n",
       "887  19.0  female  First  30.0000         1\n",
       "889  26.0    male  First  30.0000         1\n",
       "\n",
       "[216 rows x 5 columns]"
      ]
     },
     "execution_count": 54,
     "metadata": {},
     "output_type": "execute_result"
    }
   ],
   "source": [
    "grouped.get_group('First')"
   ]
  },
  {
   "cell_type": "code",
   "execution_count": 55,
   "metadata": {
    "colab": {
     "base_uri": "https://localhost:8080/",
     "height": 167
    },
    "colab_type": "code",
    "executionInfo": {
     "elapsed": 989,
     "status": "ok",
     "timestamp": 1596109607125,
     "user": {
      "displayName": "contravia@naver.com",
      "photoUrl": "",
      "userId": "04072428075549197225"
     },
     "user_tz": -540
    },
    "id": "zE3T19q9ImpH",
    "outputId": "b988987f-d901-4cc9-add1-95b8a66dab58"
   },
   "outputs": [
    {
     "data": {
      "text/html": [
       "<div>\n",
       "<style scoped>\n",
       "    .dataframe tbody tr th:only-of-type {\n",
       "        vertical-align: middle;\n",
       "    }\n",
       "\n",
       "    .dataframe tbody tr th {\n",
       "        vertical-align: top;\n",
       "    }\n",
       "\n",
       "    .dataframe thead th {\n",
       "        text-align: right;\n",
       "    }\n",
       "</style>\n",
       "<table border=\"1\" class=\"dataframe\">\n",
       "  <thead>\n",
       "    <tr style=\"text-align: right;\">\n",
       "      <th></th>\n",
       "      <th>age</th>\n",
       "      <th>fare</th>\n",
       "      <th>survived</th>\n",
       "    </tr>\n",
       "    <tr>\n",
       "      <th>class</th>\n",
       "      <th></th>\n",
       "      <th></th>\n",
       "      <th></th>\n",
       "    </tr>\n",
       "  </thead>\n",
       "  <tbody>\n",
       "    <tr>\n",
       "      <th>First</th>\n",
       "      <td>38.233441</td>\n",
       "      <td>84.154687</td>\n",
       "      <td>0.629630</td>\n",
       "    </tr>\n",
       "    <tr>\n",
       "      <th>Second</th>\n",
       "      <td>29.877630</td>\n",
       "      <td>20.662183</td>\n",
       "      <td>0.472826</td>\n",
       "    </tr>\n",
       "    <tr>\n",
       "      <th>Third</th>\n",
       "      <td>25.140620</td>\n",
       "      <td>13.675550</td>\n",
       "      <td>0.242363</td>\n",
       "    </tr>\n",
       "  </tbody>\n",
       "</table>\n",
       "</div>"
      ],
      "text/plain": [
       "              age       fare  survived\n",
       "class                                 \n",
       "First   38.233441  84.154687  0.629630\n",
       "Second  29.877630  20.662183  0.472826\n",
       "Third   25.140620  13.675550  0.242363"
      ]
     },
     "execution_count": 55,
     "metadata": {},
     "output_type": "execute_result"
    }
   ],
   "source": [
    "grouped.mean()"
   ]
  },
  {
   "cell_type": "markdown",
   "metadata": {
    "colab_type": "text",
    "id": "R1crRPJgXosB"
   },
   "source": [
    "* 'Third' 키 그룹 정보 확인\n",
    " - .get_group('Third')"
   ]
  },
  {
   "cell_type": "code",
   "execution_count": 56,
   "metadata": {
    "colab": {
     "base_uri": "https://localhost:8080/",
     "height": 137
    },
    "colab_type": "code",
    "executionInfo": {
     "elapsed": 1353,
     "status": "ok",
     "timestamp": 1596109610518,
     "user": {
      "displayName": "contravia@naver.com",
      "photoUrl": "",
      "userId": "04072428075549197225"
     },
     "user_tz": -540
    },
    "id": "wMoNoK8gJJvg",
    "outputId": "c71be773-2f78-42e9-a177-f83ae70bf011"
   },
   "outputs": [
    {
     "data": {
      "text/html": [
       "<div>\n",
       "<style scoped>\n",
       "    .dataframe tbody tr th:only-of-type {\n",
       "        vertical-align: middle;\n",
       "    }\n",
       "\n",
       "    .dataframe tbody tr th {\n",
       "        vertical-align: top;\n",
       "    }\n",
       "\n",
       "    .dataframe thead th {\n",
       "        text-align: right;\n",
       "    }\n",
       "</style>\n",
       "<table border=\"1\" class=\"dataframe\">\n",
       "  <thead>\n",
       "    <tr style=\"text-align: right;\">\n",
       "      <th></th>\n",
       "      <th>age</th>\n",
       "      <th>sex</th>\n",
       "      <th>class</th>\n",
       "      <th>fare</th>\n",
       "      <th>survived</th>\n",
       "    </tr>\n",
       "  </thead>\n",
       "  <tbody>\n",
       "    <tr>\n",
       "      <th>0</th>\n",
       "      <td>22.0</td>\n",
       "      <td>male</td>\n",
       "      <td>Third</td>\n",
       "      <td>7.250</td>\n",
       "      <td>0</td>\n",
       "    </tr>\n",
       "    <tr>\n",
       "      <th>2</th>\n",
       "      <td>26.0</td>\n",
       "      <td>female</td>\n",
       "      <td>Third</td>\n",
       "      <td>7.925</td>\n",
       "      <td>1</td>\n",
       "    </tr>\n",
       "    <tr>\n",
       "      <th>4</th>\n",
       "      <td>35.0</td>\n",
       "      <td>male</td>\n",
       "      <td>Third</td>\n",
       "      <td>8.050</td>\n",
       "      <td>0</td>\n",
       "    </tr>\n",
       "  </tbody>\n",
       "</table>\n",
       "</div>"
      ],
      "text/plain": [
       "    age     sex  class   fare  survived\n",
       "0  22.0    male  Third  7.250         0\n",
       "2  26.0  female  Third  7.925         1\n",
       "4  35.0    male  Third  8.050         0"
      ]
     },
     "execution_count": 56,
     "metadata": {},
     "output_type": "execute_result"
    }
   ],
   "source": [
    "grouped.get_group('Third').head(3)"
   ]
  },
  {
   "cell_type": "markdown",
   "metadata": {
    "colab_type": "text",
    "id": "IvbrRvfIp0UM"
   },
   "source": [
    "* 두 개 키(Key) 사용하여 DataFrameGoupBy 객체 생성\n",
    " - 'class', 'sex' 키 적용"
   ]
  },
  {
   "cell_type": "code",
   "execution_count": 57,
   "metadata": {
    "colab": {
     "base_uri": "https://localhost:8080/",
     "height": 227
    },
    "colab_type": "code",
    "executionInfo": {
     "elapsed": 987,
     "status": "ok",
     "timestamp": 1596109660062,
     "user": {
      "displayName": "contravia@naver.com",
      "photoUrl": "",
      "userId": "04072428075549197225"
     },
     "user_tz": -540
    },
    "id": "CV9RKFi9p7bU",
    "outputId": "219af908-4380-4e3c-d973-51551a2d6ebd"
   },
   "outputs": [
    {
     "data": {
      "text/html": [
       "<div>\n",
       "<style scoped>\n",
       "    .dataframe tbody tr th:only-of-type {\n",
       "        vertical-align: middle;\n",
       "    }\n",
       "\n",
       "    .dataframe tbody tr th {\n",
       "        vertical-align: top;\n",
       "    }\n",
       "\n",
       "    .dataframe thead th {\n",
       "        text-align: right;\n",
       "    }\n",
       "</style>\n",
       "<table border=\"1\" class=\"dataframe\">\n",
       "  <thead>\n",
       "    <tr style=\"text-align: right;\">\n",
       "      <th></th>\n",
       "      <th>age</th>\n",
       "      <th>sex</th>\n",
       "      <th>class</th>\n",
       "      <th>fare</th>\n",
       "      <th>survived</th>\n",
       "    </tr>\n",
       "  </thead>\n",
       "  <tbody>\n",
       "    <tr>\n",
       "      <th>0</th>\n",
       "      <td>22.0</td>\n",
       "      <td>male</td>\n",
       "      <td>Third</td>\n",
       "      <td>7.2500</td>\n",
       "      <td>0</td>\n",
       "    </tr>\n",
       "    <tr>\n",
       "      <th>1</th>\n",
       "      <td>38.0</td>\n",
       "      <td>female</td>\n",
       "      <td>First</td>\n",
       "      <td>71.2833</td>\n",
       "      <td>1</td>\n",
       "    </tr>\n",
       "    <tr>\n",
       "      <th>2</th>\n",
       "      <td>26.0</td>\n",
       "      <td>female</td>\n",
       "      <td>Third</td>\n",
       "      <td>7.9250</td>\n",
       "      <td>1</td>\n",
       "    </tr>\n",
       "    <tr>\n",
       "      <th>6</th>\n",
       "      <td>54.0</td>\n",
       "      <td>male</td>\n",
       "      <td>First</td>\n",
       "      <td>51.8625</td>\n",
       "      <td>0</td>\n",
       "    </tr>\n",
       "    <tr>\n",
       "      <th>9</th>\n",
       "      <td>14.0</td>\n",
       "      <td>female</td>\n",
       "      <td>Second</td>\n",
       "      <td>30.0708</td>\n",
       "      <td>1</td>\n",
       "    </tr>\n",
       "    <tr>\n",
       "      <th>17</th>\n",
       "      <td>NaN</td>\n",
       "      <td>male</td>\n",
       "      <td>Second</td>\n",
       "      <td>13.0000</td>\n",
       "      <td>1</td>\n",
       "    </tr>\n",
       "  </tbody>\n",
       "</table>\n",
       "</div>"
      ],
      "text/plain": [
       "     age     sex   class     fare  survived\n",
       "0   22.0    male   Third   7.2500         0\n",
       "1   38.0  female   First  71.2833         1\n",
       "2   26.0  female   Third   7.9250         1\n",
       "6   54.0    male   First  51.8625         0\n",
       "9   14.0  female  Second  30.0708         1\n",
       "17   NaN    male  Second  13.0000         1"
      ]
     },
     "execution_count": 57,
     "metadata": {},
     "output_type": "execute_result"
    }
   ],
   "source": [
    "grouped_TWO = DF.groupby(['class', 'sex'])\n",
    "\n",
    "grouped_TWO.head(1) #class 는 3개 sex는 2개 그래서 6개 나옴"
   ]
  },
  {
   "cell_type": "markdown",
   "metadata": {
    "colab_type": "text",
    "id": "lJ0CxwA1ZbIK"
   },
   "source": [
    "* groupby 결과 확인(6개 그룹)"
   ]
  },
  {
   "cell_type": "code",
   "execution_count": 58,
   "metadata": {
    "colab": {
     "base_uri": "https://localhost:8080/",
     "height": 870
    },
    "colab_type": "code",
    "executionInfo": {
     "elapsed": 822,
     "status": "ok",
     "timestamp": 1596109809217,
     "user": {
      "displayName": "contravia@naver.com",
      "photoUrl": "",
      "userId": "04072428075549197225"
     },
     "user_tz": -540
    },
    "id": "zCdSKMLuqOPB",
    "outputId": "1264c0a1-87ca-4ebb-ee9d-00a80dd4f512"
   },
   "outputs": [
    {
     "name": "stdout",
     "output_type": "stream",
     "text": [
      "* key : ('First', 'female')\n",
      "* number : 94\n",
      "     age     sex  class     fare  survived\n",
      "1   38.0  female  First  71.2833         1\n",
      "3   35.0  female  First  53.1000         1\n",
      "11  58.0  female  First  26.5500         1\n",
      "\n",
      "\n",
      "* key : ('First', 'male')\n",
      "* number : 122\n",
      "     age   sex  class      fare  survived\n",
      "6   54.0  male  First   51.8625         0\n",
      "23  28.0  male  First   35.5000         1\n",
      "27  19.0  male  First  263.0000         0\n",
      "\n",
      "\n",
      "* key : ('Second', 'female')\n",
      "* number : 76\n",
      "     age     sex   class     fare  survived\n",
      "9   14.0  female  Second  30.0708         1\n",
      "15  55.0  female  Second  16.0000         1\n",
      "41  27.0  female  Second  21.0000         0\n",
      "\n",
      "\n",
      "* key : ('Second', 'male')\n",
      "* number : 108\n",
      "     age   sex   class  fare  survived\n",
      "17   NaN  male  Second  13.0         1\n",
      "20  35.0  male  Second  26.0         0\n",
      "21  34.0  male  Second  13.0         1\n",
      "\n",
      "\n",
      "* key : ('Third', 'female')\n",
      "* number : 144\n",
      "     age     sex  class     fare  survived\n",
      "2   26.0  female  Third   7.9250         1\n",
      "8   27.0  female  Third  11.1333         1\n",
      "10   4.0  female  Third  16.7000         1\n",
      "\n",
      "\n",
      "* key : ('Third', 'male')\n",
      "* number : 347\n",
      "    age   sex  class    fare  survived\n",
      "0  22.0  male  Third  7.2500         0\n",
      "4  35.0  male  Third  8.0500         0\n",
      "5   NaN  male  Third  8.4583         0\n",
      "\n",
      "\n"
     ]
    }
   ],
   "source": [
    "for key, group in grouped_TWO:\n",
    "  print('* key :', key)\n",
    "  print('* number :', len(group))\n",
    "  print(group.head(3))\n",
    "  print('\\n')"
   ]
  },
  {
   "cell_type": "markdown",
   "metadata": {
    "colab_type": "text",
    "id": "z5V81z5DZ7Fn"
   },
   "source": [
    "* 6개 그룹별 평균('age', 'fare', 'survived')"
   ]
  },
  {
   "cell_type": "code",
   "execution_count": 59,
   "metadata": {
    "colab": {
     "base_uri": "https://localhost:8080/",
     "height": 257
    },
    "colab_type": "code",
    "executionInfo": {
     "elapsed": 835,
     "status": "ok",
     "timestamp": 1596109814413,
     "user": {
      "displayName": "contravia@naver.com",
      "photoUrl": "",
      "userId": "04072428075549197225"
     },
     "user_tz": -540
    },
    "id": "ZAARHJHxrEtq",
    "outputId": "28a606a2-669f-4362-c283-9191f22a13f7"
   },
   "outputs": [
    {
     "data": {
      "text/html": [
       "<div>\n",
       "<style scoped>\n",
       "    .dataframe tbody tr th:only-of-type {\n",
       "        vertical-align: middle;\n",
       "    }\n",
       "\n",
       "    .dataframe tbody tr th {\n",
       "        vertical-align: top;\n",
       "    }\n",
       "\n",
       "    .dataframe thead th {\n",
       "        text-align: right;\n",
       "    }\n",
       "</style>\n",
       "<table border=\"1\" class=\"dataframe\">\n",
       "  <thead>\n",
       "    <tr style=\"text-align: right;\">\n",
       "      <th></th>\n",
       "      <th></th>\n",
       "      <th>age</th>\n",
       "      <th>fare</th>\n",
       "      <th>survived</th>\n",
       "    </tr>\n",
       "    <tr>\n",
       "      <th>class</th>\n",
       "      <th>sex</th>\n",
       "      <th></th>\n",
       "      <th></th>\n",
       "      <th></th>\n",
       "    </tr>\n",
       "  </thead>\n",
       "  <tbody>\n",
       "    <tr>\n",
       "      <th rowspan=\"2\" valign=\"top\">First</th>\n",
       "      <th>female</th>\n",
       "      <td>34.611765</td>\n",
       "      <td>106.125798</td>\n",
       "      <td>0.968085</td>\n",
       "    </tr>\n",
       "    <tr>\n",
       "      <th>male</th>\n",
       "      <td>41.281386</td>\n",
       "      <td>67.226127</td>\n",
       "      <td>0.368852</td>\n",
       "    </tr>\n",
       "    <tr>\n",
       "      <th rowspan=\"2\" valign=\"top\">Second</th>\n",
       "      <th>female</th>\n",
       "      <td>28.722973</td>\n",
       "      <td>21.970121</td>\n",
       "      <td>0.921053</td>\n",
       "    </tr>\n",
       "    <tr>\n",
       "      <th>male</th>\n",
       "      <td>30.740707</td>\n",
       "      <td>19.741782</td>\n",
       "      <td>0.157407</td>\n",
       "    </tr>\n",
       "    <tr>\n",
       "      <th rowspan=\"2\" valign=\"top\">Third</th>\n",
       "      <th>female</th>\n",
       "      <td>21.750000</td>\n",
       "      <td>16.118810</td>\n",
       "      <td>0.500000</td>\n",
       "    </tr>\n",
       "    <tr>\n",
       "      <th>male</th>\n",
       "      <td>26.507589</td>\n",
       "      <td>12.661633</td>\n",
       "      <td>0.135447</td>\n",
       "    </tr>\n",
       "  </tbody>\n",
       "</table>\n",
       "</div>"
      ],
      "text/plain": [
       "                     age        fare  survived\n",
       "class  sex                                    \n",
       "First  female  34.611765  106.125798  0.968085\n",
       "       male    41.281386   67.226127  0.368852\n",
       "Second female  28.722973   21.970121  0.921053\n",
       "       male    30.740707   19.741782  0.157407\n",
       "Third  female  21.750000   16.118810  0.500000\n",
       "       male    26.507589   12.661633  0.135447"
      ]
     },
     "execution_count": 59,
     "metadata": {},
     "output_type": "execute_result"
    }
   ],
   "source": [
    "grouped_TWO.mean()"
   ]
  },
  {
   "cell_type": "markdown",
   "metadata": {
    "colab_type": "text",
    "id": "bxQsaalpaPQY"
   },
   "source": [
    "* ('First', 'female') 키 그룹 정보 확인\n",
    " - .get_group(('First', 'female'))"
   ]
  },
  {
   "cell_type": "code",
   "execution_count": 60,
   "metadata": {
    "colab": {
     "base_uri": "https://localhost:8080/",
     "height": 137
    },
    "colab_type": "code",
    "executionInfo": {
     "elapsed": 830,
     "status": "ok",
     "timestamp": 1596109961456,
     "user": {
      "displayName": "contravia@naver.com",
      "photoUrl": "",
      "userId": "04072428075549197225"
     },
     "user_tz": -540
    },
    "id": "nTZ-fZqCr3My",
    "outputId": "8dca93d3-c8b3-4d72-8dce-c6182f9d6488"
   },
   "outputs": [
    {
     "data": {
      "text/html": [
       "<div>\n",
       "<style scoped>\n",
       "    .dataframe tbody tr th:only-of-type {\n",
       "        vertical-align: middle;\n",
       "    }\n",
       "\n",
       "    .dataframe tbody tr th {\n",
       "        vertical-align: top;\n",
       "    }\n",
       "\n",
       "    .dataframe thead th {\n",
       "        text-align: right;\n",
       "    }\n",
       "</style>\n",
       "<table border=\"1\" class=\"dataframe\">\n",
       "  <thead>\n",
       "    <tr style=\"text-align: right;\">\n",
       "      <th></th>\n",
       "      <th>age</th>\n",
       "      <th>sex</th>\n",
       "      <th>class</th>\n",
       "      <th>fare</th>\n",
       "      <th>survived</th>\n",
       "    </tr>\n",
       "  </thead>\n",
       "  <tbody>\n",
       "    <tr>\n",
       "      <th>1</th>\n",
       "      <td>38.0</td>\n",
       "      <td>female</td>\n",
       "      <td>First</td>\n",
       "      <td>71.2833</td>\n",
       "      <td>1</td>\n",
       "    </tr>\n",
       "    <tr>\n",
       "      <th>3</th>\n",
       "      <td>35.0</td>\n",
       "      <td>female</td>\n",
       "      <td>First</td>\n",
       "      <td>53.1000</td>\n",
       "      <td>1</td>\n",
       "    </tr>\n",
       "    <tr>\n",
       "      <th>11</th>\n",
       "      <td>58.0</td>\n",
       "      <td>female</td>\n",
       "      <td>First</td>\n",
       "      <td>26.5500</td>\n",
       "      <td>1</td>\n",
       "    </tr>\n",
       "  </tbody>\n",
       "</table>\n",
       "</div>"
      ],
      "text/plain": [
       "     age     sex  class     fare  survived\n",
       "1   38.0  female  First  71.2833         1\n",
       "3   35.0  female  First  53.1000         1\n",
       "11  58.0  female  First  26.5500         1"
      ]
     },
     "execution_count": 60,
     "metadata": {},
     "output_type": "execute_result"
    }
   ],
   "source": [
    "grouped_TWO.get_group(('First', 'female')).head(3)"
   ]
  },
  {
   "cell_type": "markdown",
   "metadata": {
    "colab_type": "text",
    "id": "AyxBvgxNtoFc"
   },
   "source": [
    "> ## 3) agg( )\n",
    "\n",
    "* Aggregation : 여러개의 함수를 groupby 객체에 적용\n",
    " - 그룹별로 연산 결과를 집계하여 반환"
   ]
  },
  {
   "cell_type": "code",
   "execution_count": 61,
   "metadata": {
    "colab": {
     "base_uri": "https://localhost:8080/",
     "height": 197
    },
    "colab_type": "code",
    "executionInfo": {
     "elapsed": 871,
     "status": "ok",
     "timestamp": 1596110158781,
     "user": {
      "displayName": "contravia@naver.com",
      "photoUrl": "",
      "userId": "04072428075549197225"
     },
     "user_tz": -540
    },
    "id": "dmd97tHEv1fd",
    "outputId": "74dd6efc-6257-461f-f340-52424463ca8b"
   },
   "outputs": [
    {
     "data": {
      "text/html": [
       "<div>\n",
       "<style scoped>\n",
       "    .dataframe tbody tr th:only-of-type {\n",
       "        vertical-align: middle;\n",
       "    }\n",
       "\n",
       "    .dataframe tbody tr th {\n",
       "        vertical-align: top;\n",
       "    }\n",
       "\n",
       "    .dataframe thead tr th {\n",
       "        text-align: left;\n",
       "    }\n",
       "\n",
       "    .dataframe thead tr:last-of-type th {\n",
       "        text-align: right;\n",
       "    }\n",
       "</style>\n",
       "<table border=\"1\" class=\"dataframe\">\n",
       "  <thead>\n",
       "    <tr>\n",
       "      <th></th>\n",
       "      <th colspan=\"2\" halign=\"left\">age</th>\n",
       "      <th colspan=\"2\" halign=\"left\">fare</th>\n",
       "      <th colspan=\"2\" halign=\"left\">survived</th>\n",
       "    </tr>\n",
       "    <tr>\n",
       "      <th></th>\n",
       "      <th>mean</th>\n",
       "      <th>std</th>\n",
       "      <th>mean</th>\n",
       "      <th>std</th>\n",
       "      <th>mean</th>\n",
       "      <th>std</th>\n",
       "    </tr>\n",
       "    <tr>\n",
       "      <th>class</th>\n",
       "      <th></th>\n",
       "      <th></th>\n",
       "      <th></th>\n",
       "      <th></th>\n",
       "      <th></th>\n",
       "      <th></th>\n",
       "    </tr>\n",
       "  </thead>\n",
       "  <tbody>\n",
       "    <tr>\n",
       "      <th>First</th>\n",
       "      <td>38.233441</td>\n",
       "      <td>14.802856</td>\n",
       "      <td>84.154687</td>\n",
       "      <td>78.380373</td>\n",
       "      <td>0.629630</td>\n",
       "      <td>0.484026</td>\n",
       "    </tr>\n",
       "    <tr>\n",
       "      <th>Second</th>\n",
       "      <td>29.877630</td>\n",
       "      <td>14.001077</td>\n",
       "      <td>20.662183</td>\n",
       "      <td>13.417399</td>\n",
       "      <td>0.472826</td>\n",
       "      <td>0.500623</td>\n",
       "    </tr>\n",
       "    <tr>\n",
       "      <th>Third</th>\n",
       "      <td>25.140620</td>\n",
       "      <td>12.495398</td>\n",
       "      <td>13.675550</td>\n",
       "      <td>11.778142</td>\n",
       "      <td>0.242363</td>\n",
       "      <td>0.428949</td>\n",
       "    </tr>\n",
       "  </tbody>\n",
       "</table>\n",
       "</div>"
      ],
      "text/plain": [
       "              age                  fare             survived          \n",
       "             mean        std       mean        std      mean       std\n",
       "class                                                                 \n",
       "First   38.233441  14.802856  84.154687  78.380373  0.629630  0.484026\n",
       "Second  29.877630  14.001077  20.662183  13.417399  0.472826  0.500623\n",
       "Third   25.140620  12.495398  13.675550  11.778142  0.242363  0.428949"
      ]
     },
     "execution_count": 61,
     "metadata": {},
     "output_type": "execute_result"
    }
   ],
   "source": [
    "grouped.agg(['mean', 'std'])"
   ]
  },
  {
   "cell_type": "code",
   "execution_count": 62,
   "metadata": {
    "colab": {
     "base_uri": "https://localhost:8080/",
     "height": 287
    },
    "colab_type": "code",
    "executionInfo": {
     "elapsed": 951,
     "status": "ok",
     "timestamp": 1596110442625,
     "user": {
      "displayName": "contravia@naver.com",
      "photoUrl": "",
      "userId": "04072428075549197225"
     },
     "user_tz": -540
    },
    "id": "xiQ2gBvhlU_X",
    "outputId": "fc536636-9108-4a89-cf93-c534a14d304c"
   },
   "outputs": [
    {
     "data": {
      "text/html": [
       "<div>\n",
       "<style scoped>\n",
       "    .dataframe tbody tr th:only-of-type {\n",
       "        vertical-align: middle;\n",
       "    }\n",
       "\n",
       "    .dataframe tbody tr th {\n",
       "        vertical-align: top;\n",
       "    }\n",
       "\n",
       "    .dataframe thead tr th {\n",
       "        text-align: left;\n",
       "    }\n",
       "\n",
       "    .dataframe thead tr:last-of-type th {\n",
       "        text-align: right;\n",
       "    }\n",
       "</style>\n",
       "<table border=\"1\" class=\"dataframe\">\n",
       "  <thead>\n",
       "    <tr>\n",
       "      <th></th>\n",
       "      <th></th>\n",
       "      <th colspan=\"2\" halign=\"left\">age</th>\n",
       "      <th colspan=\"2\" halign=\"left\">fare</th>\n",
       "      <th colspan=\"2\" halign=\"left\">survived</th>\n",
       "    </tr>\n",
       "    <tr>\n",
       "      <th></th>\n",
       "      <th></th>\n",
       "      <th>mean</th>\n",
       "      <th>std</th>\n",
       "      <th>mean</th>\n",
       "      <th>std</th>\n",
       "      <th>mean</th>\n",
       "      <th>std</th>\n",
       "    </tr>\n",
       "    <tr>\n",
       "      <th>class</th>\n",
       "      <th>sex</th>\n",
       "      <th></th>\n",
       "      <th></th>\n",
       "      <th></th>\n",
       "      <th></th>\n",
       "      <th></th>\n",
       "      <th></th>\n",
       "    </tr>\n",
       "  </thead>\n",
       "  <tbody>\n",
       "    <tr>\n",
       "      <th rowspan=\"2\" valign=\"top\">First</th>\n",
       "      <th>female</th>\n",
       "      <td>34.611765</td>\n",
       "      <td>13.612052</td>\n",
       "      <td>106.125798</td>\n",
       "      <td>74.259988</td>\n",
       "      <td>0.968085</td>\n",
       "      <td>0.176716</td>\n",
       "    </tr>\n",
       "    <tr>\n",
       "      <th>male</th>\n",
       "      <td>41.281386</td>\n",
       "      <td>15.139570</td>\n",
       "      <td>67.226127</td>\n",
       "      <td>77.548021</td>\n",
       "      <td>0.368852</td>\n",
       "      <td>0.484484</td>\n",
       "    </tr>\n",
       "    <tr>\n",
       "      <th rowspan=\"2\" valign=\"top\">Second</th>\n",
       "      <th>female</th>\n",
       "      <td>28.722973</td>\n",
       "      <td>12.872702</td>\n",
       "      <td>21.970121</td>\n",
       "      <td>10.891796</td>\n",
       "      <td>0.921053</td>\n",
       "      <td>0.271448</td>\n",
       "    </tr>\n",
       "    <tr>\n",
       "      <th>male</th>\n",
       "      <td>30.740707</td>\n",
       "      <td>14.793894</td>\n",
       "      <td>19.741782</td>\n",
       "      <td>14.922235</td>\n",
       "      <td>0.157407</td>\n",
       "      <td>0.365882</td>\n",
       "    </tr>\n",
       "    <tr>\n",
       "      <th rowspan=\"2\" valign=\"top\">Third</th>\n",
       "      <th>female</th>\n",
       "      <td>21.750000</td>\n",
       "      <td>12.729964</td>\n",
       "      <td>16.118810</td>\n",
       "      <td>11.690314</td>\n",
       "      <td>0.500000</td>\n",
       "      <td>0.501745</td>\n",
       "    </tr>\n",
       "    <tr>\n",
       "      <th>male</th>\n",
       "      <td>26.507589</td>\n",
       "      <td>12.159514</td>\n",
       "      <td>12.661633</td>\n",
       "      <td>11.681696</td>\n",
       "      <td>0.135447</td>\n",
       "      <td>0.342694</td>\n",
       "    </tr>\n",
       "  </tbody>\n",
       "</table>\n",
       "</div>"
      ],
      "text/plain": [
       "                     age                   fare             survived          \n",
       "                    mean        std        mean        std      mean       std\n",
       "class  sex                                                                    \n",
       "First  female  34.611765  13.612052  106.125798  74.259988  0.968085  0.176716\n",
       "       male    41.281386  15.139570   67.226127  77.548021  0.368852  0.484484\n",
       "Second female  28.722973  12.872702   21.970121  10.891796  0.921053  0.271448\n",
       "       male    30.740707  14.793894   19.741782  14.922235  0.157407  0.365882\n",
       "Third  female  21.750000  12.729964   16.118810  11.690314  0.500000  0.501745\n",
       "       male    26.507589  12.159514   12.661633  11.681696  0.135447  0.342694"
      ]
     },
     "execution_count": 62,
     "metadata": {},
     "output_type": "execute_result"
    }
   ],
   "source": [
    "grouped_TWO.agg(['mean', 'std'])"
   ]
  },
  {
   "cell_type": "code",
   "execution_count": 63,
   "metadata": {
    "colab": {
     "base_uri": "https://localhost:8080/",
     "height": 167
    },
    "colab_type": "code",
    "executionInfo": {
     "elapsed": 974,
     "status": "ok",
     "timestamp": 1596110308139,
     "user": {
      "displayName": "contravia@naver.com",
      "photoUrl": "",
      "userId": "04072428075549197225"
     },
     "user_tz": -540
    },
    "id": "mH68d02kbZvH",
    "outputId": "6bc667fa-eeba-4444-cfd7-ca5345859dd7"
   },
   "outputs": [
    {
     "data": {
      "text/html": [
       "<div>\n",
       "<style scoped>\n",
       "    .dataframe tbody tr th:only-of-type {\n",
       "        vertical-align: middle;\n",
       "    }\n",
       "\n",
       "    .dataframe tbody tr th {\n",
       "        vertical-align: top;\n",
       "    }\n",
       "\n",
       "    .dataframe thead th {\n",
       "        text-align: right;\n",
       "    }\n",
       "</style>\n",
       "<table border=\"1\" class=\"dataframe\">\n",
       "  <thead>\n",
       "    <tr style=\"text-align: right;\">\n",
       "      <th></th>\n",
       "      <th>min</th>\n",
       "      <th>max</th>\n",
       "    </tr>\n",
       "    <tr>\n",
       "      <th>class</th>\n",
       "      <th></th>\n",
       "      <th></th>\n",
       "    </tr>\n",
       "  </thead>\n",
       "  <tbody>\n",
       "    <tr>\n",
       "      <th>First</th>\n",
       "      <td>0.0</td>\n",
       "      <td>512.3292</td>\n",
       "    </tr>\n",
       "    <tr>\n",
       "      <th>Second</th>\n",
       "      <td>0.0</td>\n",
       "      <td>73.5000</td>\n",
       "    </tr>\n",
       "    <tr>\n",
       "      <th>Third</th>\n",
       "      <td>0.0</td>\n",
       "      <td>69.5500</td>\n",
       "    </tr>\n",
       "  </tbody>\n",
       "</table>\n",
       "</div>"
      ],
      "text/plain": [
       "        min       max\n",
       "class                \n",
       "First   0.0  512.3292\n",
       "Second  0.0   73.5000\n",
       "Third   0.0   69.5500"
      ]
     },
     "execution_count": 63,
     "metadata": {},
     "output_type": "execute_result"
    }
   ],
   "source": [
    "grouped.fare.agg(['min', 'max'])"
   ]
  },
  {
   "cell_type": "code",
   "execution_count": 64,
   "metadata": {
    "colab": {
     "base_uri": "https://localhost:8080/",
     "height": 197
    },
    "colab_type": "code",
    "executionInfo": {
     "elapsed": 810,
     "status": "ok",
     "timestamp": 1596110350022,
     "user": {
      "displayName": "contravia@naver.com",
      "photoUrl": "",
      "userId": "04072428075549197225"
     },
     "user_tz": -540
    },
    "id": "g7fPmQLAwa-U",
    "outputId": "33f871c5-9e8c-4839-8b69-d1eaabea1972"
   },
   "outputs": [
    {
     "data": {
      "text/html": [
       "<div>\n",
       "<style scoped>\n",
       "    .dataframe tbody tr th:only-of-type {\n",
       "        vertical-align: middle;\n",
       "    }\n",
       "\n",
       "    .dataframe tbody tr th {\n",
       "        vertical-align: top;\n",
       "    }\n",
       "\n",
       "    .dataframe thead tr th {\n",
       "        text-align: left;\n",
       "    }\n",
       "\n",
       "    .dataframe thead tr:last-of-type th {\n",
       "        text-align: right;\n",
       "    }\n",
       "</style>\n",
       "<table border=\"1\" class=\"dataframe\">\n",
       "  <thead>\n",
       "    <tr>\n",
       "      <th></th>\n",
       "      <th colspan=\"2\" halign=\"left\">fare</th>\n",
       "      <th colspan=\"2\" halign=\"left\">age</th>\n",
       "    </tr>\n",
       "    <tr>\n",
       "      <th></th>\n",
       "      <th>min</th>\n",
       "      <th>max</th>\n",
       "      <th>mean</th>\n",
       "      <th>std</th>\n",
       "    </tr>\n",
       "    <tr>\n",
       "      <th>class</th>\n",
       "      <th></th>\n",
       "      <th></th>\n",
       "      <th></th>\n",
       "      <th></th>\n",
       "    </tr>\n",
       "  </thead>\n",
       "  <tbody>\n",
       "    <tr>\n",
       "      <th>First</th>\n",
       "      <td>0.0</td>\n",
       "      <td>512.3292</td>\n",
       "      <td>38.233441</td>\n",
       "      <td>14.802856</td>\n",
       "    </tr>\n",
       "    <tr>\n",
       "      <th>Second</th>\n",
       "      <td>0.0</td>\n",
       "      <td>73.5000</td>\n",
       "      <td>29.877630</td>\n",
       "      <td>14.001077</td>\n",
       "    </tr>\n",
       "    <tr>\n",
       "      <th>Third</th>\n",
       "      <td>0.0</td>\n",
       "      <td>69.5500</td>\n",
       "      <td>25.140620</td>\n",
       "      <td>12.495398</td>\n",
       "    </tr>\n",
       "  </tbody>\n",
       "</table>\n",
       "</div>"
      ],
      "text/plain": [
       "       fare                  age           \n",
       "        min       max       mean        std\n",
       "class                                      \n",
       "First   0.0  512.3292  38.233441  14.802856\n",
       "Second  0.0   73.5000  29.877630  14.001077\n",
       "Third   0.0   69.5500  25.140620  12.495398"
      ]
     },
     "execution_count": 64,
     "metadata": {},
     "output_type": "execute_result"
    }
   ],
   "source": [
    "grouped.agg({'fare' : ['min', 'max'], 'age' : ['mean', 'std']})"
   ]
  },
  {
   "cell_type": "markdown",
   "metadata": {
    "colab_type": "text",
    "id": "-9Irz-AT2A2d"
   },
   "source": [
    "> ## 4) transform( )\n",
    "\n",
    "* 그룹별로 함수를 적용하여 각 원소의 행과 열을 기준으로 연산 결과를 반환\n",
    " - 데이터프레임에 'z_score' 열(Column)을 추가\n",
    "\n",
    "* Robotic Process Automation, Robin RPA : 정형화된 자동화 사무처리\n",
    "\n",
    "\n"
   ]
  },
  {
   "cell_type": "markdown",
   "metadata": {
    "colab_type": "text",
    "id": "1IXIxRahmfqA"
   },
   "source": [
    "* 원본 DF"
   ]
  },
  {
   "cell_type": "code",
   "execution_count": 65,
   "metadata": {
    "colab": {
     "base_uri": "https://localhost:8080/",
     "height": 137
    },
    "colab_type": "code",
    "executionInfo": {
     "elapsed": 810,
     "status": "ok",
     "timestamp": 1596110649195,
     "user": {
      "displayName": "contravia@naver.com",
      "photoUrl": "",
      "userId": "04072428075549197225"
     },
     "user_tz": -540
    },
    "id": "R0mNSe-LgCxY",
    "outputId": "46d7c0c8-a1f6-4186-a17c-72ceb8ca670b"
   },
   "outputs": [
    {
     "data": {
      "text/html": [
       "<div>\n",
       "<style scoped>\n",
       "    .dataframe tbody tr th:only-of-type {\n",
       "        vertical-align: middle;\n",
       "    }\n",
       "\n",
       "    .dataframe tbody tr th {\n",
       "        vertical-align: top;\n",
       "    }\n",
       "\n",
       "    .dataframe thead th {\n",
       "        text-align: right;\n",
       "    }\n",
       "</style>\n",
       "<table border=\"1\" class=\"dataframe\">\n",
       "  <thead>\n",
       "    <tr style=\"text-align: right;\">\n",
       "      <th></th>\n",
       "      <th>age</th>\n",
       "      <th>sex</th>\n",
       "      <th>class</th>\n",
       "      <th>fare</th>\n",
       "      <th>survived</th>\n",
       "    </tr>\n",
       "  </thead>\n",
       "  <tbody>\n",
       "    <tr>\n",
       "      <th>0</th>\n",
       "      <td>22.0</td>\n",
       "      <td>male</td>\n",
       "      <td>Third</td>\n",
       "      <td>7.2500</td>\n",
       "      <td>0</td>\n",
       "    </tr>\n",
       "    <tr>\n",
       "      <th>1</th>\n",
       "      <td>38.0</td>\n",
       "      <td>female</td>\n",
       "      <td>First</td>\n",
       "      <td>71.2833</td>\n",
       "      <td>1</td>\n",
       "    </tr>\n",
       "    <tr>\n",
       "      <th>2</th>\n",
       "      <td>26.0</td>\n",
       "      <td>female</td>\n",
       "      <td>Third</td>\n",
       "      <td>7.9250</td>\n",
       "      <td>1</td>\n",
       "    </tr>\n",
       "  </tbody>\n",
       "</table>\n",
       "</div>"
      ],
      "text/plain": [
       "    age     sex  class     fare  survived\n",
       "0  22.0    male  Third   7.2500         0\n",
       "1  38.0  female  First  71.2833         1\n",
       "2  26.0  female  Third   7.9250         1"
      ]
     },
     "execution_count": 65,
     "metadata": {},
     "output_type": "execute_result"
    }
   ],
   "source": [
    "DF.head(3)"
   ]
  },
  {
   "cell_type": "markdown",
   "metadata": {
    "colab_type": "text",
    "id": "E5FAmwZpgvak"
   },
   "source": [
    "* z_score( ) 표준화 함수 정의"
   ]
  },
  {
   "cell_type": "code",
   "execution_count": 66,
   "metadata": {
    "colab": {},
    "colab_type": "code",
    "id": "a-BJQSqI3nhe"
   },
   "outputs": [],
   "source": [
    "def z_score(x) :\n",
    "  return (x - x.mean()) / x.std()"
   ]
  },
  {
   "cell_type": "markdown",
   "metadata": {
    "colab_type": "text",
    "id": "j2rfFngJgzaj"
   },
   "source": [
    "* DF에 transform( ) 함수를 적용하여 'z_score' 열 추가\n",
    " - 3개 그룹별 'age'변수에 대한 표준화 변수('z_score') 계산"
   ]
  },
  {
   "cell_type": "code",
   "execution_count": 67,
   "metadata": {
    "colab": {
     "base_uri": "https://localhost:8080/",
     "height": 230
    },
    "colab_type": "code",
    "executionInfo": {
     "elapsed": 820,
     "status": "ok",
     "timestamp": 1596111266607,
     "user": {
      "displayName": "contravia@naver.com",
      "photoUrl": "",
      "userId": "04072428075549197225"
     },
     "user_tz": -540
    },
    "id": "j6Ixw7PTfE4X",
    "outputId": "60b35dc8-521d-4db8-d94a-a638a4577c6d"
   },
   "outputs": [
    {
     "data": {
      "text/plain": [
       "0     -0.251342\n",
       "1     -0.015770\n",
       "2      0.068776\n",
       "3     -0.218434\n",
       "4      0.789041\n",
       "         ...   \n",
       "886   -0.205529\n",
       "887   -1.299306\n",
       "888         NaN\n",
       "889   -0.826424\n",
       "890    0.548953\n",
       "Name: age, Length: 891, dtype: float64"
      ]
     },
     "execution_count": 67,
     "metadata": {},
     "output_type": "execute_result"
    }
   ],
   "source": [
    "DF['z_score'] = grouped.age.transform(z_score)\n",
    "grouped.age.transform(z_score)"
   ]
  },
  {
   "cell_type": "markdown",
   "metadata": {
    "colab_type": "text",
    "id": "MwhVqAEkg32i"
   },
   "source": [
    "* 추가된 'z_score' 열 확인"
   ]
  },
  {
   "cell_type": "code",
   "execution_count": 68,
   "metadata": {
    "colab": {
     "base_uri": "https://localhost:8080/",
     "height": 137
    },
    "colab_type": "code",
    "executionInfo": {
     "elapsed": 770,
     "status": "ok",
     "timestamp": 1596111155526,
     "user": {
      "displayName": "contravia@naver.com",
      "photoUrl": "",
      "userId": "04072428075549197225"
     },
     "user_tz": -540
    },
    "id": "4CjWMwVqf5Gw",
    "outputId": "6e86cabd-5ba7-4ea0-b8cd-508ab9c9f15c"
   },
   "outputs": [
    {
     "data": {
      "text/html": [
       "<div>\n",
       "<style scoped>\n",
       "    .dataframe tbody tr th:only-of-type {\n",
       "        vertical-align: middle;\n",
       "    }\n",
       "\n",
       "    .dataframe tbody tr th {\n",
       "        vertical-align: top;\n",
       "    }\n",
       "\n",
       "    .dataframe thead th {\n",
       "        text-align: right;\n",
       "    }\n",
       "</style>\n",
       "<table border=\"1\" class=\"dataframe\">\n",
       "  <thead>\n",
       "    <tr style=\"text-align: right;\">\n",
       "      <th></th>\n",
       "      <th>age</th>\n",
       "      <th>sex</th>\n",
       "      <th>class</th>\n",
       "      <th>fare</th>\n",
       "      <th>survived</th>\n",
       "      <th>z_score</th>\n",
       "    </tr>\n",
       "  </thead>\n",
       "  <tbody>\n",
       "    <tr>\n",
       "      <th>0</th>\n",
       "      <td>22.0</td>\n",
       "      <td>male</td>\n",
       "      <td>Third</td>\n",
       "      <td>7.2500</td>\n",
       "      <td>0</td>\n",
       "      <td>-0.251342</td>\n",
       "    </tr>\n",
       "    <tr>\n",
       "      <th>1</th>\n",
       "      <td>38.0</td>\n",
       "      <td>female</td>\n",
       "      <td>First</td>\n",
       "      <td>71.2833</td>\n",
       "      <td>1</td>\n",
       "      <td>-0.015770</td>\n",
       "    </tr>\n",
       "    <tr>\n",
       "      <th>2</th>\n",
       "      <td>26.0</td>\n",
       "      <td>female</td>\n",
       "      <td>Third</td>\n",
       "      <td>7.9250</td>\n",
       "      <td>1</td>\n",
       "      <td>0.068776</td>\n",
       "    </tr>\n",
       "  </tbody>\n",
       "</table>\n",
       "</div>"
      ],
      "text/plain": [
       "    age     sex  class     fare  survived   z_score\n",
       "0  22.0    male  Third   7.2500         0 -0.251342\n",
       "1  38.0  female  First  71.2833         1 -0.015770\n",
       "2  26.0  female  Third   7.9250         1  0.068776"
      ]
     },
     "execution_count": 68,
     "metadata": {},
     "output_type": "execute_result"
    }
   ],
   "source": [
    "DF.head(3)"
   ]
  },
  {
   "cell_type": "markdown",
   "metadata": {
    "colab_type": "text",
    "id": "SWZnU7My4tLU"
   },
   "source": [
    "> ## 5) filter( )\n",
    "\n",
    "* 데이터 개수가 200개 이상인 그룹의 결과만 필터링\n",
    " - 'First', 'Third'"
   ]
  },
  {
   "cell_type": "code",
   "execution_count": 69,
   "metadata": {
    "colab": {
     "base_uri": "https://localhost:8080/",
     "height": 137
    },
    "colab_type": "code",
    "executionInfo": {
     "elapsed": 1005,
     "status": "ok",
     "timestamp": 1596111230633,
     "user": {
      "displayName": "contravia@naver.com",
      "photoUrl": "",
      "userId": "04072428075549197225"
     },
     "user_tz": -540
    },
    "id": "sfLQ5-1s42NL",
    "outputId": "31b7f091-b46a-45d5-cf55-2dee215ff4f5"
   },
   "outputs": [
    {
     "data": {
      "text/html": [
       "<div>\n",
       "<style scoped>\n",
       "    .dataframe tbody tr th:only-of-type {\n",
       "        vertical-align: middle;\n",
       "    }\n",
       "\n",
       "    .dataframe tbody tr th {\n",
       "        vertical-align: top;\n",
       "    }\n",
       "\n",
       "    .dataframe thead th {\n",
       "        text-align: right;\n",
       "    }\n",
       "</style>\n",
       "<table border=\"1\" class=\"dataframe\">\n",
       "  <thead>\n",
       "    <tr style=\"text-align: right;\">\n",
       "      <th></th>\n",
       "      <th>age</th>\n",
       "      <th>sex</th>\n",
       "      <th>class</th>\n",
       "      <th>fare</th>\n",
       "      <th>survived</th>\n",
       "      <th>z_score</th>\n",
       "    </tr>\n",
       "  </thead>\n",
       "  <tbody>\n",
       "    <tr>\n",
       "      <th>0</th>\n",
       "      <td>22.0</td>\n",
       "      <td>male</td>\n",
       "      <td>Third</td>\n",
       "      <td>7.2500</td>\n",
       "      <td>0</td>\n",
       "      <td>-0.251342</td>\n",
       "    </tr>\n",
       "    <tr>\n",
       "      <th>1</th>\n",
       "      <td>38.0</td>\n",
       "      <td>female</td>\n",
       "      <td>First</td>\n",
       "      <td>71.2833</td>\n",
       "      <td>1</td>\n",
       "      <td>-0.015770</td>\n",
       "    </tr>\n",
       "    <tr>\n",
       "      <th>2</th>\n",
       "      <td>26.0</td>\n",
       "      <td>female</td>\n",
       "      <td>Third</td>\n",
       "      <td>7.9250</td>\n",
       "      <td>1</td>\n",
       "      <td>0.068776</td>\n",
       "    </tr>\n",
       "  </tbody>\n",
       "</table>\n",
       "</div>"
      ],
      "text/plain": [
       "    age     sex  class     fare  survived   z_score\n",
       "0  22.0    male  Third   7.2500         0 -0.251342\n",
       "1  38.0  female  First  71.2833         1 -0.015770\n",
       "2  26.0  female  Third   7.9250         1  0.068776"
      ]
     },
     "execution_count": 69,
     "metadata": {},
     "output_type": "execute_result"
    }
   ],
   "source": [
    "grouped.filter(lambda x : len(x) >= 200).head(3)  # 그룹에 있는 행의 개수가 200보다 큰경우"
   ]
  },
  {
   "cell_type": "markdown",
   "metadata": {
    "colab_type": "text",
    "id": "O_bLCVU5pMxy"
   },
   "source": [
    "* 그룹별 데이터 개수"
   ]
  },
  {
   "cell_type": "code",
   "execution_count": 70,
   "metadata": {
    "colab": {
     "base_uri": "https://localhost:8080/",
     "height": 105
    },
    "colab_type": "code",
    "executionInfo": {
     "elapsed": 828,
     "status": "ok",
     "timestamp": 1596111237288,
     "user": {
      "displayName": "contravia@naver.com",
      "photoUrl": "",
      "userId": "04072428075549197225"
     },
     "user_tz": -540
    },
    "id": "-u1yAQfqovop",
    "outputId": "5a5c1ec8-1d72-4396-8ca9-af3233b666e8"
   },
   "outputs": [
    {
     "data": {
      "text/plain": [
       "class\n",
       "First     216\n",
       "Second    184\n",
       "Third     491\n",
       "dtype: int64"
      ]
     },
     "execution_count": 70,
     "metadata": {},
     "output_type": "execute_result"
    }
   ],
   "source": [
    "grouped.apply(len)"
   ]
  },
  {
   "cell_type": "markdown",
   "metadata": {
    "colab_type": "text",
    "id": "JmH2SmmVpRcV"
   },
   "source": [
    "* 'age' 열 평균이 30보다 작은 그룹의 결과만 필터링\n",
    " - 'Second', 'Third'"
   ]
  },
  {
   "cell_type": "code",
   "execution_count": 71,
   "metadata": {
    "colab": {
     "base_uri": "https://localhost:8080/",
     "height": 137
    },
    "colab_type": "code",
    "executionInfo": {
     "elapsed": 881,
     "status": "ok",
     "timestamp": 1596111466703,
     "user": {
      "displayName": "contravia@naver.com",
      "photoUrl": "",
      "userId": "04072428075549197225"
     },
     "user_tz": -540
    },
    "id": "R_-zErrJ5iXm",
    "outputId": "6e46cdc5-1f29-4ba9-c342-1985f35590e1"
   },
   "outputs": [
    {
     "data": {
      "text/html": [
       "<div>\n",
       "<style scoped>\n",
       "    .dataframe tbody tr th:only-of-type {\n",
       "        vertical-align: middle;\n",
       "    }\n",
       "\n",
       "    .dataframe tbody tr th {\n",
       "        vertical-align: top;\n",
       "    }\n",
       "\n",
       "    .dataframe thead th {\n",
       "        text-align: right;\n",
       "    }\n",
       "</style>\n",
       "<table border=\"1\" class=\"dataframe\">\n",
       "  <thead>\n",
       "    <tr style=\"text-align: right;\">\n",
       "      <th></th>\n",
       "      <th>age</th>\n",
       "      <th>sex</th>\n",
       "      <th>class</th>\n",
       "      <th>fare</th>\n",
       "      <th>survived</th>\n",
       "      <th>z_score</th>\n",
       "    </tr>\n",
       "  </thead>\n",
       "  <tbody>\n",
       "    <tr>\n",
       "      <th>886</th>\n",
       "      <td>27.0</td>\n",
       "      <td>male</td>\n",
       "      <td>Second</td>\n",
       "      <td>13.00</td>\n",
       "      <td>0</td>\n",
       "      <td>-0.205529</td>\n",
       "    </tr>\n",
       "    <tr>\n",
       "      <th>888</th>\n",
       "      <td>NaN</td>\n",
       "      <td>female</td>\n",
       "      <td>Third</td>\n",
       "      <td>23.45</td>\n",
       "      <td>0</td>\n",
       "      <td>NaN</td>\n",
       "    </tr>\n",
       "    <tr>\n",
       "      <th>890</th>\n",
       "      <td>32.0</td>\n",
       "      <td>male</td>\n",
       "      <td>Third</td>\n",
       "      <td>7.75</td>\n",
       "      <td>0</td>\n",
       "      <td>0.548953</td>\n",
       "    </tr>\n",
       "  </tbody>\n",
       "</table>\n",
       "</div>"
      ],
      "text/plain": [
       "      age     sex   class   fare  survived   z_score\n",
       "886  27.0    male  Second  13.00         0 -0.205529\n",
       "888   NaN  female   Third  23.45         0       NaN\n",
       "890  32.0    male   Third   7.75         0  0.548953"
      ]
     },
     "execution_count": 71,
     "metadata": {},
     "output_type": "execute_result"
    }
   ],
   "source": [
    "grouped.filter(lambda x: x.age.mean() < 30 ).tail(3) # x 는 그룹을 나타내나?"
   ]
  },
  {
   "cell_type": "markdown",
   "metadata": {
    "colab_type": "text",
    "id": "pl5DAgxup_0l"
   },
   "source": [
    "* 그룹별 'age' 열의 평균"
   ]
  },
  {
   "cell_type": "code",
   "execution_count": 72,
   "metadata": {
    "colab": {
     "base_uri": "https://localhost:8080/",
     "height": 105
    },
    "colab_type": "code",
    "executionInfo": {
     "elapsed": 773,
     "status": "ok",
     "timestamp": 1596111417224,
     "user": {
      "displayName": "contravia@naver.com",
      "photoUrl": "",
      "userId": "04072428075549197225"
     },
     "user_tz": -540
    },
    "id": "vwzNxi1updFv",
    "outputId": "0d752dfe-3a82-4ecc-e711-379708ef153f"
   },
   "outputs": [
    {
     "data": {
      "text/plain": [
       "class\n",
       "First     38.233441\n",
       "Second    29.877630\n",
       "Third     25.140620\n",
       "Name: age, dtype: float64"
      ]
     },
     "execution_count": 72,
     "metadata": {},
     "output_type": "execute_result"
    }
   ],
   "source": [
    "grouped.age.mean()"
   ]
  },
  {
   "cell_type": "code",
   "execution_count": null,
   "metadata": {
    "colab": {},
    "colab_type": "code",
    "id": "KxnlpILcz5oZ"
   },
   "outputs": [],
   "source": []
  },
  {
   "cell_type": "markdown",
   "metadata": {
    "colab_type": "text",
    "id": "k3kAnj3I6JmX"
   },
   "source": [
    "> ## 6) apply( )\n",
    "\n",
    "* 각 그룹별 describe( ) 함수 적용"
   ]
  },
  {
   "cell_type": "code",
   "execution_count": 73,
   "metadata": {
    "colab": {
     "base_uri": "https://localhost:8080/",
     "height": 514
    },
    "colab_type": "code",
    "executionInfo": {
     "elapsed": 605,
     "status": "ok",
     "timestamp": 1596449677312,
     "user": {
      "displayName": "contravia@naver.com",
      "photoUrl": "",
      "userId": "04072428075549197225"
     },
     "user_tz": -540
    },
    "id": "rUm3onlrzG7q",
    "outputId": "4636c1b3-a40b-465b-874b-dad27b1cf519"
   },
   "outputs": [
    {
     "data": {
      "text/html": [
       "<div>\n",
       "<style scoped>\n",
       "    .dataframe tbody tr th:only-of-type {\n",
       "        vertical-align: middle;\n",
       "    }\n",
       "\n",
       "    .dataframe tbody tr th {\n",
       "        vertical-align: top;\n",
       "    }\n",
       "\n",
       "    .dataframe thead th {\n",
       "        text-align: right;\n",
       "    }\n",
       "</style>\n",
       "<table border=\"1\" class=\"dataframe\">\n",
       "  <thead>\n",
       "    <tr style=\"text-align: right;\">\n",
       "      <th></th>\n",
       "      <th>age</th>\n",
       "      <th>sex</th>\n",
       "      <th>class</th>\n",
       "      <th>fare</th>\n",
       "      <th>survived</th>\n",
       "      <th>z_score</th>\n",
       "    </tr>\n",
       "  </thead>\n",
       "  <tbody>\n",
       "    <tr>\n",
       "      <th>0</th>\n",
       "      <td>22.0</td>\n",
       "      <td>male</td>\n",
       "      <td>Third</td>\n",
       "      <td>7.2500</td>\n",
       "      <td>0</td>\n",
       "      <td>-0.251342</td>\n",
       "    </tr>\n",
       "    <tr>\n",
       "      <th>1</th>\n",
       "      <td>38.0</td>\n",
       "      <td>female</td>\n",
       "      <td>First</td>\n",
       "      <td>71.2833</td>\n",
       "      <td>1</td>\n",
       "      <td>-0.015770</td>\n",
       "    </tr>\n",
       "    <tr>\n",
       "      <th>2</th>\n",
       "      <td>26.0</td>\n",
       "      <td>female</td>\n",
       "      <td>Third</td>\n",
       "      <td>7.9250</td>\n",
       "      <td>1</td>\n",
       "      <td>0.068776</td>\n",
       "    </tr>\n",
       "    <tr>\n",
       "      <th>3</th>\n",
       "      <td>35.0</td>\n",
       "      <td>female</td>\n",
       "      <td>First</td>\n",
       "      <td>53.1000</td>\n",
       "      <td>1</td>\n",
       "      <td>-0.218434</td>\n",
       "    </tr>\n",
       "    <tr>\n",
       "      <th>4</th>\n",
       "      <td>35.0</td>\n",
       "      <td>male</td>\n",
       "      <td>Third</td>\n",
       "      <td>8.0500</td>\n",
       "      <td>0</td>\n",
       "      <td>0.789041</td>\n",
       "    </tr>\n",
       "    <tr>\n",
       "      <th>5</th>\n",
       "      <td>NaN</td>\n",
       "      <td>male</td>\n",
       "      <td>Third</td>\n",
       "      <td>8.4583</td>\n",
       "      <td>0</td>\n",
       "      <td>NaN</td>\n",
       "    </tr>\n",
       "    <tr>\n",
       "      <th>6</th>\n",
       "      <td>54.0</td>\n",
       "      <td>male</td>\n",
       "      <td>First</td>\n",
       "      <td>51.8625</td>\n",
       "      <td>0</td>\n",
       "      <td>1.065103</td>\n",
       "    </tr>\n",
       "    <tr>\n",
       "      <th>7</th>\n",
       "      <td>2.0</td>\n",
       "      <td>male</td>\n",
       "      <td>Third</td>\n",
       "      <td>21.0750</td>\n",
       "      <td>0</td>\n",
       "      <td>-1.851931</td>\n",
       "    </tr>\n",
       "    <tr>\n",
       "      <th>9</th>\n",
       "      <td>14.0</td>\n",
       "      <td>female</td>\n",
       "      <td>Second</td>\n",
       "      <td>30.0708</td>\n",
       "      <td>1</td>\n",
       "      <td>-1.134029</td>\n",
       "    </tr>\n",
       "    <tr>\n",
       "      <th>11</th>\n",
       "      <td>58.0</td>\n",
       "      <td>female</td>\n",
       "      <td>First</td>\n",
       "      <td>26.5500</td>\n",
       "      <td>1</td>\n",
       "      <td>1.335321</td>\n",
       "    </tr>\n",
       "    <tr>\n",
       "      <th>15</th>\n",
       "      <td>55.0</td>\n",
       "      <td>female</td>\n",
       "      <td>Second</td>\n",
       "      <td>16.0000</td>\n",
       "      <td>1</td>\n",
       "      <td>1.794317</td>\n",
       "    </tr>\n",
       "    <tr>\n",
       "      <th>17</th>\n",
       "      <td>NaN</td>\n",
       "      <td>male</td>\n",
       "      <td>Second</td>\n",
       "      <td>13.0000</td>\n",
       "      <td>1</td>\n",
       "      <td>NaN</td>\n",
       "    </tr>\n",
       "    <tr>\n",
       "      <th>20</th>\n",
       "      <td>35.0</td>\n",
       "      <td>male</td>\n",
       "      <td>Second</td>\n",
       "      <td>26.0000</td>\n",
       "      <td>0</td>\n",
       "      <td>0.365855</td>\n",
       "    </tr>\n",
       "    <tr>\n",
       "      <th>21</th>\n",
       "      <td>34.0</td>\n",
       "      <td>male</td>\n",
       "      <td>Second</td>\n",
       "      <td>13.0000</td>\n",
       "      <td>1</td>\n",
       "      <td>0.294432</td>\n",
       "    </tr>\n",
       "    <tr>\n",
       "      <th>23</th>\n",
       "      <td>28.0</td>\n",
       "      <td>male</td>\n",
       "      <td>First</td>\n",
       "      <td>35.5000</td>\n",
       "      <td>1</td>\n",
       "      <td>-0.691315</td>\n",
       "    </tr>\n",
       "  </tbody>\n",
       "</table>\n",
       "</div>"
      ],
      "text/plain": [
       "     age     sex   class     fare  survived   z_score\n",
       "0   22.0    male   Third   7.2500         0 -0.251342\n",
       "1   38.0  female   First  71.2833         1 -0.015770\n",
       "2   26.0  female   Third   7.9250         1  0.068776\n",
       "3   35.0  female   First  53.1000         1 -0.218434\n",
       "4   35.0    male   Third   8.0500         0  0.789041\n",
       "5    NaN    male   Third   8.4583         0       NaN\n",
       "6   54.0    male   First  51.8625         0  1.065103\n",
       "7    2.0    male   Third  21.0750         0 -1.851931\n",
       "9   14.0  female  Second  30.0708         1 -1.134029\n",
       "11  58.0  female   First  26.5500         1  1.335321\n",
       "15  55.0  female  Second  16.0000         1  1.794317\n",
       "17   NaN    male  Second  13.0000         1       NaN\n",
       "20  35.0    male  Second  26.0000         0  0.365855\n",
       "21  34.0    male  Second  13.0000         1  0.294432\n",
       "23  28.0    male   First  35.5000         1 -0.691315"
      ]
     },
     "execution_count": 73,
     "metadata": {},
     "output_type": "execute_result"
    }
   ],
   "source": [
    "grouped.head()"
   ]
  },
  {
   "cell_type": "code",
   "execution_count": 74,
   "metadata": {
    "colab": {
     "base_uri": "https://localhost:8080/",
     "height": 797
    },
    "colab_type": "code",
    "executionInfo": {
     "elapsed": 998,
     "status": "ok",
     "timestamp": 1596111474316,
     "user": {
      "displayName": "contravia@naver.com",
      "photoUrl": "",
      "userId": "04072428075549197225"
     },
     "user_tz": -540
    },
    "id": "LA_2PyI_6M-G",
    "outputId": "30281b7f-b321-49fd-ae1d-0b24448de948"
   },
   "outputs": [
    {
     "data": {
      "text/html": [
       "<div>\n",
       "<style scoped>\n",
       "    .dataframe tbody tr th:only-of-type {\n",
       "        vertical-align: middle;\n",
       "    }\n",
       "\n",
       "    .dataframe tbody tr th {\n",
       "        vertical-align: top;\n",
       "    }\n",
       "\n",
       "    .dataframe thead th {\n",
       "        text-align: right;\n",
       "    }\n",
       "</style>\n",
       "<table border=\"1\" class=\"dataframe\">\n",
       "  <thead>\n",
       "    <tr style=\"text-align: right;\">\n",
       "      <th></th>\n",
       "      <th></th>\n",
       "      <th>age</th>\n",
       "      <th>fare</th>\n",
       "      <th>survived</th>\n",
       "      <th>z_score</th>\n",
       "    </tr>\n",
       "    <tr>\n",
       "      <th>class</th>\n",
       "      <th></th>\n",
       "      <th></th>\n",
       "      <th></th>\n",
       "      <th></th>\n",
       "      <th></th>\n",
       "    </tr>\n",
       "  </thead>\n",
       "  <tbody>\n",
       "    <tr>\n",
       "      <th rowspan=\"8\" valign=\"top\">First</th>\n",
       "      <th>count</th>\n",
       "      <td>186.000000</td>\n",
       "      <td>216.000000</td>\n",
       "      <td>216.000000</td>\n",
       "      <td>1.860000e+02</td>\n",
       "    </tr>\n",
       "    <tr>\n",
       "      <th>mean</th>\n",
       "      <td>38.233441</td>\n",
       "      <td>84.154687</td>\n",
       "      <td>0.629630</td>\n",
       "      <td>-6.685214e-17</td>\n",
       "    </tr>\n",
       "    <tr>\n",
       "      <th>std</th>\n",
       "      <td>14.802856</td>\n",
       "      <td>78.380373</td>\n",
       "      <td>0.484026</td>\n",
       "      <td>1.000000e+00</td>\n",
       "    </tr>\n",
       "    <tr>\n",
       "      <th>min</th>\n",
       "      <td>0.920000</td>\n",
       "      <td>0.000000</td>\n",
       "      <td>0.000000</td>\n",
       "      <td>-2.520692e+00</td>\n",
       "    </tr>\n",
       "    <tr>\n",
       "      <th>25%</th>\n",
       "      <td>27.000000</td>\n",
       "      <td>30.923950</td>\n",
       "      <td>0.000000</td>\n",
       "      <td>-7.588698e-01</td>\n",
       "    </tr>\n",
       "    <tr>\n",
       "      <th>50%</th>\n",
       "      <td>37.000000</td>\n",
       "      <td>60.287500</td>\n",
       "      <td>1.000000</td>\n",
       "      <td>-8.332452e-02</td>\n",
       "    </tr>\n",
       "    <tr>\n",
       "      <th>75%</th>\n",
       "      <td>49.000000</td>\n",
       "      <td>93.500000</td>\n",
       "      <td>1.000000</td>\n",
       "      <td>7.273299e-01</td>\n",
       "    </tr>\n",
       "    <tr>\n",
       "      <th>max</th>\n",
       "      <td>80.000000</td>\n",
       "      <td>512.329200</td>\n",
       "      <td>1.000000</td>\n",
       "      <td>2.821520e+00</td>\n",
       "    </tr>\n",
       "    <tr>\n",
       "      <th rowspan=\"8\" valign=\"top\">Second</th>\n",
       "      <th>count</th>\n",
       "      <td>173.000000</td>\n",
       "      <td>184.000000</td>\n",
       "      <td>184.000000</td>\n",
       "      <td>1.730000e+02</td>\n",
       "    </tr>\n",
       "    <tr>\n",
       "      <th>mean</th>\n",
       "      <td>29.877630</td>\n",
       "      <td>20.662183</td>\n",
       "      <td>0.472826</td>\n",
       "      <td>-3.080388e-17</td>\n",
       "    </tr>\n",
       "    <tr>\n",
       "      <th>std</th>\n",
       "      <td>14.001077</td>\n",
       "      <td>13.417399</td>\n",
       "      <td>0.500623</td>\n",
       "      <td>1.000000e+00</td>\n",
       "    </tr>\n",
       "    <tr>\n",
       "      <th>min</th>\n",
       "      <td>0.670000</td>\n",
       "      <td>0.000000</td>\n",
       "      <td>0.000000</td>\n",
       "      <td>-2.086099e+00</td>\n",
       "    </tr>\n",
       "    <tr>\n",
       "      <th>25%</th>\n",
       "      <td>23.000000</td>\n",
       "      <td>13.000000</td>\n",
       "      <td>0.000000</td>\n",
       "      <td>-4.912215e-01</td>\n",
       "    </tr>\n",
       "    <tr>\n",
       "      <th>50%</th>\n",
       "      <td>29.000000</td>\n",
       "      <td>14.250000</td>\n",
       "      <td>0.000000</td>\n",
       "      <td>-6.268304e-02</td>\n",
       "    </tr>\n",
       "    <tr>\n",
       "      <th>75%</th>\n",
       "      <td>36.000000</td>\n",
       "      <td>26.000000</td>\n",
       "      <td>1.000000</td>\n",
       "      <td>4.372785e-01</td>\n",
       "    </tr>\n",
       "    <tr>\n",
       "      <th>max</th>\n",
       "      <td>70.000000</td>\n",
       "      <td>73.500000</td>\n",
       "      <td>1.000000</td>\n",
       "      <td>2.865663e+00</td>\n",
       "    </tr>\n",
       "    <tr>\n",
       "      <th rowspan=\"8\" valign=\"top\">Third</th>\n",
       "      <th>count</th>\n",
       "      <td>355.000000</td>\n",
       "      <td>491.000000</td>\n",
       "      <td>491.000000</td>\n",
       "      <td>3.550000e+02</td>\n",
       "    </tr>\n",
       "    <tr>\n",
       "      <th>mean</th>\n",
       "      <td>25.140620</td>\n",
       "      <td>13.675550</td>\n",
       "      <td>0.242363</td>\n",
       "      <td>-1.150879e-16</td>\n",
       "    </tr>\n",
       "    <tr>\n",
       "      <th>std</th>\n",
       "      <td>12.495398</td>\n",
       "      <td>11.778142</td>\n",
       "      <td>0.428949</td>\n",
       "      <td>1.000000e+00</td>\n",
       "    </tr>\n",
       "    <tr>\n",
       "      <th>min</th>\n",
       "      <td>0.420000</td>\n",
       "      <td>0.000000</td>\n",
       "      <td>0.000000</td>\n",
       "      <td>-1.978378e+00</td>\n",
       "    </tr>\n",
       "    <tr>\n",
       "      <th>25%</th>\n",
       "      <td>18.000000</td>\n",
       "      <td>7.750000</td>\n",
       "      <td>0.000000</td>\n",
       "      <td>-5.714600e-01</td>\n",
       "    </tr>\n",
       "    <tr>\n",
       "      <th>50%</th>\n",
       "      <td>24.000000</td>\n",
       "      <td>8.050000</td>\n",
       "      <td>0.000000</td>\n",
       "      <td>-9.128318e-02</td>\n",
       "    </tr>\n",
       "    <tr>\n",
       "      <th>75%</th>\n",
       "      <td>32.000000</td>\n",
       "      <td>15.500000</td>\n",
       "      <td>0.000000</td>\n",
       "      <td>5.489525e-01</td>\n",
       "    </tr>\n",
       "    <tr>\n",
       "      <th>max</th>\n",
       "      <td>74.000000</td>\n",
       "      <td>69.550000</td>\n",
       "      <td>1.000000</td>\n",
       "      <td>3.910190e+00</td>\n",
       "    </tr>\n",
       "  </tbody>\n",
       "</table>\n",
       "</div>"
      ],
      "text/plain": [
       "                     age        fare    survived       z_score\n",
       "class                                                         \n",
       "First  count  186.000000  216.000000  216.000000  1.860000e+02\n",
       "       mean    38.233441   84.154687    0.629630 -6.685214e-17\n",
       "       std     14.802856   78.380373    0.484026  1.000000e+00\n",
       "       min      0.920000    0.000000    0.000000 -2.520692e+00\n",
       "       25%     27.000000   30.923950    0.000000 -7.588698e-01\n",
       "       50%     37.000000   60.287500    1.000000 -8.332452e-02\n",
       "       75%     49.000000   93.500000    1.000000  7.273299e-01\n",
       "       max     80.000000  512.329200    1.000000  2.821520e+00\n",
       "Second count  173.000000  184.000000  184.000000  1.730000e+02\n",
       "       mean    29.877630   20.662183    0.472826 -3.080388e-17\n",
       "       std     14.001077   13.417399    0.500623  1.000000e+00\n",
       "       min      0.670000    0.000000    0.000000 -2.086099e+00\n",
       "       25%     23.000000   13.000000    0.000000 -4.912215e-01\n",
       "       50%     29.000000   14.250000    0.000000 -6.268304e-02\n",
       "       75%     36.000000   26.000000    1.000000  4.372785e-01\n",
       "       max     70.000000   73.500000    1.000000  2.865663e+00\n",
       "Third  count  355.000000  491.000000  491.000000  3.550000e+02\n",
       "       mean    25.140620   13.675550    0.242363 -1.150879e-16\n",
       "       std     12.495398   11.778142    0.428949  1.000000e+00\n",
       "       min      0.420000    0.000000    0.000000 -1.978378e+00\n",
       "       25%     18.000000    7.750000    0.000000 -5.714600e-01\n",
       "       50%     24.000000    8.050000    0.000000 -9.128318e-02\n",
       "       75%     32.000000   15.500000    0.000000  5.489525e-01\n",
       "       max     74.000000   69.550000    1.000000  3.910190e+00"
      ]
     },
     "execution_count": 74,
     "metadata": {},
     "output_type": "execute_result"
    }
   ],
   "source": [
    "grouped.apply(lambda x: x.describe())"
   ]
  },
  {
   "cell_type": "markdown",
   "metadata": {
    "colab_type": "text",
    "id": "pH2xj39Yvhej"
   },
   "source": [
    "* 각 그룹별 'age' 열의 평균값이 30보다 작은지 평가"
   ]
  },
  {
   "cell_type": "code",
   "execution_count": 75,
   "metadata": {
    "colab": {
     "base_uri": "https://localhost:8080/",
     "height": 105
    },
    "colab_type": "code",
    "executionInfo": {
     "elapsed": 807,
     "status": "ok",
     "timestamp": 1596111623862,
     "user": {
      "displayName": "contravia@naver.com",
      "photoUrl": "",
      "userId": "04072428075549197225"
     },
     "user_tz": -540
    },
    "id": "OyyynSco7DoK",
    "outputId": "1f619418-15f7-4ff2-bbe3-4ffa979a4835"
   },
   "outputs": [
    {
     "data": {
      "text/plain": [
       "class\n",
       "First     False\n",
       "Second     True\n",
       "Third      True\n",
       "dtype: bool"
      ]
     },
     "execution_count": 75,
     "metadata": {},
     "output_type": "execute_result"
    }
   ],
   "source": [
    "grouped.apply(lambda x : x.age.mean() < 30) # x 그룹된 각각"
   ]
  },
  {
   "cell_type": "markdown",
   "metadata": {
    "colab_type": "text",
    "id": "GA9FJD4L8l1n"
   },
   "source": [
    "#  VI. 멀티 인덱스\n",
    "\n",
    "* 'class' 및 'sex' 기준의 DataFrameGroupBy 객체 생성"
   ]
  },
  {
   "cell_type": "code",
   "execution_count": 76,
   "metadata": {
    "colab": {
     "base_uri": "https://localhost:8080/",
     "height": 227
    },
    "colab_type": "code",
    "executionInfo": {
     "elapsed": 800,
     "status": "ok",
     "timestamp": 1596111756218,
     "user": {
      "displayName": "contravia@naver.com",
      "photoUrl": "",
      "userId": "04072428075549197225"
     },
     "user_tz": -540
    },
    "id": "zOVl_nSS8qvx",
    "outputId": "8dfa369e-eacf-4e78-b837-3dfa1d218bf8"
   },
   "outputs": [
    {
     "data": {
      "text/html": [
       "<div>\n",
       "<style scoped>\n",
       "    .dataframe tbody tr th:only-of-type {\n",
       "        vertical-align: middle;\n",
       "    }\n",
       "\n",
       "    .dataframe tbody tr th {\n",
       "        vertical-align: top;\n",
       "    }\n",
       "\n",
       "    .dataframe thead th {\n",
       "        text-align: right;\n",
       "    }\n",
       "</style>\n",
       "<table border=\"1\" class=\"dataframe\">\n",
       "  <thead>\n",
       "    <tr style=\"text-align: right;\">\n",
       "      <th></th>\n",
       "      <th>age</th>\n",
       "      <th>sex</th>\n",
       "      <th>class</th>\n",
       "      <th>fare</th>\n",
       "      <th>survived</th>\n",
       "      <th>z_score</th>\n",
       "    </tr>\n",
       "  </thead>\n",
       "  <tbody>\n",
       "    <tr>\n",
       "      <th>0</th>\n",
       "      <td>22.0</td>\n",
       "      <td>male</td>\n",
       "      <td>Third</td>\n",
       "      <td>7.2500</td>\n",
       "      <td>0</td>\n",
       "      <td>-0.251342</td>\n",
       "    </tr>\n",
       "    <tr>\n",
       "      <th>1</th>\n",
       "      <td>38.0</td>\n",
       "      <td>female</td>\n",
       "      <td>First</td>\n",
       "      <td>71.2833</td>\n",
       "      <td>1</td>\n",
       "      <td>-0.015770</td>\n",
       "    </tr>\n",
       "    <tr>\n",
       "      <th>2</th>\n",
       "      <td>26.0</td>\n",
       "      <td>female</td>\n",
       "      <td>Third</td>\n",
       "      <td>7.9250</td>\n",
       "      <td>1</td>\n",
       "      <td>0.068776</td>\n",
       "    </tr>\n",
       "    <tr>\n",
       "      <th>6</th>\n",
       "      <td>54.0</td>\n",
       "      <td>male</td>\n",
       "      <td>First</td>\n",
       "      <td>51.8625</td>\n",
       "      <td>0</td>\n",
       "      <td>1.065103</td>\n",
       "    </tr>\n",
       "    <tr>\n",
       "      <th>9</th>\n",
       "      <td>14.0</td>\n",
       "      <td>female</td>\n",
       "      <td>Second</td>\n",
       "      <td>30.0708</td>\n",
       "      <td>1</td>\n",
       "      <td>-1.134029</td>\n",
       "    </tr>\n",
       "    <tr>\n",
       "      <th>17</th>\n",
       "      <td>NaN</td>\n",
       "      <td>male</td>\n",
       "      <td>Second</td>\n",
       "      <td>13.0000</td>\n",
       "      <td>1</td>\n",
       "      <td>NaN</td>\n",
       "    </tr>\n",
       "  </tbody>\n",
       "</table>\n",
       "</div>"
      ],
      "text/plain": [
       "     age     sex   class     fare  survived   z_score\n",
       "0   22.0    male   Third   7.2500         0 -0.251342\n",
       "1   38.0  female   First  71.2833         1 -0.015770\n",
       "2   26.0  female   Third   7.9250         1  0.068776\n",
       "6   54.0    male   First  51.8625         0  1.065103\n",
       "9   14.0  female  Second  30.0708         1 -1.134029\n",
       "17   NaN    male  Second  13.0000         1       NaN"
      ]
     },
     "execution_count": 76,
     "metadata": {},
     "output_type": "execute_result"
    }
   ],
   "source": [
    "grouped_MI = DF.groupby(['class', 'sex'])\n",
    "DF.groupby(['class', 'sex']).head(1)"
   ]
  },
  {
   "cell_type": "markdown",
   "metadata": {
    "colab_type": "text",
    "id": "w8pIV-1Zy_df"
   },
   "source": [
    "* 6개 그룹별 mean( ) 함수 적용"
   ]
  },
  {
   "cell_type": "code",
   "execution_count": 77,
   "metadata": {
    "colab": {
     "base_uri": "https://localhost:8080/",
     "height": 257
    },
    "colab_type": "code",
    "executionInfo": {
     "elapsed": 802,
     "status": "ok",
     "timestamp": 1596111760844,
     "user": {
      "displayName": "contravia@naver.com",
      "photoUrl": "",
      "userId": "04072428075549197225"
     },
     "user_tz": -540
    },
    "id": "UwqVM3YZ81rX",
    "outputId": "a1c261df-d0e6-48e3-bdb6-65714ee99680"
   },
   "outputs": [
    {
     "data": {
      "text/html": [
       "<div>\n",
       "<style scoped>\n",
       "    .dataframe tbody tr th:only-of-type {\n",
       "        vertical-align: middle;\n",
       "    }\n",
       "\n",
       "    .dataframe tbody tr th {\n",
       "        vertical-align: top;\n",
       "    }\n",
       "\n",
       "    .dataframe thead th {\n",
       "        text-align: right;\n",
       "    }\n",
       "</style>\n",
       "<table border=\"1\" class=\"dataframe\">\n",
       "  <thead>\n",
       "    <tr style=\"text-align: right;\">\n",
       "      <th></th>\n",
       "      <th></th>\n",
       "      <th>age</th>\n",
       "      <th>fare</th>\n",
       "      <th>survived</th>\n",
       "      <th>z_score</th>\n",
       "    </tr>\n",
       "    <tr>\n",
       "      <th>class</th>\n",
       "      <th>sex</th>\n",
       "      <th></th>\n",
       "      <th></th>\n",
       "      <th></th>\n",
       "      <th></th>\n",
       "    </tr>\n",
       "  </thead>\n",
       "  <tbody>\n",
       "    <tr>\n",
       "      <th rowspan=\"2\" valign=\"top\">First</th>\n",
       "      <th>female</th>\n",
       "      <td>34.611765</td>\n",
       "      <td>106.125798</td>\n",
       "      <td>0.968085</td>\n",
       "      <td>-0.244661</td>\n",
       "    </tr>\n",
       "    <tr>\n",
       "      <th>male</th>\n",
       "      <td>41.281386</td>\n",
       "      <td>67.226127</td>\n",
       "      <td>0.368852</td>\n",
       "      <td>0.205903</td>\n",
       "    </tr>\n",
       "    <tr>\n",
       "      <th rowspan=\"2\" valign=\"top\">Second</th>\n",
       "      <th>female</th>\n",
       "      <td>28.722973</td>\n",
       "      <td>21.970121</td>\n",
       "      <td>0.921053</td>\n",
       "      <td>-0.082469</td>\n",
       "    </tr>\n",
       "    <tr>\n",
       "      <th>male</th>\n",
       "      <td>30.740707</td>\n",
       "      <td>19.741782</td>\n",
       "      <td>0.157407</td>\n",
       "      <td>0.061644</td>\n",
       "    </tr>\n",
       "    <tr>\n",
       "      <th rowspan=\"2\" valign=\"top\">Third</th>\n",
       "      <th>female</th>\n",
       "      <td>21.750000</td>\n",
       "      <td>16.118810</td>\n",
       "      <td>0.500000</td>\n",
       "      <td>-0.271349</td>\n",
       "    </tr>\n",
       "    <tr>\n",
       "      <th>male</th>\n",
       "      <td>26.507589</td>\n",
       "      <td>12.661633</td>\n",
       "      <td>0.135447</td>\n",
       "      <td>0.109398</td>\n",
       "    </tr>\n",
       "  </tbody>\n",
       "</table>\n",
       "</div>"
      ],
      "text/plain": [
       "                     age        fare  survived   z_score\n",
       "class  sex                                              \n",
       "First  female  34.611765  106.125798  0.968085 -0.244661\n",
       "       male    41.281386   67.226127  0.368852  0.205903\n",
       "Second female  28.722973   21.970121  0.921053 -0.082469\n",
       "       male    30.740707   19.741782  0.157407  0.061644\n",
       "Third  female  21.750000   16.118810  0.500000 -0.271349\n",
       "       male    26.507589   12.661633  0.135447  0.109398"
      ]
     },
     "execution_count": 77,
     "metadata": {},
     "output_type": "execute_result"
    }
   ],
   "source": [
    "grouped_MI.mean()"
   ]
  },
  {
   "cell_type": "code",
   "execution_count": 78,
   "metadata": {
    "colab": {
     "base_uri": "https://localhost:8080/",
     "height": 107
    },
    "colab_type": "code",
    "executionInfo": {
     "elapsed": 811,
     "status": "ok",
     "timestamp": 1596111980117,
     "user": {
      "displayName": "contravia@naver.com",
      "photoUrl": "",
      "userId": "04072428075549197225"
     },
     "user_tz": -540
    },
    "id": "uxhW5iterjPV",
    "outputId": "96f67480-6b19-4ce8-8828-fa66e8a5da60"
   },
   "outputs": [
    {
     "data": {
      "text/html": [
       "<div>\n",
       "<style scoped>\n",
       "    .dataframe tbody tr th:only-of-type {\n",
       "        vertical-align: middle;\n",
       "    }\n",
       "\n",
       "    .dataframe tbody tr th {\n",
       "        vertical-align: top;\n",
       "    }\n",
       "\n",
       "    .dataframe thead th {\n",
       "        text-align: right;\n",
       "    }\n",
       "</style>\n",
       "<table border=\"1\" class=\"dataframe\">\n",
       "  <thead>\n",
       "    <tr style=\"text-align: right;\">\n",
       "      <th></th>\n",
       "      <th></th>\n",
       "      <th>age</th>\n",
       "      <th>fare</th>\n",
       "      <th>survived</th>\n",
       "      <th>z_score</th>\n",
       "    </tr>\n",
       "    <tr>\n",
       "      <th>class</th>\n",
       "      <th>sex</th>\n",
       "      <th></th>\n",
       "      <th></th>\n",
       "      <th></th>\n",
       "      <th></th>\n",
       "    </tr>\n",
       "  </thead>\n",
       "  <tbody>\n",
       "    <tr>\n",
       "      <th>First</th>\n",
       "      <th>female</th>\n",
       "      <td>34.611765</td>\n",
       "      <td>106.125798</td>\n",
       "      <td>0.968085</td>\n",
       "      <td>-0.244661</td>\n",
       "    </tr>\n",
       "  </tbody>\n",
       "</table>\n",
       "</div>"
      ],
      "text/plain": [
       "                    age        fare  survived   z_score\n",
       "class sex                                              \n",
       "First female  34.611765  106.125798  0.968085 -0.244661"
      ]
     },
     "execution_count": 78,
     "metadata": {},
     "output_type": "execute_result"
    }
   ],
   "source": [
    "grouped_MI.mean()[0:1]"
   ]
  },
  {
   "cell_type": "markdown",
   "metadata": {
    "colab_type": "text",
    "id": "2Ow7utZRzJYE"
   },
   "source": [
    "> ## 1) .xs('First', level = 'class')"
   ]
  },
  {
   "cell_type": "code",
   "execution_count": 79,
   "metadata": {
    "colab": {
     "base_uri": "https://localhost:8080/",
     "height": 137
    },
    "colab_type": "code",
    "executionInfo": {
     "elapsed": 1304,
     "status": "ok",
     "timestamp": 1596111789691,
     "user": {
      "displayName": "contravia@naver.com",
      "photoUrl": "",
      "userId": "04072428075549197225"
     },
     "user_tz": -540
    },
    "id": "5TcUghDhxb85",
    "outputId": "98700a69-ca49-4e88-97d9-ad7998917712"
   },
   "outputs": [
    {
     "data": {
      "text/html": [
       "<div>\n",
       "<style scoped>\n",
       "    .dataframe tbody tr th:only-of-type {\n",
       "        vertical-align: middle;\n",
       "    }\n",
       "\n",
       "    .dataframe tbody tr th {\n",
       "        vertical-align: top;\n",
       "    }\n",
       "\n",
       "    .dataframe thead th {\n",
       "        text-align: right;\n",
       "    }\n",
       "</style>\n",
       "<table border=\"1\" class=\"dataframe\">\n",
       "  <thead>\n",
       "    <tr style=\"text-align: right;\">\n",
       "      <th></th>\n",
       "      <th>age</th>\n",
       "      <th>fare</th>\n",
       "      <th>survived</th>\n",
       "      <th>z_score</th>\n",
       "    </tr>\n",
       "    <tr>\n",
       "      <th>sex</th>\n",
       "      <th></th>\n",
       "      <th></th>\n",
       "      <th></th>\n",
       "      <th></th>\n",
       "    </tr>\n",
       "  </thead>\n",
       "  <tbody>\n",
       "    <tr>\n",
       "      <th>female</th>\n",
       "      <td>34.611765</td>\n",
       "      <td>106.125798</td>\n",
       "      <td>0.968085</td>\n",
       "      <td>-0.244661</td>\n",
       "    </tr>\n",
       "    <tr>\n",
       "      <th>male</th>\n",
       "      <td>41.281386</td>\n",
       "      <td>67.226127</td>\n",
       "      <td>0.368852</td>\n",
       "      <td>0.205903</td>\n",
       "    </tr>\n",
       "  </tbody>\n",
       "</table>\n",
       "</div>"
      ],
      "text/plain": [
       "              age        fare  survived   z_score\n",
       "sex                                              \n",
       "female  34.611765  106.125798  0.968085 -0.244661\n",
       "male    41.281386   67.226127  0.368852  0.205903"
      ]
     },
     "execution_count": 79,
     "metadata": {},
     "output_type": "execute_result"
    }
   ],
   "source": [
    "grouped_MI.mean().xs('First', level = 'class') # xs: cross segment"
   ]
  },
  {
   "cell_type": "markdown",
   "metadata": {
    "colab_type": "text",
    "id": "YJDfB18Yzkop"
   },
   "source": [
    "> ## 2) .xs('female', level = 'sex')"
   ]
  },
  {
   "cell_type": "code",
   "execution_count": 80,
   "metadata": {
    "colab": {
     "base_uri": "https://localhost:8080/",
     "height": 167
    },
    "colab_type": "code",
    "executionInfo": {
     "elapsed": 939,
     "status": "ok",
     "timestamp": 1596111935750,
     "user": {
      "displayName": "contravia@naver.com",
      "photoUrl": "",
      "userId": "04072428075549197225"
     },
     "user_tz": -540
    },
    "id": "a7ggXuwExT3J",
    "outputId": "dbfe4505-7371-4339-bf38-f304d86eb451"
   },
   "outputs": [
    {
     "data": {
      "text/html": [
       "<div>\n",
       "<style scoped>\n",
       "    .dataframe tbody tr th:only-of-type {\n",
       "        vertical-align: middle;\n",
       "    }\n",
       "\n",
       "    .dataframe tbody tr th {\n",
       "        vertical-align: top;\n",
       "    }\n",
       "\n",
       "    .dataframe thead th {\n",
       "        text-align: right;\n",
       "    }\n",
       "</style>\n",
       "<table border=\"1\" class=\"dataframe\">\n",
       "  <thead>\n",
       "    <tr style=\"text-align: right;\">\n",
       "      <th></th>\n",
       "      <th>age</th>\n",
       "      <th>fare</th>\n",
       "      <th>survived</th>\n",
       "      <th>z_score</th>\n",
       "    </tr>\n",
       "    <tr>\n",
       "      <th>class</th>\n",
       "      <th></th>\n",
       "      <th></th>\n",
       "      <th></th>\n",
       "      <th></th>\n",
       "    </tr>\n",
       "  </thead>\n",
       "  <tbody>\n",
       "    <tr>\n",
       "      <th>First</th>\n",
       "      <td>34.611765</td>\n",
       "      <td>106.125798</td>\n",
       "      <td>0.968085</td>\n",
       "      <td>-0.244661</td>\n",
       "    </tr>\n",
       "    <tr>\n",
       "      <th>Second</th>\n",
       "      <td>28.722973</td>\n",
       "      <td>21.970121</td>\n",
       "      <td>0.921053</td>\n",
       "      <td>-0.082469</td>\n",
       "    </tr>\n",
       "    <tr>\n",
       "      <th>Third</th>\n",
       "      <td>21.750000</td>\n",
       "      <td>16.118810</td>\n",
       "      <td>0.500000</td>\n",
       "      <td>-0.271349</td>\n",
       "    </tr>\n",
       "  </tbody>\n",
       "</table>\n",
       "</div>"
      ],
      "text/plain": [
       "              age        fare  survived   z_score\n",
       "class                                            \n",
       "First   34.611765  106.125798  0.968085 -0.244661\n",
       "Second  28.722973   21.970121  0.921053 -0.082469\n",
       "Third   21.750000   16.118810  0.500000 -0.271349"
      ]
     },
     "execution_count": 80,
     "metadata": {},
     "output_type": "execute_result"
    }
   ],
   "source": [
    "grouped_MI.mean().xs('female', level = 'sex')"
   ]
  },
  {
   "cell_type": "markdown",
   "metadata": {
    "colab_type": "text",
    "id": "4ZITcspmzo9k"
   },
   "source": [
    "> ## 3) .xs(['First', 'male'], level = ['class', 'sex'])"
   ]
  },
  {
   "cell_type": "code",
   "execution_count": 81,
   "metadata": {
    "colab": {
     "base_uri": "https://localhost:8080/",
     "height": 107
    },
    "colab_type": "code",
    "executionInfo": {
     "elapsed": 822,
     "status": "ok",
     "timestamp": 1596111937407,
     "user": {
      "displayName": "contravia@naver.com",
      "photoUrl": "",
      "userId": "04072428075549197225"
     },
     "user_tz": -540
    },
    "id": "ePK7kMsdxi4E",
    "outputId": "557c4852-0849-44bb-f45f-3bcdb23809df"
   },
   "outputs": [
    {
     "data": {
      "text/html": [
       "<div>\n",
       "<style scoped>\n",
       "    .dataframe tbody tr th:only-of-type {\n",
       "        vertical-align: middle;\n",
       "    }\n",
       "\n",
       "    .dataframe tbody tr th {\n",
       "        vertical-align: top;\n",
       "    }\n",
       "\n",
       "    .dataframe thead th {\n",
       "        text-align: right;\n",
       "    }\n",
       "</style>\n",
       "<table border=\"1\" class=\"dataframe\">\n",
       "  <thead>\n",
       "    <tr style=\"text-align: right;\">\n",
       "      <th></th>\n",
       "      <th></th>\n",
       "      <th>age</th>\n",
       "      <th>fare</th>\n",
       "      <th>survived</th>\n",
       "      <th>z_score</th>\n",
       "    </tr>\n",
       "    <tr>\n",
       "      <th>class</th>\n",
       "      <th>sex</th>\n",
       "      <th></th>\n",
       "      <th></th>\n",
       "      <th></th>\n",
       "      <th></th>\n",
       "    </tr>\n",
       "  </thead>\n",
       "  <tbody>\n",
       "    <tr>\n",
       "      <th>First</th>\n",
       "      <th>male</th>\n",
       "      <td>41.281386</td>\n",
       "      <td>67.226127</td>\n",
       "      <td>0.368852</td>\n",
       "      <td>0.205903</td>\n",
       "    </tr>\n",
       "  </tbody>\n",
       "</table>\n",
       "</div>"
      ],
      "text/plain": [
       "                  age       fare  survived   z_score\n",
       "class sex                                           \n",
       "First male  41.281386  67.226127  0.368852  0.205903"
      ]
     },
     "execution_count": 81,
     "metadata": {},
     "output_type": "execute_result"
    }
   ],
   "source": [
    "grouped_MI.mean().xs(['First', 'male'], level = ['class', 'sex'])"
   ]
  },
  {
   "cell_type": "markdown",
   "metadata": {
    "colab_type": "text",
    "id": "eKdwc3uODUWG"
   },
   "source": [
    "# VII.  pivot_table( )"
   ]
  },
  {
   "cell_type": "markdown",
   "metadata": {
    "colab_type": "text",
    "id": "e3HJow-oz3Un"
   },
   "source": [
    "> ## 1) 실습용 'titanic' 데이터셋"
   ]
  },
  {
   "cell_type": "code",
   "execution_count": 82,
   "metadata": {
    "colab": {
     "base_uri": "https://localhost:8080/",
     "height": 35
    },
    "colab_type": "code",
    "executionInfo": {
     "elapsed": 952,
     "status": "ok",
     "timestamp": 1596190091521,
     "user": {
      "displayName": "contravia@naver.com",
      "photoUrl": "",
      "userId": "04072428075549197225"
     },
     "user_tz": -540
    },
    "id": "DywZG3BNDcZI",
    "outputId": "cd555215-3b15-4c1b-f81e-55398f867237"
   },
   "outputs": [
    {
     "data": {
      "text/plain": [
       "Index(['age', 'sex', 'class', 'fare', 'survived'], dtype='object')"
      ]
     },
     "execution_count": 82,
     "metadata": {},
     "output_type": "execute_result"
    }
   ],
   "source": [
    "import seaborn as sns \n",
    "titanic = sns.load_dataset('titanic')\n",
    "\n",
    "DF = titanic.loc[:, ['age', 'sex', 'class', 'fare', 'survived']]\n",
    "\n",
    "DF.head(3)\n",
    "DF.index\n",
    "DF.columns"
   ]
  },
  {
   "cell_type": "markdown",
   "metadata": {
    "colab_type": "text",
    "id": "GOWA9mSL0cal"
   },
   "source": [
    "> ## 2) pivot_table( ) 구성요소\n",
    "\n",
    "* index : 행 인덱스\n",
    "* column : 열 인덱스\n",
    "* values : 데이터\n",
    "* aggfunc : 적용 함수"
   ]
  },
  {
   "cell_type": "code",
   "execution_count": 83,
   "metadata": {
    "colab": {
     "base_uri": "https://localhost:8080/",
     "height": 167
    },
    "colab_type": "code",
    "executionInfo": {
     "elapsed": 971,
     "status": "ok",
     "timestamp": 1596112022690,
     "user": {
      "displayName": "contravia@naver.com",
      "photoUrl": "",
      "userId": "04072428075549197225"
     },
     "user_tz": -540
    },
    "id": "vbYCaxZpEows",
    "outputId": "74bd94f1-f479-40f0-eb0e-792de9ae6232"
   },
   "outputs": [
    {
     "data": {
      "text/html": [
       "<div>\n",
       "<style scoped>\n",
       "    .dataframe tbody tr th:only-of-type {\n",
       "        vertical-align: middle;\n",
       "    }\n",
       "\n",
       "    .dataframe tbody tr th {\n",
       "        vertical-align: top;\n",
       "    }\n",
       "\n",
       "    .dataframe thead th {\n",
       "        text-align: right;\n",
       "    }\n",
       "</style>\n",
       "<table border=\"1\" class=\"dataframe\">\n",
       "  <thead>\n",
       "    <tr style=\"text-align: right;\">\n",
       "      <th>sex</th>\n",
       "      <th>female</th>\n",
       "      <th>male</th>\n",
       "    </tr>\n",
       "    <tr>\n",
       "      <th>class</th>\n",
       "      <th></th>\n",
       "      <th></th>\n",
       "    </tr>\n",
       "  </thead>\n",
       "  <tbody>\n",
       "    <tr>\n",
       "      <th>First</th>\n",
       "      <td>34.611765</td>\n",
       "      <td>41.281386</td>\n",
       "    </tr>\n",
       "    <tr>\n",
       "      <th>Second</th>\n",
       "      <td>28.722973</td>\n",
       "      <td>30.740707</td>\n",
       "    </tr>\n",
       "    <tr>\n",
       "      <th>Third</th>\n",
       "      <td>21.750000</td>\n",
       "      <td>26.507589</td>\n",
       "    </tr>\n",
       "  </tbody>\n",
       "</table>\n",
       "</div>"
      ],
      "text/plain": [
       "sex        female       male\n",
       "class                       \n",
       "First   34.611765  41.281386\n",
       "Second  28.722973  30.740707\n",
       "Third   21.750000  26.507589"
      ]
     },
     "execution_count": 83,
     "metadata": {},
     "output_type": "execute_result"
    }
   ],
   "source": [
    "DF_1 = pd.pivot_table(DF,\n",
    "                     index = 'class',\n",
    "                     columns = 'sex',\n",
    "                     values = 'age',\n",
    "                     aggfunc = 'mean')\n",
    "\n",
    "DF_1"
   ]
  },
  {
   "cell_type": "markdown",
   "metadata": {
    "colab_type": "text",
    "id": "jT3lWMeR1E5x"
   },
   "source": [
    "> ## 3) 두개의 적용 함수"
   ]
  },
  {
   "cell_type": "code",
   "execution_count": 84,
   "metadata": {
    "colab": {
     "base_uri": "https://localhost:8080/",
     "height": 197
    },
    "colab_type": "code",
    "executionInfo": {
     "elapsed": 884,
     "status": "ok",
     "timestamp": 1596112252579,
     "user": {
      "displayName": "contravia@naver.com",
      "photoUrl": "",
      "userId": "04072428075549197225"
     },
     "user_tz": -540
    },
    "id": "o4YwPQDaFn_y",
    "outputId": "67e37f4b-d5dc-4738-8d16-ee6d0929c4ec"
   },
   "outputs": [
    {
     "data": {
      "text/html": [
       "<div>\n",
       "<style scoped>\n",
       "    .dataframe tbody tr th:only-of-type {\n",
       "        vertical-align: middle;\n",
       "    }\n",
       "\n",
       "    .dataframe tbody tr th {\n",
       "        vertical-align: top;\n",
       "    }\n",
       "\n",
       "    .dataframe thead tr th {\n",
       "        text-align: left;\n",
       "    }\n",
       "\n",
       "    .dataframe thead tr:last-of-type th {\n",
       "        text-align: right;\n",
       "    }\n",
       "</style>\n",
       "<table border=\"1\" class=\"dataframe\">\n",
       "  <thead>\n",
       "    <tr>\n",
       "      <th></th>\n",
       "      <th colspan=\"2\" halign=\"left\">mean</th>\n",
       "      <th colspan=\"2\" halign=\"left\">sum</th>\n",
       "    </tr>\n",
       "    <tr>\n",
       "      <th>sex</th>\n",
       "      <th>female</th>\n",
       "      <th>male</th>\n",
       "      <th>female</th>\n",
       "      <th>male</th>\n",
       "    </tr>\n",
       "    <tr>\n",
       "      <th>class</th>\n",
       "      <th></th>\n",
       "      <th></th>\n",
       "      <th></th>\n",
       "      <th></th>\n",
       "    </tr>\n",
       "  </thead>\n",
       "  <tbody>\n",
       "    <tr>\n",
       "      <th>First</th>\n",
       "      <td>0.968085</td>\n",
       "      <td>0.368852</td>\n",
       "      <td>91</td>\n",
       "      <td>45</td>\n",
       "    </tr>\n",
       "    <tr>\n",
       "      <th>Second</th>\n",
       "      <td>0.921053</td>\n",
       "      <td>0.157407</td>\n",
       "      <td>70</td>\n",
       "      <td>17</td>\n",
       "    </tr>\n",
       "    <tr>\n",
       "      <th>Third</th>\n",
       "      <td>0.500000</td>\n",
       "      <td>0.135447</td>\n",
       "      <td>72</td>\n",
       "      <td>47</td>\n",
       "    </tr>\n",
       "  </tbody>\n",
       "</table>\n",
       "</div>"
      ],
      "text/plain": [
       "            mean              sum     \n",
       "sex       female      male female male\n",
       "class                                 \n",
       "First   0.968085  0.368852     91   45\n",
       "Second  0.921053  0.157407     70   17\n",
       "Third   0.500000  0.135447     72   47"
      ]
     },
     "execution_count": 84,
     "metadata": {},
     "output_type": "execute_result"
    }
   ],
   "source": [
    "DF_2 = pd.pivot_table(DF, \n",
    "                     index = 'class',\n",
    "                     columns = 'sex',\n",
    "                     values = 'survived',\n",
    "                     aggfunc = ['mean', 'sum'])\n",
    "\n",
    "DF_2"
   ]
  },
  {
   "cell_type": "markdown",
   "metadata": {
    "colab_type": "text",
    "id": "bee_6uJY1VMd"
   },
   "source": [
    "> ## 4) 다중 인덱스, 다중 데이터, 다중 함수"
   ]
  },
  {
   "cell_type": "code",
   "execution_count": 85,
   "metadata": {
    "colab": {
     "base_uri": "https://localhost:8080/",
     "height": 328
    },
    "colab_type": "code",
    "executionInfo": {
     "elapsed": 1016,
     "status": "ok",
     "timestamp": 1596190384838,
     "user": {
      "displayName": "contravia@naver.com",
      "photoUrl": "",
      "userId": "04072428075549197225"
     },
     "user_tz": -540
    },
    "id": "e4BN7rK0GYDI",
    "outputId": "9435dd9f-4b41-4a4a-ffee-c05772c715ec"
   },
   "outputs": [
    {
     "data": {
      "text/html": [
       "<div>\n",
       "<style scoped>\n",
       "    .dataframe tbody tr th:only-of-type {\n",
       "        vertical-align: middle;\n",
       "    }\n",
       "\n",
       "    .dataframe tbody tr th {\n",
       "        vertical-align: top;\n",
       "    }\n",
       "\n",
       "    .dataframe thead tr th {\n",
       "        text-align: left;\n",
       "    }\n",
       "\n",
       "    .dataframe thead tr:last-of-type th {\n",
       "        text-align: right;\n",
       "    }\n",
       "</style>\n",
       "<table border=\"1\" class=\"dataframe\">\n",
       "  <thead>\n",
       "    <tr>\n",
       "      <th></th>\n",
       "      <th></th>\n",
       "      <th colspan=\"4\" halign=\"left\">mean</th>\n",
       "      <th colspan=\"4\" halign=\"left\">max</th>\n",
       "    </tr>\n",
       "    <tr>\n",
       "      <th></th>\n",
       "      <th></th>\n",
       "      <th colspan=\"2\" halign=\"left\">age</th>\n",
       "      <th colspan=\"2\" halign=\"left\">fare</th>\n",
       "      <th colspan=\"2\" halign=\"left\">age</th>\n",
       "      <th colspan=\"2\" halign=\"left\">fare</th>\n",
       "    </tr>\n",
       "    <tr>\n",
       "      <th></th>\n",
       "      <th>survived</th>\n",
       "      <th>0</th>\n",
       "      <th>1</th>\n",
       "      <th>0</th>\n",
       "      <th>1</th>\n",
       "      <th>0</th>\n",
       "      <th>1</th>\n",
       "      <th>0</th>\n",
       "      <th>1</th>\n",
       "    </tr>\n",
       "    <tr>\n",
       "      <th>class</th>\n",
       "      <th>sex</th>\n",
       "      <th></th>\n",
       "      <th></th>\n",
       "      <th></th>\n",
       "      <th></th>\n",
       "      <th></th>\n",
       "      <th></th>\n",
       "      <th></th>\n",
       "      <th></th>\n",
       "    </tr>\n",
       "  </thead>\n",
       "  <tbody>\n",
       "    <tr>\n",
       "      <th rowspan=\"2\" valign=\"top\">First</th>\n",
       "      <th>female</th>\n",
       "      <td>25.666667</td>\n",
       "      <td>34.939024</td>\n",
       "      <td>110.604167</td>\n",
       "      <td>105.978159</td>\n",
       "      <td>50.0</td>\n",
       "      <td>63.0</td>\n",
       "      <td>151.55</td>\n",
       "      <td>512.3292</td>\n",
       "    </tr>\n",
       "    <tr>\n",
       "      <th>male</th>\n",
       "      <td>44.581967</td>\n",
       "      <td>36.248000</td>\n",
       "      <td>62.894910</td>\n",
       "      <td>74.637320</td>\n",
       "      <td>71.0</td>\n",
       "      <td>80.0</td>\n",
       "      <td>263.00</td>\n",
       "      <td>512.3292</td>\n",
       "    </tr>\n",
       "    <tr>\n",
       "      <th rowspan=\"2\" valign=\"top\">Second</th>\n",
       "      <th>female</th>\n",
       "      <td>36.000000</td>\n",
       "      <td>28.080882</td>\n",
       "      <td>18.250000</td>\n",
       "      <td>22.288989</td>\n",
       "      <td>57.0</td>\n",
       "      <td>55.0</td>\n",
       "      <td>26.00</td>\n",
       "      <td>65.0000</td>\n",
       "    </tr>\n",
       "    <tr>\n",
       "      <th>male</th>\n",
       "      <td>33.369048</td>\n",
       "      <td>16.022000</td>\n",
       "      <td>19.488965</td>\n",
       "      <td>21.095100</td>\n",
       "      <td>70.0</td>\n",
       "      <td>62.0</td>\n",
       "      <td>73.50</td>\n",
       "      <td>39.0000</td>\n",
       "    </tr>\n",
       "    <tr>\n",
       "      <th rowspan=\"2\" valign=\"top\">Third</th>\n",
       "      <th>female</th>\n",
       "      <td>23.818182</td>\n",
       "      <td>19.329787</td>\n",
       "      <td>19.773093</td>\n",
       "      <td>12.464526</td>\n",
       "      <td>48.0</td>\n",
       "      <td>63.0</td>\n",
       "      <td>69.55</td>\n",
       "      <td>31.3875</td>\n",
       "    </tr>\n",
       "    <tr>\n",
       "      <th>male</th>\n",
       "      <td>27.255814</td>\n",
       "      <td>22.274211</td>\n",
       "      <td>12.204469</td>\n",
       "      <td>15.579696</td>\n",
       "      <td>74.0</td>\n",
       "      <td>45.0</td>\n",
       "      <td>69.55</td>\n",
       "      <td>56.4958</td>\n",
       "    </tr>\n",
       "  </tbody>\n",
       "</table>\n",
       "</div>"
      ],
      "text/plain": [
       "                    mean                                      max        \\\n",
       "                     age                   fare               age         \n",
       "survived               0          1           0           1     0     1   \n",
       "class  sex                                                                \n",
       "First  female  25.666667  34.939024  110.604167  105.978159  50.0  63.0   \n",
       "       male    44.581967  36.248000   62.894910   74.637320  71.0  80.0   \n",
       "Second female  36.000000  28.080882   18.250000   22.288989  57.0  55.0   \n",
       "       male    33.369048  16.022000   19.488965   21.095100  70.0  62.0   \n",
       "Third  female  23.818182  19.329787   19.773093   12.464526  48.0  63.0   \n",
       "       male    27.255814  22.274211   12.204469   15.579696  74.0  45.0   \n",
       "\n",
       "                                 \n",
       "                 fare            \n",
       "survived            0         1  \n",
       "class  sex                       \n",
       "First  female  151.55  512.3292  \n",
       "       male    263.00  512.3292  \n",
       "Second female   26.00   65.0000  \n",
       "       male     73.50   39.0000  \n",
       "Third  female   69.55   31.3875  \n",
       "       male     69.55   56.4958  "
      ]
     },
     "execution_count": 85,
     "metadata": {},
     "output_type": "execute_result"
    }
   ],
   "source": [
    "import pandas as pd\n",
    "\n",
    "DF_3 = pd.pivot_table(DF,\n",
    "                     index = ['class', 'sex'],\n",
    "                     columns = 'survived',\n",
    "                     values = ['age','fare'],\n",
    "                     aggfunc = ['mean','max'])\n",
    "\n",
    "DF_3"
   ]
  },
  {
   "cell_type": "markdown",
   "metadata": {
    "colab_type": "text",
    "id": "HPgLuD7F1fKm"
   },
   "source": [
    "> ## 5) 멀티 인덱스\n",
    "\n",
    "* 행 : 멀티 인덱스"
   ]
  },
  {
   "cell_type": "code",
   "execution_count": 86,
   "metadata": {
    "colab": {
     "base_uri": "https://localhost:8080/",
     "height": 141
    },
    "colab_type": "code",
    "executionInfo": {
     "elapsed": 1318,
     "status": "ok",
     "timestamp": 1596112577467,
     "user": {
      "displayName": "contravia@naver.com",
      "photoUrl": "",
      "userId": "04072428075549197225"
     },
     "user_tz": -540
    },
    "id": "vFDehPJEH3Dp",
    "outputId": "be55b85c-c66b-4980-b176-f02a4cdedc1d"
   },
   "outputs": [
    {
     "data": {
      "text/plain": [
       "MultiIndex([( 'First', 'female'),\n",
       "            ( 'First',   'male'),\n",
       "            ('Second', 'female'),\n",
       "            ('Second',   'male'),\n",
       "            ( 'Third', 'female'),\n",
       "            ( 'Third',   'male')],\n",
       "           names=['class', 'sex'])"
      ]
     },
     "execution_count": 86,
     "metadata": {},
     "output_type": "execute_result"
    }
   ],
   "source": [
    "DF_3.index "
   ]
  },
  {
   "cell_type": "markdown",
   "metadata": {
    "colab_type": "text",
    "id": "FzBWJ4Ra2CWD"
   },
   "source": [
    "* 열 : 멀티 인덱스"
   ]
  },
  {
   "cell_type": "code",
   "execution_count": 87,
   "metadata": {
    "colab": {
     "base_uri": "https://localhost:8080/",
     "height": 176
    },
    "colab_type": "code",
    "executionInfo": {
     "elapsed": 1290,
     "status": "ok",
     "timestamp": 1596112630580,
     "user": {
      "displayName": "contravia@naver.com",
      "photoUrl": "",
      "userId": "04072428075549197225"
     },
     "user_tz": -540
    },
    "id": "tNR4xM6YQx37",
    "outputId": "2da2cbbd-74e6-4fa1-dc94-a68083ecad27"
   },
   "outputs": [
    {
     "data": {
      "text/plain": [
       "MultiIndex([('mean',  'age', 0),\n",
       "            ('mean',  'age', 1),\n",
       "            ('mean', 'fare', 0),\n",
       "            ('mean', 'fare', 1),\n",
       "            ( 'max',  'age', 0),\n",
       "            ( 'max',  'age', 1),\n",
       "            ( 'max', 'fare', 0),\n",
       "            ( 'max', 'fare', 1)],\n",
       "           names=[None, None, 'survived'])"
      ]
     },
     "execution_count": 87,
     "metadata": {},
     "output_type": "execute_result"
    }
   ],
   "source": [
    "DF_3.columns "
   ]
  },
  {
   "cell_type": "markdown",
   "metadata": {
    "colab_type": "text",
    "id": "VXR2u1tS2JeZ"
   },
   "source": [
    "* 행 멀티인덱스 : 'First'"
   ]
  },
  {
   "cell_type": "code",
   "execution_count": 88,
   "metadata": {
    "colab": {
     "base_uri": "https://localhost:8080/",
     "height": 204
    },
    "colab_type": "code",
    "executionInfo": {
     "elapsed": 1027,
     "status": "ok",
     "timestamp": 1596190389350,
     "user": {
      "displayName": "contravia@naver.com",
      "photoUrl": "",
      "userId": "04072428075549197225"
     },
     "user_tz": -540
    },
    "id": "xmAGG4oAIjoV",
    "outputId": "a4906c70-f2a3-4868-d530-876ce905e2a7"
   },
   "outputs": [
    {
     "data": {
      "text/html": [
       "<div>\n",
       "<style scoped>\n",
       "    .dataframe tbody tr th:only-of-type {\n",
       "        vertical-align: middle;\n",
       "    }\n",
       "\n",
       "    .dataframe tbody tr th {\n",
       "        vertical-align: top;\n",
       "    }\n",
       "\n",
       "    .dataframe thead tr th {\n",
       "        text-align: left;\n",
       "    }\n",
       "\n",
       "    .dataframe thead tr:last-of-type th {\n",
       "        text-align: right;\n",
       "    }\n",
       "</style>\n",
       "<table border=\"1\" class=\"dataframe\">\n",
       "  <thead>\n",
       "    <tr>\n",
       "      <th></th>\n",
       "      <th colspan=\"4\" halign=\"left\">mean</th>\n",
       "      <th colspan=\"4\" halign=\"left\">max</th>\n",
       "    </tr>\n",
       "    <tr>\n",
       "      <th></th>\n",
       "      <th colspan=\"2\" halign=\"left\">age</th>\n",
       "      <th colspan=\"2\" halign=\"left\">fare</th>\n",
       "      <th colspan=\"2\" halign=\"left\">age</th>\n",
       "      <th colspan=\"2\" halign=\"left\">fare</th>\n",
       "    </tr>\n",
       "    <tr>\n",
       "      <th>survived</th>\n",
       "      <th>0</th>\n",
       "      <th>1</th>\n",
       "      <th>0</th>\n",
       "      <th>1</th>\n",
       "      <th>0</th>\n",
       "      <th>1</th>\n",
       "      <th>0</th>\n",
       "      <th>1</th>\n",
       "    </tr>\n",
       "    <tr>\n",
       "      <th>sex</th>\n",
       "      <th></th>\n",
       "      <th></th>\n",
       "      <th></th>\n",
       "      <th></th>\n",
       "      <th></th>\n",
       "      <th></th>\n",
       "      <th></th>\n",
       "      <th></th>\n",
       "    </tr>\n",
       "  </thead>\n",
       "  <tbody>\n",
       "    <tr>\n",
       "      <th>female</th>\n",
       "      <td>25.666667</td>\n",
       "      <td>34.939024</td>\n",
       "      <td>110.604167</td>\n",
       "      <td>105.978159</td>\n",
       "      <td>50.0</td>\n",
       "      <td>63.0</td>\n",
       "      <td>151.55</td>\n",
       "      <td>512.3292</td>\n",
       "    </tr>\n",
       "    <tr>\n",
       "      <th>male</th>\n",
       "      <td>44.581967</td>\n",
       "      <td>36.248000</td>\n",
       "      <td>62.894910</td>\n",
       "      <td>74.637320</td>\n",
       "      <td>71.0</td>\n",
       "      <td>80.0</td>\n",
       "      <td>263.00</td>\n",
       "      <td>512.3292</td>\n",
       "    </tr>\n",
       "  </tbody>\n",
       "</table>\n",
       "</div>"
      ],
      "text/plain": [
       "               mean                                      max                \\\n",
       "                age                   fare               age          fare   \n",
       "survived          0          1           0           1     0     1       0   \n",
       "sex                                                                          \n",
       "female    25.666667  34.939024  110.604167  105.978159  50.0  63.0  151.55   \n",
       "male      44.581967  36.248000   62.894910   74.637320  71.0  80.0  263.00   \n",
       "\n",
       "                    \n",
       "                    \n",
       "survived         1  \n",
       "sex                 \n",
       "female    512.3292  \n",
       "male      512.3292  "
      ]
     },
     "execution_count": 88,
     "metadata": {},
     "output_type": "execute_result"
    }
   ],
   "source": [
    "DF_3.xs('First', axis = 0)"
   ]
  },
  {
   "cell_type": "markdown",
   "metadata": {
    "colab_type": "text",
    "id": "seVSDQS93w3I"
   },
   "source": [
    "* 행 멀티인덱스 : ('First','female')"
   ]
  },
  {
   "cell_type": "code",
   "execution_count": 89,
   "metadata": {
    "colab": {
     "base_uri": "https://localhost:8080/",
     "height": 197
    },
    "colab_type": "code",
    "executionInfo": {
     "elapsed": 769,
     "status": "ok",
     "timestamp": 1596190392155,
     "user": {
      "displayName": "contravia@naver.com",
      "photoUrl": "",
      "userId": "04072428075549197225"
     },
     "user_tz": -540
    },
    "id": "rOKo69L-ItZh",
    "outputId": "b03c75da-cd80-45fd-ddc4-568b89801757"
   },
   "outputs": [
    {
     "data": {
      "text/plain": [
       "            survived\n",
       "mean  age   0            25.666667\n",
       "            1            34.939024\n",
       "      fare  0           110.604167\n",
       "            1           105.978159\n",
       "max   age   0            50.000000\n",
       "            1            63.000000\n",
       "      fare  0           151.550000\n",
       "            1           512.329200\n",
       "Name: (First, female), dtype: float64"
      ]
     },
     "execution_count": 89,
     "metadata": {},
     "output_type": "execute_result"
    }
   ],
   "source": [
    "DF_3.xs(('First','female'), axis = 0)"
   ]
  },
  {
   "cell_type": "markdown",
   "metadata": {
    "colab_type": "text",
    "id": "sBva4h354VYw"
   },
   "source": [
    "* 행 멀티인덱스 : 성별이 남자\n",
    " - names = ['class', 'sex']"
   ]
  },
  {
   "cell_type": "code",
   "execution_count": 90,
   "metadata": {
    "colab": {
     "base_uri": "https://localhost:8080/",
     "height": 227
    },
    "colab_type": "code",
    "executionInfo": {
     "elapsed": 824,
     "status": "ok",
     "timestamp": 1596112747588,
     "user": {
      "displayName": "contravia@naver.com",
      "photoUrl": "",
      "userId": "04072428075549197225"
     },
     "user_tz": -540
    },
    "id": "RHAfxhyDJBmZ",
    "outputId": "1b9d92f7-14ea-4ed0-fcb4-e30610576c0b"
   },
   "outputs": [
    {
     "data": {
      "text/html": [
       "<div>\n",
       "<style scoped>\n",
       "    .dataframe tbody tr th:only-of-type {\n",
       "        vertical-align: middle;\n",
       "    }\n",
       "\n",
       "    .dataframe tbody tr th {\n",
       "        vertical-align: top;\n",
       "    }\n",
       "\n",
       "    .dataframe thead tr th {\n",
       "        text-align: left;\n",
       "    }\n",
       "\n",
       "    .dataframe thead tr:last-of-type th {\n",
       "        text-align: right;\n",
       "    }\n",
       "</style>\n",
       "<table border=\"1\" class=\"dataframe\">\n",
       "  <thead>\n",
       "    <tr>\n",
       "      <th></th>\n",
       "      <th colspan=\"4\" halign=\"left\">mean</th>\n",
       "      <th colspan=\"4\" halign=\"left\">max</th>\n",
       "    </tr>\n",
       "    <tr>\n",
       "      <th></th>\n",
       "      <th colspan=\"2\" halign=\"left\">age</th>\n",
       "      <th colspan=\"2\" halign=\"left\">fare</th>\n",
       "      <th colspan=\"2\" halign=\"left\">age</th>\n",
       "      <th colspan=\"2\" halign=\"left\">fare</th>\n",
       "    </tr>\n",
       "    <tr>\n",
       "      <th>survived</th>\n",
       "      <th>0</th>\n",
       "      <th>1</th>\n",
       "      <th>0</th>\n",
       "      <th>1</th>\n",
       "      <th>0</th>\n",
       "      <th>1</th>\n",
       "      <th>0</th>\n",
       "      <th>1</th>\n",
       "    </tr>\n",
       "    <tr>\n",
       "      <th>class</th>\n",
       "      <th></th>\n",
       "      <th></th>\n",
       "      <th></th>\n",
       "      <th></th>\n",
       "      <th></th>\n",
       "      <th></th>\n",
       "      <th></th>\n",
       "      <th></th>\n",
       "    </tr>\n",
       "  </thead>\n",
       "  <tbody>\n",
       "    <tr>\n",
       "      <th>First</th>\n",
       "      <td>44.581967</td>\n",
       "      <td>36.248000</td>\n",
       "      <td>62.894910</td>\n",
       "      <td>74.637320</td>\n",
       "      <td>71.0</td>\n",
       "      <td>80.0</td>\n",
       "      <td>263.00</td>\n",
       "      <td>512.3292</td>\n",
       "    </tr>\n",
       "    <tr>\n",
       "      <th>Second</th>\n",
       "      <td>33.369048</td>\n",
       "      <td>16.022000</td>\n",
       "      <td>19.488965</td>\n",
       "      <td>21.095100</td>\n",
       "      <td>70.0</td>\n",
       "      <td>62.0</td>\n",
       "      <td>73.50</td>\n",
       "      <td>39.0000</td>\n",
       "    </tr>\n",
       "    <tr>\n",
       "      <th>Third</th>\n",
       "      <td>27.255814</td>\n",
       "      <td>22.274211</td>\n",
       "      <td>12.204469</td>\n",
       "      <td>15.579696</td>\n",
       "      <td>74.0</td>\n",
       "      <td>45.0</td>\n",
       "      <td>69.55</td>\n",
       "      <td>56.4958</td>\n",
       "    </tr>\n",
       "  </tbody>\n",
       "</table>\n",
       "</div>"
      ],
      "text/plain": [
       "               mean                                    max                \\\n",
       "                age                  fare              age          fare   \n",
       "survived          0          1          0          1     0     1       0   \n",
       "class                                                                      \n",
       "First     44.581967  36.248000  62.894910  74.637320  71.0  80.0  263.00   \n",
       "Second    33.369048  16.022000  19.488965  21.095100  70.0  62.0   73.50   \n",
       "Third     27.255814  22.274211  12.204469  15.579696  74.0  45.0   69.55   \n",
       "\n",
       "                    \n",
       "                    \n",
       "survived         1  \n",
       "class               \n",
       "First     512.3292  \n",
       "Second     39.0000  \n",
       "Third      56.4958  "
      ]
     },
     "execution_count": 90,
     "metadata": {},
     "output_type": "execute_result"
    }
   ],
   "source": [
    "DF_3.xs('male', level = 'sex', axis = 0)"
   ]
  },
  {
   "cell_type": "markdown",
   "metadata": {
    "colab_type": "text",
    "id": "n3xZ7rMf4knJ"
   },
   "source": [
    "* 행 멀티인덱스 : 객실등급이 일등실이면서 성별이 남자"
   ]
  },
  {
   "cell_type": "code",
   "execution_count": 91,
   "metadata": {
    "colab": {
     "base_uri": "https://localhost:8080/",
     "height": 167
    },
    "colab_type": "code",
    "executionInfo": {
     "elapsed": 814,
     "status": "ok",
     "timestamp": 1596112749604,
     "user": {
      "displayName": "contravia@naver.com",
      "photoUrl": "",
      "userId": "04072428075549197225"
     },
     "user_tz": -540
    },
    "id": "AAZQmg_4JXrx",
    "outputId": "7bd80577-d519-4aa3-cdb2-ac26fc55de16"
   },
   "outputs": [
    {
     "data": {
      "text/html": [
       "<div>\n",
       "<style scoped>\n",
       "    .dataframe tbody tr th:only-of-type {\n",
       "        vertical-align: middle;\n",
       "    }\n",
       "\n",
       "    .dataframe tbody tr th {\n",
       "        vertical-align: top;\n",
       "    }\n",
       "\n",
       "    .dataframe thead tr th {\n",
       "        text-align: left;\n",
       "    }\n",
       "\n",
       "    .dataframe thead tr:last-of-type th {\n",
       "        text-align: right;\n",
       "    }\n",
       "</style>\n",
       "<table border=\"1\" class=\"dataframe\">\n",
       "  <thead>\n",
       "    <tr>\n",
       "      <th></th>\n",
       "      <th></th>\n",
       "      <th colspan=\"4\" halign=\"left\">mean</th>\n",
       "      <th colspan=\"4\" halign=\"left\">max</th>\n",
       "    </tr>\n",
       "    <tr>\n",
       "      <th></th>\n",
       "      <th></th>\n",
       "      <th colspan=\"2\" halign=\"left\">age</th>\n",
       "      <th colspan=\"2\" halign=\"left\">fare</th>\n",
       "      <th colspan=\"2\" halign=\"left\">age</th>\n",
       "      <th colspan=\"2\" halign=\"left\">fare</th>\n",
       "    </tr>\n",
       "    <tr>\n",
       "      <th></th>\n",
       "      <th>survived</th>\n",
       "      <th>0</th>\n",
       "      <th>1</th>\n",
       "      <th>0</th>\n",
       "      <th>1</th>\n",
       "      <th>0</th>\n",
       "      <th>1</th>\n",
       "      <th>0</th>\n",
       "      <th>1</th>\n",
       "    </tr>\n",
       "    <tr>\n",
       "      <th>class</th>\n",
       "      <th>sex</th>\n",
       "      <th></th>\n",
       "      <th></th>\n",
       "      <th></th>\n",
       "      <th></th>\n",
       "      <th></th>\n",
       "      <th></th>\n",
       "      <th></th>\n",
       "      <th></th>\n",
       "    </tr>\n",
       "  </thead>\n",
       "  <tbody>\n",
       "    <tr>\n",
       "      <th>First</th>\n",
       "      <th>male</th>\n",
       "      <td>44.581967</td>\n",
       "      <td>36.248</td>\n",
       "      <td>62.89491</td>\n",
       "      <td>74.63732</td>\n",
       "      <td>71.0</td>\n",
       "      <td>80.0</td>\n",
       "      <td>263.0</td>\n",
       "      <td>512.3292</td>\n",
       "    </tr>\n",
       "  </tbody>\n",
       "</table>\n",
       "</div>"
      ],
      "text/plain": [
       "                 mean                               max                       \n",
       "                  age              fare             age         fare          \n",
       "survived            0       1         0         1     0     1      0         1\n",
       "class sex                                                                     \n",
       "First male  44.581967  36.248  62.89491  74.63732  71.0  80.0  263.0  512.3292"
      ]
     },
     "execution_count": 91,
     "metadata": {},
     "output_type": "execute_result"
    }
   ],
   "source": [
    "DF_3.xs(('First', 'male'), level = ['class', 'sex'], axis = 0)"
   ]
  },
  {
   "cell_type": "markdown",
   "metadata": {
    "colab_type": "text",
    "id": "Bbo628lt5EBY"
   },
   "source": [
    "* 열 멀티인덱스 : 'mean'"
   ]
  },
  {
   "cell_type": "code",
   "execution_count": 92,
   "metadata": {
    "colab": {
     "base_uri": "https://localhost:8080/",
     "height": 287
    },
    "colab_type": "code",
    "executionInfo": {
     "elapsed": 902,
     "status": "ok",
     "timestamp": 1596112751703,
     "user": {
      "displayName": "contravia@naver.com",
      "photoUrl": "",
      "userId": "04072428075549197225"
     },
     "user_tz": -540
    },
    "id": "gy3fix2uKSGq",
    "outputId": "c05cdcf4-0406-4273-f956-aefc8ba3f337"
   },
   "outputs": [
    {
     "data": {
      "text/html": [
       "<div>\n",
       "<style scoped>\n",
       "    .dataframe tbody tr th:only-of-type {\n",
       "        vertical-align: middle;\n",
       "    }\n",
       "\n",
       "    .dataframe tbody tr th {\n",
       "        vertical-align: top;\n",
       "    }\n",
       "\n",
       "    .dataframe thead tr th {\n",
       "        text-align: left;\n",
       "    }\n",
       "\n",
       "    .dataframe thead tr:last-of-type th {\n",
       "        text-align: right;\n",
       "    }\n",
       "</style>\n",
       "<table border=\"1\" class=\"dataframe\">\n",
       "  <thead>\n",
       "    <tr>\n",
       "      <th></th>\n",
       "      <th></th>\n",
       "      <th colspan=\"2\" halign=\"left\">age</th>\n",
       "      <th colspan=\"2\" halign=\"left\">fare</th>\n",
       "    </tr>\n",
       "    <tr>\n",
       "      <th></th>\n",
       "      <th>survived</th>\n",
       "      <th>0</th>\n",
       "      <th>1</th>\n",
       "      <th>0</th>\n",
       "      <th>1</th>\n",
       "    </tr>\n",
       "    <tr>\n",
       "      <th>class</th>\n",
       "      <th>sex</th>\n",
       "      <th></th>\n",
       "      <th></th>\n",
       "      <th></th>\n",
       "      <th></th>\n",
       "    </tr>\n",
       "  </thead>\n",
       "  <tbody>\n",
       "    <tr>\n",
       "      <th rowspan=\"2\" valign=\"top\">First</th>\n",
       "      <th>female</th>\n",
       "      <td>25.666667</td>\n",
       "      <td>34.939024</td>\n",
       "      <td>110.604167</td>\n",
       "      <td>105.978159</td>\n",
       "    </tr>\n",
       "    <tr>\n",
       "      <th>male</th>\n",
       "      <td>44.581967</td>\n",
       "      <td>36.248000</td>\n",
       "      <td>62.894910</td>\n",
       "      <td>74.637320</td>\n",
       "    </tr>\n",
       "    <tr>\n",
       "      <th rowspan=\"2\" valign=\"top\">Second</th>\n",
       "      <th>female</th>\n",
       "      <td>36.000000</td>\n",
       "      <td>28.080882</td>\n",
       "      <td>18.250000</td>\n",
       "      <td>22.288989</td>\n",
       "    </tr>\n",
       "    <tr>\n",
       "      <th>male</th>\n",
       "      <td>33.369048</td>\n",
       "      <td>16.022000</td>\n",
       "      <td>19.488965</td>\n",
       "      <td>21.095100</td>\n",
       "    </tr>\n",
       "    <tr>\n",
       "      <th rowspan=\"2\" valign=\"top\">Third</th>\n",
       "      <th>female</th>\n",
       "      <td>23.818182</td>\n",
       "      <td>19.329787</td>\n",
       "      <td>19.773093</td>\n",
       "      <td>12.464526</td>\n",
       "    </tr>\n",
       "    <tr>\n",
       "      <th>male</th>\n",
       "      <td>27.255814</td>\n",
       "      <td>22.274211</td>\n",
       "      <td>12.204469</td>\n",
       "      <td>15.579696</td>\n",
       "    </tr>\n",
       "  </tbody>\n",
       "</table>\n",
       "</div>"
      ],
      "text/plain": [
       "                     age                   fare            \n",
       "survived               0          1           0           1\n",
       "class  sex                                                 \n",
       "First  female  25.666667  34.939024  110.604167  105.978159\n",
       "       male    44.581967  36.248000   62.894910   74.637320\n",
       "Second female  36.000000  28.080882   18.250000   22.288989\n",
       "       male    33.369048  16.022000   19.488965   21.095100\n",
       "Third  female  23.818182  19.329787   19.773093   12.464526\n",
       "       male    27.255814  22.274211   12.204469   15.579696"
      ]
     },
     "execution_count": 92,
     "metadata": {},
     "output_type": "execute_result"
    }
   ],
   "source": [
    "DF_3.xs('mean', axis = 1)"
   ]
  },
  {
   "cell_type": "markdown",
   "metadata": {
    "colab_type": "text",
    "id": "dEvIAKkv5SXY"
   },
   "source": [
    "* 열 멀티인덱스 : ('mean', 'fare')"
   ]
  },
  {
   "cell_type": "code",
   "execution_count": 93,
   "metadata": {
    "colab": {
     "base_uri": "https://localhost:8080/",
     "height": 257
    },
    "colab_type": "code",
    "executionInfo": {
     "elapsed": 966,
     "status": "ok",
     "timestamp": 1596112755266,
     "user": {
      "displayName": "contravia@naver.com",
      "photoUrl": "",
      "userId": "04072428075549197225"
     },
     "user_tz": -540
    },
    "id": "GJqeboe2LBLJ",
    "outputId": "dd0d9ea0-eade-42fa-fb19-fca76dd86ae9"
   },
   "outputs": [
    {
     "data": {
      "text/html": [
       "<div>\n",
       "<style scoped>\n",
       "    .dataframe tbody tr th:only-of-type {\n",
       "        vertical-align: middle;\n",
       "    }\n",
       "\n",
       "    .dataframe tbody tr th {\n",
       "        vertical-align: top;\n",
       "    }\n",
       "\n",
       "    .dataframe thead th {\n",
       "        text-align: right;\n",
       "    }\n",
       "</style>\n",
       "<table border=\"1\" class=\"dataframe\">\n",
       "  <thead>\n",
       "    <tr style=\"text-align: right;\">\n",
       "      <th></th>\n",
       "      <th>survived</th>\n",
       "      <th>0</th>\n",
       "      <th>1</th>\n",
       "    </tr>\n",
       "    <tr>\n",
       "      <th>class</th>\n",
       "      <th>sex</th>\n",
       "      <th></th>\n",
       "      <th></th>\n",
       "    </tr>\n",
       "  </thead>\n",
       "  <tbody>\n",
       "    <tr>\n",
       "      <th rowspan=\"2\" valign=\"top\">First</th>\n",
       "      <th>female</th>\n",
       "      <td>110.604167</td>\n",
       "      <td>105.978159</td>\n",
       "    </tr>\n",
       "    <tr>\n",
       "      <th>male</th>\n",
       "      <td>62.894910</td>\n",
       "      <td>74.637320</td>\n",
       "    </tr>\n",
       "    <tr>\n",
       "      <th rowspan=\"2\" valign=\"top\">Second</th>\n",
       "      <th>female</th>\n",
       "      <td>18.250000</td>\n",
       "      <td>22.288989</td>\n",
       "    </tr>\n",
       "    <tr>\n",
       "      <th>male</th>\n",
       "      <td>19.488965</td>\n",
       "      <td>21.095100</td>\n",
       "    </tr>\n",
       "    <tr>\n",
       "      <th rowspan=\"2\" valign=\"top\">Third</th>\n",
       "      <th>female</th>\n",
       "      <td>19.773093</td>\n",
       "      <td>12.464526</td>\n",
       "    </tr>\n",
       "    <tr>\n",
       "      <th>male</th>\n",
       "      <td>12.204469</td>\n",
       "      <td>15.579696</td>\n",
       "    </tr>\n",
       "  </tbody>\n",
       "</table>\n",
       "</div>"
      ],
      "text/plain": [
       "survived                0           1\n",
       "class  sex                           \n",
       "First  female  110.604167  105.978159\n",
       "       male     62.894910   74.637320\n",
       "Second female   18.250000   22.288989\n",
       "       male     19.488965   21.095100\n",
       "Third  female   19.773093   12.464526\n",
       "       male     12.204469   15.579696"
      ]
     },
     "execution_count": 93,
     "metadata": {},
     "output_type": "execute_result"
    }
   ],
   "source": [
    "DF_3.xs(('mean', 'fare'), axis = 1)"
   ]
  },
  {
   "cell_type": "markdown",
   "metadata": {
    "colab_type": "text",
    "id": "aOZlB8gh5sdJ"
   },
   "source": [
    "* 열 멀티인덱스 : 사망자의 최대 나이\n",
    " - names = [None, None, 'survived']"
   ]
  },
  {
   "cell_type": "code",
   "execution_count": 94,
   "metadata": {
    "colab": {
     "base_uri": "https://localhost:8080/",
     "height": 317
    },
    "colab_type": "code",
    "executionInfo": {
     "elapsed": 782,
     "status": "ok",
     "timestamp": 1596112988263,
     "user": {
      "displayName": "contravia@naver.com",
      "photoUrl": "",
      "userId": "04072428075549197225"
     },
     "user_tz": -540
    },
    "id": "EXzZVMr4LzCB",
    "outputId": "b8767e67-dd33-41a1-f316-fe16c2caf06b"
   },
   "outputs": [
    {
     "data": {
      "text/html": [
       "<div>\n",
       "<style scoped>\n",
       "    .dataframe tbody tr th:only-of-type {\n",
       "        vertical-align: middle;\n",
       "    }\n",
       "\n",
       "    .dataframe tbody tr th {\n",
       "        vertical-align: top;\n",
       "    }\n",
       "\n",
       "    .dataframe thead tr th {\n",
       "        text-align: left;\n",
       "    }\n",
       "\n",
       "    .dataframe thead tr:last-of-type th {\n",
       "        text-align: right;\n",
       "    }\n",
       "</style>\n",
       "<table border=\"1\" class=\"dataframe\">\n",
       "  <thead>\n",
       "    <tr>\n",
       "      <th></th>\n",
       "      <th></th>\n",
       "      <th>max</th>\n",
       "    </tr>\n",
       "    <tr>\n",
       "      <th></th>\n",
       "      <th></th>\n",
       "      <th>age</th>\n",
       "    </tr>\n",
       "    <tr>\n",
       "      <th></th>\n",
       "      <th>survived</th>\n",
       "      <th>0</th>\n",
       "    </tr>\n",
       "    <tr>\n",
       "      <th>class</th>\n",
       "      <th>sex</th>\n",
       "      <th></th>\n",
       "    </tr>\n",
       "  </thead>\n",
       "  <tbody>\n",
       "    <tr>\n",
       "      <th rowspan=\"2\" valign=\"top\">First</th>\n",
       "      <th>female</th>\n",
       "      <td>50.0</td>\n",
       "    </tr>\n",
       "    <tr>\n",
       "      <th>male</th>\n",
       "      <td>71.0</td>\n",
       "    </tr>\n",
       "    <tr>\n",
       "      <th rowspan=\"2\" valign=\"top\">Second</th>\n",
       "      <th>female</th>\n",
       "      <td>57.0</td>\n",
       "    </tr>\n",
       "    <tr>\n",
       "      <th>male</th>\n",
       "      <td>70.0</td>\n",
       "    </tr>\n",
       "    <tr>\n",
       "      <th rowspan=\"2\" valign=\"top\">Third</th>\n",
       "      <th>female</th>\n",
       "      <td>48.0</td>\n",
       "    </tr>\n",
       "    <tr>\n",
       "      <th>male</th>\n",
       "      <td>74.0</td>\n",
       "    </tr>\n",
       "  </tbody>\n",
       "</table>\n",
       "</div>"
      ],
      "text/plain": [
       "                max\n",
       "                age\n",
       "survived          0\n",
       "class  sex         \n",
       "First  female  50.0\n",
       "       male    71.0\n",
       "Second female  57.0\n",
       "       male    70.0\n",
       "Third  female  48.0\n",
       "       male    74.0"
      ]
     },
     "execution_count": 94,
     "metadata": {},
     "output_type": "execute_result"
    }
   ],
   "source": [
    "DF_3.xs(('max','age', 0), level = [0, 1, 'survived'], axis = 1) # 0 : 0번째 인덱스, 1: 1번째 인덱스, surviced : 3번째인덱스"
   ]
  },
  {
   "cell_type": "markdown",
   "metadata": {
    "colab_type": "text",
    "id": "VxQmNXPa6pYS"
   },
   "source": [
    "* 열 멀티인덱스 : 생존자 정보"
   ]
  },
  {
   "cell_type": "code",
   "execution_count": 95,
   "metadata": {
    "colab": {
     "base_uri": "https://localhost:8080/",
     "height": 287
    },
    "colab_type": "code",
    "executionInfo": {
     "elapsed": 1240,
     "status": "ok",
     "timestamp": 1596112971222,
     "user": {
      "displayName": "contravia@naver.com",
      "photoUrl": "",
      "userId": "04072428075549197225"
     },
     "user_tz": -540
    },
    "id": "d5UyT5UrLbcy",
    "outputId": "2b7cfa70-f367-4d06-c41c-69c0a3a3909d"
   },
   "outputs": [
    {
     "data": {
      "text/html": [
       "<div>\n",
       "<style scoped>\n",
       "    .dataframe tbody tr th:only-of-type {\n",
       "        vertical-align: middle;\n",
       "    }\n",
       "\n",
       "    .dataframe tbody tr th {\n",
       "        vertical-align: top;\n",
       "    }\n",
       "\n",
       "    .dataframe thead tr th {\n",
       "        text-align: left;\n",
       "    }\n",
       "\n",
       "    .dataframe thead tr:last-of-type th {\n",
       "        text-align: right;\n",
       "    }\n",
       "</style>\n",
       "<table border=\"1\" class=\"dataframe\">\n",
       "  <thead>\n",
       "    <tr>\n",
       "      <th></th>\n",
       "      <th></th>\n",
       "      <th colspan=\"2\" halign=\"left\">mean</th>\n",
       "      <th colspan=\"2\" halign=\"left\">max</th>\n",
       "    </tr>\n",
       "    <tr>\n",
       "      <th></th>\n",
       "      <th></th>\n",
       "      <th>age</th>\n",
       "      <th>fare</th>\n",
       "      <th>age</th>\n",
       "      <th>fare</th>\n",
       "    </tr>\n",
       "    <tr>\n",
       "      <th>class</th>\n",
       "      <th>sex</th>\n",
       "      <th></th>\n",
       "      <th></th>\n",
       "      <th></th>\n",
       "      <th></th>\n",
       "    </tr>\n",
       "  </thead>\n",
       "  <tbody>\n",
       "    <tr>\n",
       "      <th rowspan=\"2\" valign=\"top\">First</th>\n",
       "      <th>female</th>\n",
       "      <td>34.939024</td>\n",
       "      <td>105.978159</td>\n",
       "      <td>63.0</td>\n",
       "      <td>512.3292</td>\n",
       "    </tr>\n",
       "    <tr>\n",
       "      <th>male</th>\n",
       "      <td>36.248000</td>\n",
       "      <td>74.637320</td>\n",
       "      <td>80.0</td>\n",
       "      <td>512.3292</td>\n",
       "    </tr>\n",
       "    <tr>\n",
       "      <th rowspan=\"2\" valign=\"top\">Second</th>\n",
       "      <th>female</th>\n",
       "      <td>28.080882</td>\n",
       "      <td>22.288989</td>\n",
       "      <td>55.0</td>\n",
       "      <td>65.0000</td>\n",
       "    </tr>\n",
       "    <tr>\n",
       "      <th>male</th>\n",
       "      <td>16.022000</td>\n",
       "      <td>21.095100</td>\n",
       "      <td>62.0</td>\n",
       "      <td>39.0000</td>\n",
       "    </tr>\n",
       "    <tr>\n",
       "      <th rowspan=\"2\" valign=\"top\">Third</th>\n",
       "      <th>female</th>\n",
       "      <td>19.329787</td>\n",
       "      <td>12.464526</td>\n",
       "      <td>63.0</td>\n",
       "      <td>31.3875</td>\n",
       "    </tr>\n",
       "    <tr>\n",
       "      <th>male</th>\n",
       "      <td>22.274211</td>\n",
       "      <td>15.579696</td>\n",
       "      <td>45.0</td>\n",
       "      <td>56.4958</td>\n",
       "    </tr>\n",
       "  </tbody>\n",
       "</table>\n",
       "</div>"
      ],
      "text/plain": [
       "                    mean               max          \n",
       "                     age        fare   age      fare\n",
       "class  sex                                          \n",
       "First  female  34.939024  105.978159  63.0  512.3292\n",
       "       male    36.248000   74.637320  80.0  512.3292\n",
       "Second female  28.080882   22.288989  55.0   65.0000\n",
       "       male    16.022000   21.095100  62.0   39.0000\n",
       "Third  female  19.329787   12.464526  63.0   31.3875\n",
       "       male    22.274211   15.579696  45.0   56.4958"
      ]
     },
     "execution_count": 95,
     "metadata": {},
     "output_type": "execute_result"
    }
   ],
   "source": [
    "DF_3.xs(1, level = 'survived', axis = 1)"
   ]
  }
 ],
 "metadata": {
  "colab": {
   "collapsed_sections": [],
   "name": "Data_Preprocessing.ipynb",
   "provenance": [],
   "toc_visible": true
  },
  "kernelspec": {
   "display_name": "Python 3",
   "language": "python",
   "name": "python3"
  },
  "language_info": {
   "codemirror_mode": {
    "name": "ipython",
    "version": 3
   },
   "file_extension": ".py",
   "mimetype": "text/x-python",
   "name": "python",
   "nbconvert_exporter": "python",
   "pygments_lexer": "ipython3",
   "version": "3.7.4"
  }
 },
 "nbformat": 4,
 "nbformat_minor": 1
}
